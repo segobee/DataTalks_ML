{
  "cells": [
    {
      "cell_type": "markdown",
      "id": "7291c1fb",
      "metadata": {
        "id": "7291c1fb"
      },
      "source": [
        "In this homework project, we'll build a model for predicting if we have an image of a dino or a dragon. For this, we will use the \"Dino or Dragon?\"\n",
        "\n",
        "The dataset was sourced from kaggle....."
      ]
    },
    {
      "cell_type": "code",
      "source": [
        "from google.colab import drive\n",
        "drive.mount('/content/drive')"
      ],
      "metadata": {
        "colab": {
          "base_uri": "https://localhost:8080/"
        },
        "id": "HA7OxDN18fWT",
        "outputId": "c2ab374e-26de-45d6-e170-89fc24d98b41"
      },
      "id": "HA7OxDN18fWT",
      "execution_count": 1,
      "outputs": [
        {
          "output_type": "stream",
          "name": "stdout",
          "text": [
            "Mounted at /content/drive\n"
          ]
        }
      ]
    },
    {
      "cell_type": "code",
      "execution_count": 2,
      "id": "e3df0add",
      "metadata": {
        "id": "e3df0add"
      },
      "outputs": [],
      "source": [
        "# importing the libraries \n",
        "\n",
        "import numpy as np\n",
        "import pandas as pd\n",
        "import matplotlib.pyplot as plt\n",
        "\n",
        "# loading tensorflow and keras\n",
        "import tensorflow as tf\n",
        "from tensorflow import keras\n",
        "\n",
        "# importing the keras image loading module\n",
        "from tensorflow.keras.preprocessing.image import load_img\n",
        "\n",
        "%matplotlib inline"
      ]
    },
    {
      "cell_type": "code",
      "source": [
        "## This cell contains the frameworks for building the model from scratch\n",
        "\n",
        "##### Importing Sequential #######\n",
        "\n",
        "from keras.models import Sequential\n",
        "# This gets our neural network as sequential network.\n",
        "# Note: it can be sequential layers or graph\n",
        "\n",
        "##### Import 2D convolution layers ######\n",
        "\n",
        "from keras.layers import Conv2D\n",
        "# Since we are working with images, all the images are basically 2D\n",
        "# One can go with the 3D if working with videos\n",
        "\n",
        "##### Importing Maxpooling2D ####\n",
        "\n",
        "from keras.layers import MaxPooling2D\n",
        "# Note: we have Average Pooling, Sum Pooling, and Max Pooling \n",
        "# But for this project, I will be choosing MaxPooling \n",
        "\n",
        "##### Importing flatten #####\n",
        "\n",
        "from keras.layers import Flatten\n",
        "# This fasten the process of converting all the resultant 2D arrays as single long continuous linear vector \n",
        "\n",
        "##### Impoting Dense #####\n",
        "\n",
        "from keras.layers import Dense\n",
        "# This connect networks (vector representation) to the output (prediction)\n",
        "\n",
        "##### Importing image preprocessing #### \n",
        "from keras.preprocessing.image import ImageDataGenerator\n"
      ],
      "metadata": {
        "id": "Y8kE8LGn-gCs"
      },
      "id": "Y8kE8LGn-gCs",
      "execution_count": 3,
      "outputs": []
    },
    {
      "cell_type": "code",
      "source": [
        "##### Setting up the model learning frameworks ######\n",
        "\n",
        "##### here, I will consider model convolution, pooling, and flattening\n",
        "\n",
        "### Initialize the Convolution Neural Networks \n",
        "\n",
        "model_clf = Sequential()\n",
        "\n",
        "### Setting up the convolution framework\n",
        "##### Arguements ######\n",
        "# 1. filter ==> 32\n",
        "# 2. size of filters (kernel size) ==> (3, 3)\n",
        "# 3. activation function ==> 'relu'\n",
        "# 4. input image resolution ==> (150, 150, 3)\n",
        "\n",
        "model_clf.add(Conv2D(32, (3, 3), input_shape = (150, 150, 3), activation = 'relu'))\n",
        "\n",
        "\n",
        "### Setting the Pooling \n",
        "##### Arguements ######\n",
        "# 1. We are choosing maxpooling \n",
        "# 2. Making the pooling size to be ==> (2, 2)\n",
        "\n",
        "model_clf.add(MaxPooling2D(pool_size = (2, 2)))\n",
        "\n",
        "##### Flatten the networks\n",
        "# converting the pooled image pixels to a one dimensional single vector representation\n",
        "\n",
        "model_clf.add(Flatten())\n",
        "\n",
        "########## Creating Dense Layers Frameworks #################\n",
        "\n",
        "### Dense layers (first layer)\n",
        "###### Arguements #####\n",
        "# 1. neurons ==> 64\n",
        "# 2. activation function ==> 'relu'\n",
        "\n",
        "model_clf.add(Dense(units = 64, activation = 'relu'))\n",
        "\n",
        "### Dense layers (last layer) ==> Output Dense ####\n",
        "###### Arguements #####\n",
        "# 1. neurons ==> 1 (since it's binary classification)\n",
        "# 2. activation function ==> 'sigmoid'\n",
        "\n",
        "model_clf.add(Dense(units = 1, activation = 'sigmoid'))\n",
        "\n",
        "\n",
        "######## Compilng the model frameworks ######\n",
        "\n",
        "#### Setting the optimizer \n",
        "# I will be using SDG with;\n",
        "# learning rate ==> 0.002\n",
        "# momentum ==> 0.8\n",
        "\n",
        "\n",
        "learning_rate = 0.002\n",
        "momentum = 0.8\n",
        "optimizer = keras.optimizers.SGD(learning_rate=learning_rate, momentum=momentum)\n",
        "\n",
        "\n",
        "##### Setting the loss function\n",
        "# since the project problem is binary classification, \n",
        "# I will be using Binary Cross entropy\n",
        "\n",
        "loss = keras.losses.BinaryCrossentropy()\n",
        "\n",
        "# compiling the model\n",
        "model_clf.compile(optimizer=optimizer, \n",
        "                  loss=loss, \n",
        "                  metrics=['accuracy'])"
      ],
      "metadata": {
        "id": "5rfba5V3ymxa"
      },
      "id": "5rfba5V3ymxa",
      "execution_count": 4,
      "outputs": []
    },
    {
      "cell_type": "code",
      "source": [
        "model_clf.summary()"
      ],
      "metadata": {
        "colab": {
          "base_uri": "https://localhost:8080/"
        },
        "id": "UKhzLZG0ynlL",
        "outputId": "5034d2ee-d405-4552-82f5-c27a5466cda4"
      },
      "id": "UKhzLZG0ynlL",
      "execution_count": 5,
      "outputs": [
        {
          "output_type": "stream",
          "name": "stdout",
          "text": [
            "Model: \"sequential\"\n",
            "_________________________________________________________________\n",
            " Layer (type)                Output Shape              Param #   \n",
            "=================================================================\n",
            " conv2d (Conv2D)             (None, 148, 148, 32)      896       \n",
            "                                                                 \n",
            " max_pooling2d (MaxPooling2D  (None, 74, 74, 32)       0         \n",
            " )                                                               \n",
            "                                                                 \n",
            " flatten (Flatten)           (None, 175232)            0         \n",
            "                                                                 \n",
            " dense (Dense)               (None, 64)                11214912  \n",
            "                                                                 \n",
            " dense_1 (Dense)             (None, 1)                 65        \n",
            "                                                                 \n",
            "=================================================================\n",
            "Total params: 11,215,873\n",
            "Trainable params: 11,215,873\n",
            "Non-trainable params: 0\n",
            "_________________________________________________________________\n"
          ]
        }
      ]
    },
    {
      "cell_type": "markdown",
      "source": [
        "Setting up the Data generator and Training "
      ],
      "metadata": {
        "id": "1HXujDjrG2GI"
      },
      "id": "1HXujDjrG2GI"
    },
    {
      "cell_type": "code",
      "source": [
        "#### Training data generator ########\n",
        "\n",
        "train_gen = ImageDataGenerator(rescale=1./255)\n",
        "\n",
        "train_ds = train_gen.flow_from_directory('/content/drive/MyDrive/7. Neural_Networks_&_Deep_Learning/homework/train',\n",
        "                                         target_size=(150, 150), \n",
        "                                         batch_size=20,\n",
        "                                         shuffle=True)\n",
        "\n",
        "#### Testing data generator ########\n",
        "\n",
        "test_gen = ImageDataGenerator(rescale=1./255)\n",
        "\n",
        "test_ds = test_gen.flow_from_directory('/content/drive/MyDrive/7. Neural_Networks_&_Deep_Learning/homework/test',\n",
        "                                         target_size=(150, 150), \n",
        "                                         batch_size=20,\n",
        "                                         shuffle=True)"
      ],
      "metadata": {
        "colab": {
          "base_uri": "https://localhost:8080/"
        },
        "id": "1DBVPavKynme",
        "outputId": "34e994bf-3162-4164-cc40-7e98bf106a6e"
      },
      "id": "1DBVPavKynme",
      "execution_count": 6,
      "outputs": [
        {
          "output_type": "stream",
          "name": "stdout",
          "text": [
            "Found 1617 images belonging to 2 classes.\n",
            "Found 394 images belonging to 2 classes.\n"
          ]
        }
      ]
    },
    {
      "cell_type": "code",
      "source": [
        "train_ds.class_mode, test_ds.class_mode"
      ],
      "metadata": {
        "colab": {
          "base_uri": "https://localhost:8080/"
        },
        "id": "euqLqu_UGzqx",
        "outputId": "7f893590-83de-4e09-f703-965d18faa62c"
      },
      "id": "euqLqu_UGzqx",
      "execution_count": 7,
      "outputs": [
        {
          "output_type": "execute_result",
          "data": {
            "text/plain": [
              "('categorical', 'categorical')"
            ]
          },
          "metadata": {},
          "execution_count": 7
        }
      ]
    },
    {
      "cell_type": "code",
      "source": [
        "train_ds.class_indices"
      ],
      "metadata": {
        "colab": {
          "base_uri": "https://localhost:8080/"
        },
        "id": "cSJ-9Qz_59DD",
        "outputId": "c277e3f5-cfae-443f-9ad0-93ee0f4af373"
      },
      "id": "cSJ-9Qz_59DD",
      "execution_count": 8,
      "outputs": [
        {
          "output_type": "execute_result",
          "data": {
            "text/plain": [
              "{'dino': 0, 'dragon': 1}"
            ]
          },
          "metadata": {},
          "execution_count": 8
        }
      ]
    },
    {
      "cell_type": "code",
      "source": [
        "# track histories across training sessions\n",
        "histories = []\n",
        "histories.append(\n",
        "    model_clf.fit(train_ds, epochs=10, validation_data=test_ds, \n",
        "                  callbacks=[keras.callbacks.CSVLogger('history.csv')])\n",
        "    )"
      ],
      "metadata": {
        "colab": {
          "base_uri": "https://localhost:8080/"
        },
        "id": "-Rrk8QjYcd6g",
        "outputId": "c775bc97-6726-4eb0-c11b-3daf2bb3eeee"
      },
      "id": "-Rrk8QjYcd6g",
      "execution_count": 11,
      "outputs": [
        {
          "output_type": "stream",
          "name": "stdout",
          "text": [
            "Epoch 1/10\n",
            "81/81 [==============================] - 942s 12s/step - loss: 0.6935 - accuracy: 0.5000 - val_loss: 0.6934 - val_accuracy: 0.5000\n",
            "Epoch 2/10\n",
            "81/81 [==============================] - 13s 160ms/step - loss: 0.6933 - accuracy: 0.5000 - val_loss: 0.6933 - val_accuracy: 0.5000\n",
            "Epoch 3/10\n",
            "81/81 [==============================] - 11s 142ms/step - loss: 0.6933 - accuracy: 0.5000 - val_loss: 0.6933 - val_accuracy: 0.5000\n",
            "Epoch 4/10\n",
            "81/81 [==============================] - 11s 141ms/step - loss: 0.6933 - accuracy: 0.5000 - val_loss: 0.6933 - val_accuracy: 0.5000\n",
            "Epoch 5/10\n",
            "81/81 [==============================] - 12s 146ms/step - loss: 0.6933 - accuracy: 0.5000 - val_loss: 0.6932 - val_accuracy: 0.5000\n",
            "Epoch 6/10\n",
            "81/81 [==============================] - 13s 158ms/step - loss: 0.6932 - accuracy: 0.5000 - val_loss: 0.6932 - val_accuracy: 0.5000\n",
            "Epoch 7/10\n",
            "81/81 [==============================] - 11s 142ms/step - loss: 0.6932 - accuracy: 0.5000 - val_loss: 0.6932 - val_accuracy: 0.5000\n",
            "Epoch 8/10\n",
            "81/81 [==============================] - 11s 141ms/step - loss: 0.6932 - accuracy: 0.5000 - val_loss: 0.6932 - val_accuracy: 0.5000\n",
            "Epoch 9/10\n",
            "81/81 [==============================] - 12s 154ms/step - loss: 0.6932 - accuracy: 0.5000 - val_loss: 0.6932 - val_accuracy: 0.5000\n",
            "Epoch 10/10\n",
            "81/81 [==============================] - 11s 141ms/step - loss: 0.6932 - accuracy: 0.5000 - val_loss: 0.6932 - val_accuracy: 0.5000\n"
          ]
        }
      ]
    },
    {
      "cell_type": "code",
      "source": [
        "def plot_histories(histories):\n",
        "    plt.clf()\n",
        "    accuracy = []\n",
        "    for history in histories:\n",
        "        for val_accuracy in history.history['val_accuracy']:\n",
        "          accuracy.append(val_accuracy)\n",
        "    epochs = range(1, len(accuracy) + 1)\n",
        "\n",
        "    plt.plot(epochs, accuracy, 'b', label='Test Accuracy')\n",
        "    plt.xlabel('Epochs')\n",
        "    plt.title('Test Accuracy')\n",
        "    plt.legend()\n",
        "    plt.show()"
      ],
      "metadata": {
        "id": "uWw2F0cdGz76"
      },
      "id": "uWw2F0cdGz76",
      "execution_count": 12,
      "outputs": []
    },
    {
      "cell_type": "code",
      "source": [
        "# plotting \n",
        "plot_histories(histories)\n"
      ],
      "metadata": {
        "colab": {
          "base_uri": "https://localhost:8080/",
          "height": 295
        },
        "id": "tf6DF6otdreH",
        "outputId": "151628c6-421e-4655-9868-f51334e9a4e8"
      },
      "id": "tf6DF6otdreH",
      "execution_count": 13,
      "outputs": [
        {
          "output_type": "display_data",
          "data": {
            "text/plain": [
              "<Figure size 432x288 with 1 Axes>"
            ],
            "image/png": "[encoded data removed]"
          },
          "metadata": {
            "needs_background": "light"
          }
        }
      ]
    },
    {
      "cell_type": "code",
      "source": [
        "hist_df1 = pd.read_csv('/content/history.csv')\n",
        "hist_df1"
      ],
      "metadata": {
        "colab": {
          "base_uri": "https://localhost:8080/",
          "height": 363
        },
        "id": "s9IwSBJR2jWb",
        "outputId": "538b3bc9-e64b-4f2f-8a4b-da75bebd8eda"
      },
      "id": "s9IwSBJR2jWb",
      "execution_count": 14,
      "outputs": [
        {
          "output_type": "execute_result",
          "data": {
            "text/plain": [
              "   epoch  accuracy      loss  val_accuracy  val_loss\n",
              "0      0       0.5  0.693512           0.5  0.693353\n",
              "1      1       0.5  0.693327           0.5  0.693287\n",
              "2      2       0.5  0.693288           0.5  0.693263\n",
              "3      3       0.5  0.693272           0.5  0.693254\n",
              "4      4       0.5  0.693259           0.5  0.693248\n",
              "5      5       0.5  0.693250           0.5  0.693243\n",
              "6      6       0.5  0.693243           0.5  0.693245\n",
              "7      7       0.5  0.693236           0.5  0.693246\n",
              "8      8       0.5  0.693231           0.5  0.693236\n",
              "9      9       0.5  0.693226           0.5  0.693237"
            ],
            "text/html": [
              "\n",
              "  <div id=\"df-4584bc3f-5d5e-488d-a884-f53829309262\">\n",
              "    <div class=\"colab-df-container\">\n",
              "      <div>\n",
              "<style scoped>\n",
              "    .dataframe tbody tr th:only-of-type {\n",
              "        vertical-align: middle;\n",
              "    }\n",
              "\n",
              "    .dataframe tbody tr th {\n",
              "        vertical-align: top;\n",
              "    }\n",
              "\n",
              "    .dataframe thead th {\n",
              "        text-align: right;\n",
              "    }\n",
              "</style>\n",
              "<table border=\"1\" class=\"dataframe\">\n",
              "  <thead>\n",
              "    <tr style=\"text-align: right;\">\n",
              "      <th></th>\n",
              "      <th>epoch</th>\n",
              "      <th>accuracy</th>\n",
              "      <th>loss</th>\n",
              "      <th>val_accuracy</th>\n",
              "      <th>val_loss</th>\n",
              "    </tr>\n",
              "  </thead>\n",
              "  <tbody>\n",
              "    <tr>\n",
              "      <th>0</th>\n",
              "      <td>0</td>\n",
              "      <td>0.5</td>\n",
              "      <td>0.693512</td>\n",
              "      <td>0.5</td>\n",
              "      <td>0.693353</td>\n",
              "    </tr>\n",
              "    <tr>\n",
              "      <th>1</th>\n",
              "      <td>1</td>\n",
              "      <td>0.5</td>\n",
              "      <td>0.693327</td>\n",
              "      <td>0.5</td>\n",
              "      <td>0.693287</td>\n",
              "    </tr>\n",
              "    <tr>\n",
              "      <th>2</th>\n",
              "      <td>2</td>\n",
              "      <td>0.5</td>\n",
              "      <td>0.693288</td>\n",
              "      <td>0.5</td>\n",
              "      <td>0.693263</td>\n",
              "    </tr>\n",
              "    <tr>\n",
              "      <th>3</th>\n",
              "      <td>3</td>\n",
              "      <td>0.5</td>\n",
              "      <td>0.693272</td>\n",
              "      <td>0.5</td>\n",
              "      <td>0.693254</td>\n",
              "    </tr>\n",
              "    <tr>\n",
              "      <th>4</th>\n",
              "      <td>4</td>\n",
              "      <td>0.5</td>\n",
              "      <td>0.693259</td>\n",
              "      <td>0.5</td>\n",
              "      <td>0.693248</td>\n",
              "    </tr>\n",
              "    <tr>\n",
              "      <th>5</th>\n",
              "      <td>5</td>\n",
              "      <td>0.5</td>\n",
              "      <td>0.693250</td>\n",
              "      <td>0.5</td>\n",
              "      <td>0.693243</td>\n",
              "    </tr>\n",
              "    <tr>\n",
              "      <th>6</th>\n",
              "      <td>6</td>\n",
              "      <td>0.5</td>\n",
              "      <td>0.693243</td>\n",
              "      <td>0.5</td>\n",
              "      <td>0.693245</td>\n",
              "    </tr>\n",
              "    <tr>\n",
              "      <th>7</th>\n",
              "      <td>7</td>\n",
              "      <td>0.5</td>\n",
              "      <td>0.693236</td>\n",
              "      <td>0.5</td>\n",
              "      <td>0.693246</td>\n",
              "    </tr>\n",
              "    <tr>\n",
              "      <th>8</th>\n",
              "      <td>8</td>\n",
              "      <td>0.5</td>\n",
              "      <td>0.693231</td>\n",
              "      <td>0.5</td>\n",
              "      <td>0.693236</td>\n",
              "    </tr>\n",
              "    <tr>\n",
              "      <th>9</th>\n",
              "      <td>9</td>\n",
              "      <td>0.5</td>\n",
              "      <td>0.693226</td>\n",
              "      <td>0.5</td>\n",
              "      <td>0.693237</td>\n",
              "    </tr>\n",
              "  </tbody>\n",
              "</table>\n",
              "</div>\n",
              "      <button class=\"colab-df-convert\" onclick=\"convertToInteractive('df-4584bc3f-5d5e-488d-a884-f53829309262')\"\n",
              "              title=\"Convert this dataframe to an interactive table.\"\n",
              "              style=\"display:none;\">\n",
              "        \n",
              "  <svg xmlns=\"http://www.w3.org/2000/svg\" height=\"24px\"viewBox=\"0 0 24 24\"\n",
              "       width=\"24px\">\n",
              "    <path d=\"M0 0h24v24H0V0z\" fill=\"none\"/>\n",
              "    <path d=\"M18.56 5.44l.94 2.06.94-2.06 2.06-.94-2.06-.94-.94-2.06-.94 2.06-2.06.94zm-11 1L8.5 8.5l.94-2.06 2.06-.94-2.06-.94L8.5 2.5l-.94 2.06-2.06.94zm10 10l.94 2.06.94-2.06 2.06-.94-2.06-.94-.94-2.06-.94 2.06-2.06.94z\"/><path d=\"M17.41 7.96l-1.37-1.37c-.4-.4-.92-.59-1.43-.59-.52 0-1.04.2-1.43.59L10.3 9.45l-7.72 7.72c-.78.78-.78 2.05 0 2.83L4 21.41c.39.39.9.59 1.41.59.51 0 1.02-.2 1.41-.59l7.78-7.78 2.81-2.81c.8-.78.8-2.07 0-2.86zM5.41 20L4 18.59l7.72-7.72 1.47 1.35L5.41 20z\"/>\n",
              "  </svg>\n",
              "      </button>\n",
              "      \n",
              "  <style>\n",
              "    .colab-df-container {\n",
              "      display:flex;\n",
              "      flex-wrap:wrap;\n",
              "      gap: 12px;\n",
              "    }\n",
              "\n",
              "    .colab-df-convert {\n",
              "      background-color: #E8F0FE;\n",
              "      border: none;\n",
              "      border-radius: 50%;\n",
              "      cursor: pointer;\n",
              "      display: none;\n",
              "      fill: #1967D2;\n",
              "      height: 32px;\n",
              "      padding: 0 0 0 0;\n",
              "      width: 32px;\n",
              "    }\n",
              "\n",
              "    .colab-df-convert:hover {\n",
              "      background-color: #E2EBFA;\n",
              "      box-shadow: 0px 1px 2px rgba(60, 64, 67, 0.3), 0px 1px 3px 1px rgba(60, 64, 67, 0.15);\n",
              "      fill: #174EA6;\n",
              "    }\n",
              "\n",
              "    [theme=dark] .colab-df-convert {\n",
              "      background-color: #3B4455;\n",
              "      fill: #D2E3FC;\n",
              "    }\n",
              "\n",
              "    [theme=dark] .colab-df-convert:hover {\n",
              "      background-color: #434B5C;\n",
              "      box-shadow: 0px 1px 3px 1px rgba(0, 0, 0, 0.15);\n",
              "      filter: drop-shadow(0px 1px 2px rgba(0, 0, 0, 0.3));\n",
              "      fill: #FFFFFF;\n",
              "    }\n",
              "  </style>\n",
              "\n",
              "      <script>\n",
              "        const buttonEl =\n",
              "          document.querySelector('#df-4584bc3f-5d5e-488d-a884-f53829309262 button.colab-df-convert');\n",
              "        buttonEl.style.display =\n",
              "          google.colab.kernel.accessAllowed ? 'block' : 'none';\n",
              "\n",
              "        async function convertToInteractive(key) {\n",
              "          const element = document.querySelector('#df-4584bc3f-5d5e-488d-a884-f53829309262');\n",
              "          const dataTable =\n",
              "            await google.colab.kernel.invokeFunction('convertToInteractive',\n",
              "                                                     [key], {});\n",
              "          if (!dataTable) return;\n",
              "\n",
              "          const docLinkHtml = 'Like what you see? Visit the ' +\n",
              "            '<a target=\"_blank\" href=https://colab.research.google.com/notebooks/data_table.ipynb>data table notebook</a>'\n",
              "            + ' to learn more about interactive tables.';\n",
              "          element.innerHTML = '';\n",
              "          dataTable['output_type'] = 'display_data';\n",
              "          await google.colab.output.renderOutput(dataTable, element);\n",
              "          const docLink = document.createElement('div');\n",
              "          docLink.innerHTML = docLinkHtml;\n",
              "          element.appendChild(docLink);\n",
              "        }\n",
              "      </script>\n",
              "    </div>\n",
              "  </div>\n",
              "  "
            ]
          },
          "metadata": {},
          "execution_count": 14
        }
      ]
    },
    {
      "cell_type": "code",
      "source": [
        "hist_df1.accuracy.median()"
      ],
      "metadata": {
        "colab": {
          "base_uri": "https://localhost:8080/"
        },
        "id": "cbkqDqMI2k_w",
        "outputId": "d1421240-c157-4dde-a909-e761fd3fba37"
      },
      "id": "cbkqDqMI2k_w",
      "execution_count": 15,
      "outputs": [
        {
          "output_type": "execute_result",
          "data": {
            "text/plain": [
              "0.5"
            ]
          },
          "metadata": {},
          "execution_count": 15
        }
      ]
    },
    {
      "cell_type": "code",
      "source": [
        "hist_df1.loss.std()"
      ],
      "metadata": {
        "colab": {
          "base_uri": "https://localhost:8080/"
        },
        "id": "m3n4wRff2lL2",
        "outputId": "cd56a334-c518-46bf-e572-cf8da7426d33"
      },
      "id": "m3n4wRff2lL2",
      "execution_count": 16,
      "outputs": [
        {
          "output_type": "execute_result",
          "data": {
            "text/plain": [
              "8.559013085539303e-05"
            ]
          },
          "metadata": {},
          "execution_count": 16
        }
      ]
    },
    {
      "cell_type": "markdown",
      "source": [
        "Data Augumentation"
      ],
      "metadata": {
        "id": "TrnfM2CEddGf"
      },
      "id": "TrnfM2CEddGf"
    },
    {
      "cell_type": "code",
      "source": [
        "train_gen = ImageDataGenerator(rotation_range=40,\n",
        "                               width_shift_range=0.2,\n",
        "                               height_shift_range=0.2,\n",
        "                               shear_range=0.2,\n",
        "                               zoom_range=0.2,\n",
        "                               horizontal_flip=True,\n",
        "                               fill_mode='nearest')\n",
        "\n",
        "train_ds = train_gen.flow_from_directory('/content/drive/MyDrive/7. Neural_Networks_&_Deep_Learning/homework/train',\n",
        "                                         target_size=(150, 150), \n",
        "                                         batch_size=20,\n",
        "                                         shuffle=True)"
      ],
      "metadata": {
        "colab": {
          "base_uri": "https://localhost:8080/"
        },
        "id": "L4yNZSSpGz-5",
        "outputId": "e3a756e0-5b40-4dcb-ad4f-f678f0c3cdec"
      },
      "id": "L4yNZSSpGz-5",
      "execution_count": 17,
      "outputs": [
        {
          "output_type": "stream",
          "name": "stdout",
          "text": [
            "Found 1617 images belonging to 2 classes.\n"
          ]
        }
      ]
    },
    {
      "cell_type": "code",
      "source": [
        "# continue training\n",
        "histories.append(\n",
        "    model_clf.fit(train_ds, epochs=10, validation_data=test_ds, \n",
        "                  callbacks=[keras.callbacks.CSVLogger('history2.csv')])\n",
        "    )"
      ],
      "metadata": {
        "colab": {
          "base_uri": "https://localhost:8080/"
        },
        "id": "7A5zqbsaG0Db",
        "outputId": "2b0dcb9a-fa78-4c63-f30f-322571c19258"
      },
      "id": "7A5zqbsaG0Db",
      "execution_count": 18,
      "outputs": [
        {
          "output_type": "stream",
          "name": "stdout",
          "text": [
            "Epoch 1/10\n",
            "81/81 [==============================] - 18s 228ms/step - loss: 15.4189 - accuracy: 0.5000 - val_loss: 0.6932 - val_accuracy: 0.5000\n",
            "Epoch 2/10\n",
            "81/81 [==============================] - 19s 240ms/step - loss: 0.6932 - accuracy: 0.5000 - val_loss: 0.6932 - val_accuracy: 0.5000\n",
            "Epoch 3/10\n",
            "81/81 [==============================] - 18s 224ms/step - loss: 0.6932 - accuracy: 0.5000 - val_loss: 0.6931 - val_accuracy: 0.5000\n",
            "Epoch 4/10\n",
            "81/81 [==============================] - 21s 259ms/step - loss: 0.6932 - accuracy: 0.5000 - val_loss: 0.6931 - val_accuracy: 0.5000\n",
            "Epoch 5/10\n",
            "81/81 [==============================] - 18s 227ms/step - loss: 0.6931 - accuracy: 0.5000 - val_loss: 0.6931 - val_accuracy: 0.5000\n",
            "Epoch 6/10\n",
            "81/81 [==============================] - 19s 238ms/step - loss: 0.6932 - accuracy: 0.5000 - val_loss: 0.6931 - val_accuracy: 0.5000\n",
            "Epoch 7/10\n",
            "81/81 [==============================] - 18s 228ms/step - loss: 0.6931 - accuracy: 0.5000 - val_loss: 0.6931 - val_accuracy: 0.5000\n",
            "Epoch 8/10\n",
            "81/81 [==============================] - 20s 243ms/step - loss: 0.6932 - accuracy: 0.5000 - val_loss: 0.6931 - val_accuracy: 0.5000\n",
            "Epoch 9/10\n",
            "81/81 [==============================] - 19s 230ms/step - loss: 0.6932 - accuracy: 0.5000 - val_loss: 0.6931 - val_accuracy: 0.5000\n",
            "Epoch 10/10\n",
            "81/81 [==============================] - 19s 230ms/step - loss: 0.6931 - accuracy: 0.5000 - val_loss: 0.6931 - val_accuracy: 0.5000\n"
          ]
        }
      ]
    },
    {
      "cell_type": "code",
      "source": [
        "# plotting \n",
        "plot_histories(histories)"
      ],
      "metadata": {
        "colab": {
          "base_uri": "https://localhost:8080/",
          "height": 295
        },
        "id": "4mylhkZBynqN",
        "outputId": "c9540da7-6d2e-41e7-8490-e634f7cc4452"
      },
      "id": "4mylhkZBynqN",
      "execution_count": 19,
      "outputs": [
        {
          "output_type": "display_data",
          "data": {
            "text/plain": [
              "<Figure size 432x288 with 1 Axes>"
            ],
            "image/png": "[encoded data removed]"
          },
          "metadata": {
            "needs_background": "light"
          }
        }
      ]
    },
    {
      "cell_type": "code",
      "source": [
        "hist_df2 = pd.read_csv('/content/history2.csv')\n",
        "hist_df2"
      ],
      "metadata": {
        "colab": {
          "base_uri": "https://localhost:8080/",
          "height": 363
        },
        "id": "_XuApEyTwKfa",
        "outputId": "9ea2b5c0-b31e-4cb0-fe3d-1ef84133421f"
      },
      "id": "_XuApEyTwKfa",
      "execution_count": 20,
      "outputs": [
        {
          "output_type": "execute_result",
          "data": {
            "text/plain": [
              "   epoch  accuracy       loss  val_accuracy  val_loss\n",
              "0      0       0.5  15.418944           0.5  0.693154\n",
              "1      1       0.5   0.693152           0.5  0.693150\n",
              "2      2       0.5   0.693157           0.5  0.693149\n",
              "3      3       0.5   0.693153           0.5  0.693148\n",
              "4      4       0.5   0.693149           0.5  0.693148\n",
              "5      5       0.5   0.693173           0.5  0.693147\n",
              "6      6       0.5   0.693148           0.5  0.693147\n",
              "7      7       0.5   0.693156           0.5  0.693147\n",
              "8      8       0.5   0.693150           0.5  0.693147\n",
              "9      9       0.5   0.693148           0.5  0.693147"
            ],
            "text/html": [
              "\n",
              "  <div id=\"df-1edbe002-1d5a-4631-9fca-7d4e0335b872\">\n",
              "    <div class=\"colab-df-container\">\n",
              "      <div>\n",
              "<style scoped>\n",
              "    .dataframe tbody tr th:only-of-type {\n",
              "        vertical-align: middle;\n",
              "    }\n",
              "\n",
              "    .dataframe tbody tr th {\n",
              "        vertical-align: top;\n",
              "    }\n",
              "\n",
              "    .dataframe thead th {\n",
              "        text-align: right;\n",
              "    }\n",
              "</style>\n",
              "<table border=\"1\" class=\"dataframe\">\n",
              "  <thead>\n",
              "    <tr style=\"text-align: right;\">\n",
              "      <th></th>\n",
              "      <th>epoch</th>\n",
              "      <th>accuracy</th>\n",
              "      <th>loss</th>\n",
              "      <th>val_accuracy</th>\n",
              "      <th>val_loss</th>\n",
              "    </tr>\n",
              "  </thead>\n",
              "  <tbody>\n",
              "    <tr>\n",
              "      <th>0</th>\n",
              "      <td>0</td>\n",
              "      <td>0.5</td>\n",
              "      <td>15.418944</td>\n",
              "      <td>0.5</td>\n",
              "      <td>0.693154</td>\n",
              "    </tr>\n",
              "    <tr>\n",
              "      <th>1</th>\n",
              "      <td>1</td>\n",
              "      <td>0.5</td>\n",
              "      <td>0.693152</td>\n",
              "      <td>0.5</td>\n",
              "      <td>0.693150</td>\n",
              "    </tr>\n",
              "    <tr>\n",
              "      <th>2</th>\n",
              "      <td>2</td>\n",
              "      <td>0.5</td>\n",
              "      <td>0.693157</td>\n",
              "      <td>0.5</td>\n",
              "      <td>0.693149</td>\n",
              "    </tr>\n",
              "    <tr>\n",
              "      <th>3</th>\n",
              "      <td>3</td>\n",
              "      <td>0.5</td>\n",
              "      <td>0.693153</td>\n",
              "      <td>0.5</td>\n",
              "      <td>0.693148</td>\n",
              "    </tr>\n",
              "    <tr>\n",
              "      <th>4</th>\n",
              "      <td>4</td>\n",
              "      <td>0.5</td>\n",
              "      <td>0.693149</td>\n",
              "      <td>0.5</td>\n",
              "      <td>0.693148</td>\n",
              "    </tr>\n",
              "    <tr>\n",
              "      <th>5</th>\n",
              "      <td>5</td>\n",
              "      <td>0.5</td>\n",
              "      <td>0.693173</td>\n",
              "      <td>0.5</td>\n",
              "      <td>0.693147</td>\n",
              "    </tr>\n",
              "    <tr>\n",
              "      <th>6</th>\n",
              "      <td>6</td>\n",
              "      <td>0.5</td>\n",
              "      <td>0.693148</td>\n",
              "      <td>0.5</td>\n",
              "      <td>0.693147</td>\n",
              "    </tr>\n",
              "    <tr>\n",
              "      <th>7</th>\n",
              "      <td>7</td>\n",
              "      <td>0.5</td>\n",
              "      <td>0.693156</td>\n",
              "      <td>0.5</td>\n",
              "      <td>0.693147</td>\n",
              "    </tr>\n",
              "    <tr>\n",
              "      <th>8</th>\n",
              "      <td>8</td>\n",
              "      <td>0.5</td>\n",
              "      <td>0.693150</td>\n",
              "      <td>0.5</td>\n",
              "      <td>0.693147</td>\n",
              "    </tr>\n",
              "    <tr>\n",
              "      <th>9</th>\n",
              "      <td>9</td>\n",
              "      <td>0.5</td>\n",
              "      <td>0.693148</td>\n",
              "      <td>0.5</td>\n",
              "      <td>0.693147</td>\n",
              "    </tr>\n",
              "  </tbody>\n",
              "</table>\n",
              "</div>\n",
              "      <button class=\"colab-df-convert\" onclick=\"convertToInteractive('df-1edbe002-1d5a-4631-9fca-7d4e0335b872')\"\n",
              "              title=\"Convert this dataframe to an interactive table.\"\n",
              "              style=\"display:none;\">\n",
              "        \n",
              "  <svg xmlns=\"http://www.w3.org/2000/svg\" height=\"24px\"viewBox=\"0 0 24 24\"\n",
              "       width=\"24px\">\n",
              "    <path d=\"M0 0h24v24H0V0z\" fill=\"none\"/>\n",
              "    <path d=\"M18.56 5.44l.94 2.06.94-2.06 2.06-.94-2.06-.94-.94-2.06-.94 2.06-2.06.94zm-11 1L8.5 8.5l.94-2.06 2.06-.94-2.06-.94L8.5 2.5l-.94 2.06-2.06.94zm10 10l.94 2.06.94-2.06 2.06-.94-2.06-.94-.94-2.06-.94 2.06-2.06.94z\"/><path d=\"M17.41 7.96l-1.37-1.37c-.4-.4-.92-.59-1.43-.59-.52 0-1.04.2-1.43.59L10.3 9.45l-7.72 7.72c-.78.78-.78 2.05 0 2.83L4 21.41c.39.39.9.59 1.41.59.51 0 1.02-.2 1.41-.59l7.78-7.78 2.81-2.81c.8-.78.8-2.07 0-2.86zM5.41 20L4 18.59l7.72-7.72 1.47 1.35L5.41 20z\"/>\n",
              "  </svg>\n",
              "      </button>\n",
              "      \n",
              "  <style>\n",
              "    .colab-df-container {\n",
              "      display:flex;\n",
              "      flex-wrap:wrap;\n",
              "      gap: 12px;\n",
              "    }\n",
              "\n",
              "    .colab-df-convert {\n",
              "      background-color: #E8F0FE;\n",
              "      border: none;\n",
              "      border-radius: 50%;\n",
              "      cursor: pointer;\n",
              "      display: none;\n",
              "      fill: #1967D2;\n",
              "      height: 32px;\n",
              "      padding: 0 0 0 0;\n",
              "      width: 32px;\n",
              "    }\n",
              "\n",
              "    .colab-df-convert:hover {\n",
              "      background-color: #E2EBFA;\n",
              "      box-shadow: 0px 1px 2px rgba(60, 64, 67, 0.3), 0px 1px 3px 1px rgba(60, 64, 67, 0.15);\n",
              "      fill: #174EA6;\n",
              "    }\n",
              "\n",
              "    [theme=dark] .colab-df-convert {\n",
              "      background-color: #3B4455;\n",
              "      fill: #D2E3FC;\n",
              "    }\n",
              "\n",
              "    [theme=dark] .colab-df-convert:hover {\n",
              "      background-color: #434B5C;\n",
              "      box-shadow: 0px 1px 3px 1px rgba(0, 0, 0, 0.15);\n",
              "      filter: drop-shadow(0px 1px 2px rgba(0, 0, 0, 0.3));\n",
              "      fill: #FFFFFF;\n",
              "    }\n",
              "  </style>\n",
              "\n",
              "      <script>\n",
              "        const buttonEl =\n",
              "          document.querySelector('#df-1edbe002-1d5a-4631-9fca-7d4e0335b872 button.colab-df-convert');\n",
              "        buttonEl.style.display =\n",
              "          google.colab.kernel.accessAllowed ? 'block' : 'none';\n",
              "\n",
              "        async function convertToInteractive(key) {\n",
              "          const element = document.querySelector('#df-1edbe002-1d5a-4631-9fca-7d4e0335b872');\n",
              "          const dataTable =\n",
              "            await google.colab.kernel.invokeFunction('convertToInteractive',\n",
              "                                                     [key], {});\n",
              "          if (!dataTable) return;\n",
              "\n",
              "          const docLinkHtml = 'Like what you see? Visit the ' +\n",
              "            '<a target=\"_blank\" href=https://colab.research.google.com/notebooks/data_table.ipynb>data table notebook</a>'\n",
              "            + ' to learn more about interactive tables.';\n",
              "          element.innerHTML = '';\n",
              "          dataTable['output_type'] = 'display_data';\n",
              "          await google.colab.output.renderOutput(dataTable, element);\n",
              "          const docLink = document.createElement('div');\n",
              "          docLink.innerHTML = docLinkHtml;\n",
              "          element.appendChild(docLink);\n",
              "        }\n",
              "      </script>\n",
              "    </div>\n",
              "  </div>\n",
              "  "
            ]
          },
          "metadata": {},
          "execution_count": 20
        }
      ]
    },
    {
      "cell_type": "code",
      "source": [
        "hist_df2.val_loss.mean()"
      ],
      "metadata": {
        "colab": {
          "base_uri": "https://localhost:8080/"
        },
        "id": "fNlyZUMQ1qRg",
        "outputId": "bbbd7e36-61fe-48f0-9b98-1cf721c8205f"
      },
      "id": "fNlyZUMQ1qRg",
      "execution_count": 21,
      "outputs": [
        {
          "output_type": "execute_result",
          "data": {
            "text/plain": [
              "0.6931485891342163"
            ]
          },
          "metadata": {},
          "execution_count": 21
        }
      ]
    },
    {
      "cell_type": "code",
      "source": [],
      "metadata": {
        "id": "2WplUL9J7kLu"
      },
      "id": "2WplUL9J7kLu",
      "execution_count": 20,
      "outputs": []
    }
  ],
  "metadata": {
    "kernelspec": {
      "display_name": "Python 3",
      "language": "python",
      "name": "python3"
    },
    "language_info": {
      "codemirror_mode": {
        "name": "ipython",
        "version": 3
      },
      "file_extension": ".py",
      "mimetype": "text/x-python",
      "name": "python",
      "nbconvert_exporter": "python",
      "pygments_lexer": "ipython3",
      "version": "3.8.8"
    },
    "latex_envs": {
      "LaTeX_envs_menu_present": true,
      "autoclose": false,
      "autocomplete": true,
      "bibliofile": "biblio.bib",
      "cite_by": "apalike",
      "current_citInitial": 1,
      "eqLabelWithNumbers": true,
      "eqNumInitial": 1,
      "hotkeys": {
        "equation": "Ctrl-E",
        "itemize": "Ctrl-I"
      },
      "labels_anchors": false,
      "latex_user_defs": false,
      "report_style_numbering": false,
      "user_envs_cfg": false
    },
    "toc": {
      "base_numbering": 1,
      "nav_menu": {},
      "number_sections": true,
      "sideBar": true,
      "skip_h1_title": false,
      "title_cell": "Table of Contents",
      "title_sidebar": "Contents",
      "toc_cell": false,
      "toc_position": {},
      "toc_section_display": true,
      "toc_window_display": false
    },
    "colab": {
      "provenance": []
    },
    "accelerator": "GPU",
    "gpuClass": "standard"
  },
  "nbformat": 4,
  "nbformat_minor": 5
}