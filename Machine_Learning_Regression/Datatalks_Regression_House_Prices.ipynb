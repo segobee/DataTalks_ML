{
 "cells": [
  {
   "cell_type": "markdown",
   "id": "1b807873",
   "metadata": {},
   "source": [
    "# Project work"
   ]
  },
  {
   "cell_type": "markdown",
   "id": "3386061a",
   "metadata": {},
   "source": [
    "The goal of this homework is to create a regression model for predicting housing prices (column 'median_house_value')."
   ]
  },
  {
   "cell_type": "code",
   "execution_count": 1,
   "id": "78aea8d0",
   "metadata": {},
   "outputs": [],
   "source": [
    "import numpy as np\n",
    "import pandas as pd \n",
    "import matplotlib.pyplot as plt\n",
    "import seaborn as sns\n",
    "\n",
    "import warnings\n",
    "warnings.filterwarnings(\"ignore\")\n",
    "\n",
    "%matplotlib inline"
   ]
  },
  {
   "cell_type": "code",
   "execution_count": 2,
   "id": "75cd222a",
   "metadata": {},
   "outputs": [],
   "source": [
    "# import the dataset \n",
    "\n",
    "usecols = [\n",
    "    'latitude', 'longitude', 'housing_median_age',\n",
    "    'total_rooms', 'total_bedrooms', 'population', 'households',\n",
    "    'median_income', 'median_house_value'\n",
    "]"
   ]
  },
  {
   "cell_type": "code",
   "execution_count": 3,
   "id": "73ab31b9",
   "metadata": {},
   "outputs": [
    {
     "data": {
      "text/html": [
       "<div>\n",
       "<style scoped>\n",
       "    .dataframe tbody tr th:only-of-type {\n",
       "        vertical-align: middle;\n",
       "    }\n",
       "\n",
       "    .dataframe tbody tr th {\n",
       "        vertical-align: top;\n",
       "    }\n",
       "\n",
       "    .dataframe thead th {\n",
       "        text-align: right;\n",
       "    }\n",
       "</style>\n",
       "<table border=\"1\" class=\"dataframe\">\n",
       "  <thead>\n",
       "    <tr style=\"text-align: right;\">\n",
       "      <th></th>\n",
       "      <th>longitude</th>\n",
       "      <th>latitude</th>\n",
       "      <th>housing_median_age</th>\n",
       "      <th>total_rooms</th>\n",
       "      <th>total_bedrooms</th>\n",
       "      <th>population</th>\n",
       "      <th>households</th>\n",
       "      <th>median_income</th>\n",
       "      <th>median_house_value</th>\n",
       "    </tr>\n",
       "  </thead>\n",
       "  <tbody>\n",
       "    <tr>\n",
       "      <th>0</th>\n",
       "      <td>-122.23</td>\n",
       "      <td>37.88</td>\n",
       "      <td>41.0</td>\n",
       "      <td>880.0</td>\n",
       "      <td>129.0</td>\n",
       "      <td>322.0</td>\n",
       "      <td>126.0</td>\n",
       "      <td>8.3252</td>\n",
       "      <td>452600.0</td>\n",
       "    </tr>\n",
       "    <tr>\n",
       "      <th>1</th>\n",
       "      <td>-122.22</td>\n",
       "      <td>37.86</td>\n",
       "      <td>21.0</td>\n",
       "      <td>7099.0</td>\n",
       "      <td>1106.0</td>\n",
       "      <td>2401.0</td>\n",
       "      <td>1138.0</td>\n",
       "      <td>8.3014</td>\n",
       "      <td>358500.0</td>\n",
       "    </tr>\n",
       "    <tr>\n",
       "      <th>2</th>\n",
       "      <td>-122.24</td>\n",
       "      <td>37.85</td>\n",
       "      <td>52.0</td>\n",
       "      <td>1467.0</td>\n",
       "      <td>190.0</td>\n",
       "      <td>496.0</td>\n",
       "      <td>177.0</td>\n",
       "      <td>7.2574</td>\n",
       "      <td>352100.0</td>\n",
       "    </tr>\n",
       "    <tr>\n",
       "      <th>3</th>\n",
       "      <td>-122.25</td>\n",
       "      <td>37.85</td>\n",
       "      <td>52.0</td>\n",
       "      <td>1274.0</td>\n",
       "      <td>235.0</td>\n",
       "      <td>558.0</td>\n",
       "      <td>219.0</td>\n",
       "      <td>5.6431</td>\n",
       "      <td>341300.0</td>\n",
       "    </tr>\n",
       "    <tr>\n",
       "      <th>4</th>\n",
       "      <td>-122.25</td>\n",
       "      <td>37.85</td>\n",
       "      <td>52.0</td>\n",
       "      <td>1627.0</td>\n",
       "      <td>280.0</td>\n",
       "      <td>565.0</td>\n",
       "      <td>259.0</td>\n",
       "      <td>3.8462</td>\n",
       "      <td>342200.0</td>\n",
       "    </tr>\n",
       "    <tr>\n",
       "      <th>...</th>\n",
       "      <td>...</td>\n",
       "      <td>...</td>\n",
       "      <td>...</td>\n",
       "      <td>...</td>\n",
       "      <td>...</td>\n",
       "      <td>...</td>\n",
       "      <td>...</td>\n",
       "      <td>...</td>\n",
       "      <td>...</td>\n",
       "    </tr>\n",
       "    <tr>\n",
       "      <th>20635</th>\n",
       "      <td>-121.09</td>\n",
       "      <td>39.48</td>\n",
       "      <td>25.0</td>\n",
       "      <td>1665.0</td>\n",
       "      <td>374.0</td>\n",
       "      <td>845.0</td>\n",
       "      <td>330.0</td>\n",
       "      <td>1.5603</td>\n",
       "      <td>78100.0</td>\n",
       "    </tr>\n",
       "    <tr>\n",
       "      <th>20636</th>\n",
       "      <td>-121.21</td>\n",
       "      <td>39.49</td>\n",
       "      <td>18.0</td>\n",
       "      <td>697.0</td>\n",
       "      <td>150.0</td>\n",
       "      <td>356.0</td>\n",
       "      <td>114.0</td>\n",
       "      <td>2.5568</td>\n",
       "      <td>77100.0</td>\n",
       "    </tr>\n",
       "    <tr>\n",
       "      <th>20637</th>\n",
       "      <td>-121.22</td>\n",
       "      <td>39.43</td>\n",
       "      <td>17.0</td>\n",
       "      <td>2254.0</td>\n",
       "      <td>485.0</td>\n",
       "      <td>1007.0</td>\n",
       "      <td>433.0</td>\n",
       "      <td>1.7000</td>\n",
       "      <td>92300.0</td>\n",
       "    </tr>\n",
       "    <tr>\n",
       "      <th>20638</th>\n",
       "      <td>-121.32</td>\n",
       "      <td>39.43</td>\n",
       "      <td>18.0</td>\n",
       "      <td>1860.0</td>\n",
       "      <td>409.0</td>\n",
       "      <td>741.0</td>\n",
       "      <td>349.0</td>\n",
       "      <td>1.8672</td>\n",
       "      <td>84700.0</td>\n",
       "    </tr>\n",
       "    <tr>\n",
       "      <th>20639</th>\n",
       "      <td>-121.24</td>\n",
       "      <td>39.37</td>\n",
       "      <td>16.0</td>\n",
       "      <td>2785.0</td>\n",
       "      <td>616.0</td>\n",
       "      <td>1387.0</td>\n",
       "      <td>530.0</td>\n",
       "      <td>2.3886</td>\n",
       "      <td>89400.0</td>\n",
       "    </tr>\n",
       "  </tbody>\n",
       "</table>\n",
       "<p>20640 rows × 9 columns</p>\n",
       "</div>"
      ],
      "text/plain": [
       "       longitude  latitude  housing_median_age  total_rooms  total_bedrooms  \\\n",
       "0        -122.23     37.88                41.0        880.0           129.0   \n",
       "1        -122.22     37.86                21.0       7099.0          1106.0   \n",
       "2        -122.24     37.85                52.0       1467.0           190.0   \n",
       "3        -122.25     37.85                52.0       1274.0           235.0   \n",
       "4        -122.25     37.85                52.0       1627.0           280.0   \n",
       "...          ...       ...                 ...          ...             ...   \n",
       "20635    -121.09     39.48                25.0       1665.0           374.0   \n",
       "20636    -121.21     39.49                18.0        697.0           150.0   \n",
       "20637    -121.22     39.43                17.0       2254.0           485.0   \n",
       "20638    -121.32     39.43                18.0       1860.0           409.0   \n",
       "20639    -121.24     39.37                16.0       2785.0           616.0   \n",
       "\n",
       "       population  households  median_income  median_house_value  \n",
       "0           322.0       126.0         8.3252            452600.0  \n",
       "1          2401.0      1138.0         8.3014            358500.0  \n",
       "2           496.0       177.0         7.2574            352100.0  \n",
       "3           558.0       219.0         5.6431            341300.0  \n",
       "4           565.0       259.0         3.8462            342200.0  \n",
       "...           ...         ...            ...                 ...  \n",
       "20635       845.0       330.0         1.5603             78100.0  \n",
       "20636       356.0       114.0         2.5568             77100.0  \n",
       "20637      1007.0       433.0         1.7000             92300.0  \n",
       "20638       741.0       349.0         1.8672             84700.0  \n",
       "20639      1387.0       530.0         2.3886             89400.0  \n",
       "\n",
       "[20640 rows x 9 columns]"
      ]
     },
     "execution_count": 3,
     "metadata": {},
     "output_type": "execute_result"
    }
   ],
   "source": [
    "house_df = pd.read_csv('housing.csv', usecols=usecols)\n",
    "house_df"
   ]
  },
  {
   "cell_type": "code",
   "execution_count": 4,
   "id": "146bbe93",
   "metadata": {},
   "outputs": [
    {
     "data": {
      "text/plain": [
       "['longitude',\n",
       " 'latitude',\n",
       " 'housing_median_age',\n",
       " 'total_rooms',\n",
       " 'total_bedrooms',\n",
       " 'population',\n",
       " 'households',\n",
       " 'median_income',\n",
       " 'median_house_value']"
      ]
     },
     "execution_count": 4,
     "metadata": {},
     "output_type": "execute_result"
    }
   ],
   "source": [
    "list(house_df.columns)"
   ]
  },
  {
   "cell_type": "code",
   "execution_count": 5,
   "id": "099e8ae6",
   "metadata": {},
   "outputs": [
    {
     "data": {
      "text/plain": [
       "<AxesSubplot:xlabel='median_house_value', ylabel='Count'>"
      ]
     },
     "execution_count": 5,
     "metadata": {},
     "output_type": "execute_result"
    },
    {
     "data": {
      "image/png": "[encoded data removed]",
      "text/plain": [
       "<Figure size 432x288 with 1 Axes>"
      ]
     },
     "metadata": {
      "needs_background": "light"
     },
     "output_type": "display_data"
    }
   ],
   "source": [
    "sns.histplot(house_df.median_house_value, bins=50)"
   ]
  },
  {
   "cell_type": "code",
   "execution_count": 6,
   "id": "8edde7b2",
   "metadata": {},
   "outputs": [
    {
     "data": {
      "text/plain": [
       "longitude               0\n",
       "latitude                0\n",
       "housing_median_age      0\n",
       "total_rooms             0\n",
       "total_bedrooms        207\n",
       "population              0\n",
       "households              0\n",
       "median_income           0\n",
       "median_house_value      0\n",
       "dtype: int64"
      ]
     },
     "execution_count": 6,
     "metadata": {},
     "output_type": "execute_result"
    }
   ],
   "source": [
    "house_df.isna().sum()"
   ]
  },
  {
   "cell_type": "code",
   "execution_count": 7,
   "id": "41ac3c31",
   "metadata": {},
   "outputs": [
    {
     "name": "stdout",
     "output_type": "stream",
     "text": [
      "<class 'pandas.core.frame.DataFrame'>\n",
      "RangeIndex: 20640 entries, 0 to 20639\n",
      "Data columns (total 9 columns):\n",
      " #   Column              Non-Null Count  Dtype  \n",
      "---  ------              --------------  -----  \n",
      " 0   longitude           20640 non-null  float64\n",
      " 1   latitude            20640 non-null  float64\n",
      " 2   housing_median_age  20640 non-null  float64\n",
      " 3   total_rooms         20640 non-null  float64\n",
      " 4   total_bedrooms      20433 non-null  float64\n",
      " 5   population          20640 non-null  float64\n",
      " 6   households          20640 non-null  float64\n",
      " 7   median_income       20640 non-null  float64\n",
      " 8   median_house_value  20640 non-null  float64\n",
      "dtypes: float64(9)\n",
      "memory usage: 1.4 MB\n"
     ]
    }
   ],
   "source": [
    "house_df.info()"
   ]
  },
  {
   "cell_type": "code",
   "execution_count": 8,
   "id": "af0b5146",
   "metadata": {},
   "outputs": [
    {
     "data": {
      "text/html": [
       "<div>\n",
       "<style scoped>\n",
       "    .dataframe tbody tr th:only-of-type {\n",
       "        vertical-align: middle;\n",
       "    }\n",
       "\n",
       "    .dataframe tbody tr th {\n",
       "        vertical-align: top;\n",
       "    }\n",
       "\n",
       "    .dataframe thead th {\n",
       "        text-align: right;\n",
       "    }\n",
       "</style>\n",
       "<table border=\"1\" class=\"dataframe\">\n",
       "  <thead>\n",
       "    <tr style=\"text-align: right;\">\n",
       "      <th></th>\n",
       "      <th>longitude</th>\n",
       "      <th>latitude</th>\n",
       "      <th>housing_median_age</th>\n",
       "      <th>total_rooms</th>\n",
       "      <th>total_bedrooms</th>\n",
       "      <th>population</th>\n",
       "      <th>households</th>\n",
       "      <th>median_income</th>\n",
       "      <th>median_house_value</th>\n",
       "    </tr>\n",
       "  </thead>\n",
       "  <tbody>\n",
       "    <tr>\n",
       "      <th>count</th>\n",
       "      <td>20640.000000</td>\n",
       "      <td>20640.000000</td>\n",
       "      <td>20640.000000</td>\n",
       "      <td>20640.000000</td>\n",
       "      <td>20433.000000</td>\n",
       "      <td>20640.000000</td>\n",
       "      <td>20640.000000</td>\n",
       "      <td>20640.000000</td>\n",
       "      <td>20640.000000</td>\n",
       "    </tr>\n",
       "    <tr>\n",
       "      <th>mean</th>\n",
       "      <td>-119.569704</td>\n",
       "      <td>35.631861</td>\n",
       "      <td>28.639486</td>\n",
       "      <td>2635.763081</td>\n",
       "      <td>537.870553</td>\n",
       "      <td>1425.476744</td>\n",
       "      <td>499.539680</td>\n",
       "      <td>3.870671</td>\n",
       "      <td>206855.816909</td>\n",
       "    </tr>\n",
       "    <tr>\n",
       "      <th>std</th>\n",
       "      <td>2.003532</td>\n",
       "      <td>2.135952</td>\n",
       "      <td>12.585558</td>\n",
       "      <td>2181.615252</td>\n",
       "      <td>421.385070</td>\n",
       "      <td>1132.462122</td>\n",
       "      <td>382.329753</td>\n",
       "      <td>1.899822</td>\n",
       "      <td>115395.615874</td>\n",
       "    </tr>\n",
       "    <tr>\n",
       "      <th>min</th>\n",
       "      <td>-124.350000</td>\n",
       "      <td>32.540000</td>\n",
       "      <td>1.000000</td>\n",
       "      <td>2.000000</td>\n",
       "      <td>1.000000</td>\n",
       "      <td>3.000000</td>\n",
       "      <td>1.000000</td>\n",
       "      <td>0.499900</td>\n",
       "      <td>14999.000000</td>\n",
       "    </tr>\n",
       "    <tr>\n",
       "      <th>25%</th>\n",
       "      <td>-121.800000</td>\n",
       "      <td>33.930000</td>\n",
       "      <td>18.000000</td>\n",
       "      <td>1447.750000</td>\n",
       "      <td>296.000000</td>\n",
       "      <td>787.000000</td>\n",
       "      <td>280.000000</td>\n",
       "      <td>2.563400</td>\n",
       "      <td>119600.000000</td>\n",
       "    </tr>\n",
       "    <tr>\n",
       "      <th>50%</th>\n",
       "      <td>-118.490000</td>\n",
       "      <td>34.260000</td>\n",
       "      <td>29.000000</td>\n",
       "      <td>2127.000000</td>\n",
       "      <td>435.000000</td>\n",
       "      <td>1166.000000</td>\n",
       "      <td>409.000000</td>\n",
       "      <td>3.534800</td>\n",
       "      <td>179700.000000</td>\n",
       "    </tr>\n",
       "    <tr>\n",
       "      <th>75%</th>\n",
       "      <td>-118.010000</td>\n",
       "      <td>37.710000</td>\n",
       "      <td>37.000000</td>\n",
       "      <td>3148.000000</td>\n",
       "      <td>647.000000</td>\n",
       "      <td>1725.000000</td>\n",
       "      <td>605.000000</td>\n",
       "      <td>4.743250</td>\n",
       "      <td>264725.000000</td>\n",
       "    </tr>\n",
       "    <tr>\n",
       "      <th>max</th>\n",
       "      <td>-114.310000</td>\n",
       "      <td>41.950000</td>\n",
       "      <td>52.000000</td>\n",
       "      <td>39320.000000</td>\n",
       "      <td>6445.000000</td>\n",
       "      <td>35682.000000</td>\n",
       "      <td>6082.000000</td>\n",
       "      <td>15.000100</td>\n",
       "      <td>500001.000000</td>\n",
       "    </tr>\n",
       "  </tbody>\n",
       "</table>\n",
       "</div>"
      ],
      "text/plain": [
       "          longitude      latitude  housing_median_age   total_rooms  \\\n",
       "count  20640.000000  20640.000000        20640.000000  20640.000000   \n",
       "mean    -119.569704     35.631861           28.639486   2635.763081   \n",
       "std        2.003532      2.135952           12.585558   2181.615252   \n",
       "min     -124.350000     32.540000            1.000000      2.000000   \n",
       "25%     -121.800000     33.930000           18.000000   1447.750000   \n",
       "50%     -118.490000     34.260000           29.000000   2127.000000   \n",
       "75%     -118.010000     37.710000           37.000000   3148.000000   \n",
       "max     -114.310000     41.950000           52.000000  39320.000000   \n",
       "\n",
       "       total_bedrooms    population    households  median_income  \\\n",
       "count    20433.000000  20640.000000  20640.000000   20640.000000   \n",
       "mean       537.870553   1425.476744    499.539680       3.870671   \n",
       "std        421.385070   1132.462122    382.329753       1.899822   \n",
       "min          1.000000      3.000000      1.000000       0.499900   \n",
       "25%        296.000000    787.000000    280.000000       2.563400   \n",
       "50%        435.000000   1166.000000    409.000000       3.534800   \n",
       "75%        647.000000   1725.000000    605.000000       4.743250   \n",
       "max       6445.000000  35682.000000   6082.000000      15.000100   \n",
       "\n",
       "       median_house_value  \n",
       "count        20640.000000  \n",
       "mean        206855.816909  \n",
       "std         115395.615874  \n",
       "min          14999.000000  \n",
       "25%         119600.000000  \n",
       "50%         179700.000000  \n",
       "75%         264725.000000  \n",
       "max         500001.000000  "
      ]
     },
     "execution_count": 8,
     "metadata": {},
     "output_type": "execute_result"
    }
   ],
   "source": [
    "house_df.describe()"
   ]
  },
  {
   "cell_type": "code",
   "execution_count": 9,
   "id": "e6b8b3ea",
   "metadata": {},
   "outputs": [],
   "source": [
    "n = len(house_df)"
   ]
  },
  {
   "cell_type": "code",
   "execution_count": 10,
   "id": "46d5ef15",
   "metadata": {},
   "outputs": [],
   "source": [
    "idx = np.arange(n)"
   ]
  },
  {
   "cell_type": "code",
   "execution_count": 11,
   "id": "72f05b33",
   "metadata": {},
   "outputs": [
    {
     "data": {
      "text/plain": [
       "array([20046,  3024, 15663, ...,  5390,   860, 15795])"
      ]
     },
     "execution_count": 11,
     "metadata": {},
     "output_type": "execute_result"
    }
   ],
   "source": [
    "np.random.seed(42)\n",
    "np.random.shuffle(idx)\n",
    "idx"
   ]
  },
  {
   "cell_type": "code",
   "execution_count": 12,
   "id": "41322662",
   "metadata": {},
   "outputs": [],
   "source": [
    "n_val = int(n * 0.2)\n",
    "n_test = int(n * 0.2)\n",
    "n_train = n - n_val - n_test"
   ]
  },
  {
   "cell_type": "code",
   "execution_count": 13,
   "id": "799166b5",
   "metadata": {},
   "outputs": [
    {
     "data": {
      "text/plain": [
       "(20640, 20640)"
      ]
     },
     "execution_count": 13,
     "metadata": {},
     "output_type": "execute_result"
    }
   ],
   "source": [
    "# checking \n",
    "\n",
    "n, n_val + n_test + n_train"
   ]
  },
  {
   "cell_type": "code",
   "execution_count": 14,
   "id": "baf72fc5",
   "metadata": {},
   "outputs": [
    {
     "data": {
      "text/plain": [
       "(4128, 4128, 12384)"
      ]
     },
     "execution_count": 14,
     "metadata": {},
     "output_type": "execute_result"
    }
   ],
   "source": [
    "n_val, n_test, n_train"
   ]
  },
  {
   "cell_type": "code",
   "execution_count": 15,
   "id": "6080bdfd",
   "metadata": {},
   "outputs": [],
   "source": [
    "house_df_val = house_df.iloc[idx[:n_val]]\n",
    "house_df_test = house_df.iloc[idx[n_val:n_val+n_test]]\n",
    "house_df_train = house_df.iloc[idx[n_val+n_test:]]"
   ]
  },
  {
   "cell_type": "code",
   "execution_count": 16,
   "id": "982d06b5",
   "metadata": {},
   "outputs": [
    {
     "data": {
      "text/plain": [
       "(4128, 4128, 12384)"
      ]
     },
     "execution_count": 16,
     "metadata": {},
     "output_type": "execute_result"
    }
   ],
   "source": [
    "len(house_df_test), len(house_df_val), len(house_df_train)"
   ]
  },
  {
   "cell_type": "code",
   "execution_count": 17,
   "id": "57ca1504",
   "metadata": {},
   "outputs": [],
   "source": [
    "# resetting the indexes of the splitted data \n",
    "\n",
    "house_df_train = house_df_train.reset_index(drop=True)\n",
    "house_df_val = house_df_val.reset_index(drop=True)\n",
    "house_df_test = house_df_test.reset_index(drop=True)"
   ]
  },
  {
   "cell_type": "code",
   "execution_count": 18,
   "id": "cda628bf",
   "metadata": {},
   "outputs": [
    {
     "data": {
      "text/html": [
       "<div>\n",
       "<style scoped>\n",
       "    .dataframe tbody tr th:only-of-type {\n",
       "        vertical-align: middle;\n",
       "    }\n",
       "\n",
       "    .dataframe tbody tr th {\n",
       "        vertical-align: top;\n",
       "    }\n",
       "\n",
       "    .dataframe thead th {\n",
       "        text-align: right;\n",
       "    }\n",
       "</style>\n",
       "<table border=\"1\" class=\"dataframe\">\n",
       "  <thead>\n",
       "    <tr style=\"text-align: right;\">\n",
       "      <th></th>\n",
       "      <th>longitude</th>\n",
       "      <th>latitude</th>\n",
       "      <th>housing_median_age</th>\n",
       "      <th>total_rooms</th>\n",
       "      <th>total_bedrooms</th>\n",
       "      <th>population</th>\n",
       "      <th>households</th>\n",
       "      <th>median_income</th>\n",
       "      <th>median_house_value</th>\n",
       "    </tr>\n",
       "  </thead>\n",
       "  <tbody>\n",
       "    <tr>\n",
       "      <th>0</th>\n",
       "      <td>-118.63</td>\n",
       "      <td>34.11</td>\n",
       "      <td>35.0</td>\n",
       "      <td>3795.0</td>\n",
       "      <td>690.0</td>\n",
       "      <td>1521.0</td>\n",
       "      <td>653.0</td>\n",
       "      <td>5.8735</td>\n",
       "      <td>448100.0</td>\n",
       "    </tr>\n",
       "    <tr>\n",
       "      <th>1</th>\n",
       "      <td>-115.98</td>\n",
       "      <td>33.32</td>\n",
       "      <td>8.0</td>\n",
       "      <td>240.0</td>\n",
       "      <td>46.0</td>\n",
       "      <td>63.0</td>\n",
       "      <td>24.0</td>\n",
       "      <td>1.4688</td>\n",
       "      <td>53800.0</td>\n",
       "    </tr>\n",
       "    <tr>\n",
       "      <th>2</th>\n",
       "      <td>-120.78</td>\n",
       "      <td>38.74</td>\n",
       "      <td>28.0</td>\n",
       "      <td>4236.0</td>\n",
       "      <td>877.0</td>\n",
       "      <td>2008.0</td>\n",
       "      <td>881.0</td>\n",
       "      <td>2.1603</td>\n",
       "      <td>111300.0</td>\n",
       "    </tr>\n",
       "    <tr>\n",
       "      <th>3</th>\n",
       "      <td>-122.37</td>\n",
       "      <td>37.58</td>\n",
       "      <td>43.0</td>\n",
       "      <td>2506.0</td>\n",
       "      <td>432.0</td>\n",
       "      <td>967.0</td>\n",
       "      <td>428.0</td>\n",
       "      <td>4.7404</td>\n",
       "      <td>500001.0</td>\n",
       "    </tr>\n",
       "    <tr>\n",
       "      <th>4</th>\n",
       "      <td>-121.92</td>\n",
       "      <td>37.45</td>\n",
       "      <td>10.0</td>\n",
       "      <td>3937.0</td>\n",
       "      <td>1054.0</td>\n",
       "      <td>2032.0</td>\n",
       "      <td>1002.0</td>\n",
       "      <td>3.2617</td>\n",
       "      <td>252200.0</td>\n",
       "    </tr>\n",
       "  </tbody>\n",
       "</table>\n",
       "</div>"
      ],
      "text/plain": [
       "   longitude  latitude  housing_median_age  total_rooms  total_bedrooms  \\\n",
       "0    -118.63     34.11                35.0       3795.0           690.0   \n",
       "1    -115.98     33.32                 8.0        240.0            46.0   \n",
       "2    -120.78     38.74                28.0       4236.0           877.0   \n",
       "3    -122.37     37.58                43.0       2506.0           432.0   \n",
       "4    -121.92     37.45                10.0       3937.0          1054.0   \n",
       "\n",
       "   population  households  median_income  median_house_value  \n",
       "0      1521.0       653.0         5.8735            448100.0  \n",
       "1        63.0        24.0         1.4688             53800.0  \n",
       "2      2008.0       881.0         2.1603            111300.0  \n",
       "3       967.0       428.0         4.7404            500001.0  \n",
       "4      2032.0      1002.0         3.2617            252200.0  "
      ]
     },
     "execution_count": 18,
     "metadata": {},
     "output_type": "execute_result"
    }
   ],
   "source": [
    "house_df_train.head()"
   ]
  },
  {
   "cell_type": "code",
   "execution_count": 19,
   "id": "eeca6491",
   "metadata": {},
   "outputs": [],
   "source": [
    "# extracting the target variable from the splitted dataset\n",
    "# after log transformation \n",
    "\n",
    "y_train = np.log1p(house_df_train.median_house_value.values)\n",
    "y_val = np.log1p(house_df_val.median_house_value.values)\n",
    "y_test = np.log1p(house_df_test.median_house_value.values)"
   ]
  },
  {
   "cell_type": "code",
   "execution_count": 20,
   "id": "9d5196cc",
   "metadata": {},
   "outputs": [
    {
     "data": {
      "text/plain": [
       "<AxesSubplot:ylabel='Count'>"
      ]
     },
     "execution_count": 20,
     "metadata": {},
     "output_type": "execute_result"
    },
    {
     "data": {
      "image/png": "[encoded data removed]",
      "text/plain": [
       "<Figure size 432x288 with 1 Axes>"
      ]
     },
     "metadata": {
      "needs_background": "light"
     },
     "output_type": "display_data"
    }
   ],
   "source": [
    "sns.histplot(y_train, bins=50)"
   ]
  },
  {
   "cell_type": "code",
   "execution_count": 21,
   "id": "d38b6f5e",
   "metadata": {},
   "outputs": [
    {
     "data": {
      "text/html": [
       "<div>\n",
       "<style scoped>\n",
       "    .dataframe tbody tr th:only-of-type {\n",
       "        vertical-align: middle;\n",
       "    }\n",
       "\n",
       "    .dataframe tbody tr th {\n",
       "        vertical-align: top;\n",
       "    }\n",
       "\n",
       "    .dataframe thead th {\n",
       "        text-align: right;\n",
       "    }\n",
       "</style>\n",
       "<table border=\"1\" class=\"dataframe\">\n",
       "  <thead>\n",
       "    <tr style=\"text-align: right;\">\n",
       "      <th></th>\n",
       "      <th>longitude</th>\n",
       "      <th>latitude</th>\n",
       "      <th>housing_median_age</th>\n",
       "      <th>total_rooms</th>\n",
       "      <th>total_bedrooms</th>\n",
       "      <th>population</th>\n",
       "      <th>households</th>\n",
       "      <th>median_income</th>\n",
       "      <th>median_house_value</th>\n",
       "    </tr>\n",
       "  </thead>\n",
       "  <tbody>\n",
       "    <tr>\n",
       "      <th>0</th>\n",
       "      <td>-118.63</td>\n",
       "      <td>34.11</td>\n",
       "      <td>35.0</td>\n",
       "      <td>3795.0</td>\n",
       "      <td>690.0</td>\n",
       "      <td>1521.0</td>\n",
       "      <td>653.0</td>\n",
       "      <td>5.8735</td>\n",
       "      <td>448100.0</td>\n",
       "    </tr>\n",
       "    <tr>\n",
       "      <th>1</th>\n",
       "      <td>-115.98</td>\n",
       "      <td>33.32</td>\n",
       "      <td>8.0</td>\n",
       "      <td>240.0</td>\n",
       "      <td>46.0</td>\n",
       "      <td>63.0</td>\n",
       "      <td>24.0</td>\n",
       "      <td>1.4688</td>\n",
       "      <td>53800.0</td>\n",
       "    </tr>\n",
       "    <tr>\n",
       "      <th>2</th>\n",
       "      <td>-120.78</td>\n",
       "      <td>38.74</td>\n",
       "      <td>28.0</td>\n",
       "      <td>4236.0</td>\n",
       "      <td>877.0</td>\n",
       "      <td>2008.0</td>\n",
       "      <td>881.0</td>\n",
       "      <td>2.1603</td>\n",
       "      <td>111300.0</td>\n",
       "    </tr>\n",
       "    <tr>\n",
       "      <th>3</th>\n",
       "      <td>-122.37</td>\n",
       "      <td>37.58</td>\n",
       "      <td>43.0</td>\n",
       "      <td>2506.0</td>\n",
       "      <td>432.0</td>\n",
       "      <td>967.0</td>\n",
       "      <td>428.0</td>\n",
       "      <td>4.7404</td>\n",
       "      <td>500001.0</td>\n",
       "    </tr>\n",
       "    <tr>\n",
       "      <th>4</th>\n",
       "      <td>-121.92</td>\n",
       "      <td>37.45</td>\n",
       "      <td>10.0</td>\n",
       "      <td>3937.0</td>\n",
       "      <td>1054.0</td>\n",
       "      <td>2032.0</td>\n",
       "      <td>1002.0</td>\n",
       "      <td>3.2617</td>\n",
       "      <td>252200.0</td>\n",
       "    </tr>\n",
       "  </tbody>\n",
       "</table>\n",
       "</div>"
      ],
      "text/plain": [
       "   longitude  latitude  housing_median_age  total_rooms  total_bedrooms  \\\n",
       "0    -118.63     34.11                35.0       3795.0           690.0   \n",
       "1    -115.98     33.32                 8.0        240.0            46.0   \n",
       "2    -120.78     38.74                28.0       4236.0           877.0   \n",
       "3    -122.37     37.58                43.0       2506.0           432.0   \n",
       "4    -121.92     37.45                10.0       3937.0          1054.0   \n",
       "\n",
       "   population  households  median_income  median_house_value  \n",
       "0      1521.0       653.0         5.8735            448100.0  \n",
       "1        63.0        24.0         1.4688             53800.0  \n",
       "2      2008.0       881.0         2.1603            111300.0  \n",
       "3       967.0       428.0         4.7404            500001.0  \n",
       "4      2032.0      1002.0         3.2617            252200.0  "
      ]
     },
     "execution_count": 21,
     "metadata": {},
     "output_type": "execute_result"
    }
   ],
   "source": [
    "house_df_train.head()"
   ]
  },
  {
   "cell_type": "code",
   "execution_count": 22,
   "id": "d321ad26",
   "metadata": {},
   "outputs": [],
   "source": [
    "# deleting the msrp column from the splitted dataset\n",
    "\n",
    "del house_df_train['median_house_value']\n",
    "del house_df_val['median_house_value']\n",
    "del house_df_test['median_house_value']"
   ]
  },
  {
   "cell_type": "markdown",
   "id": "3ecf1516",
   "metadata": {},
   "source": [
    "## Option 1\n",
    "\n",
    "Filling missing value with 0 "
   ]
  },
  {
   "cell_type": "code",
   "execution_count": 23,
   "id": "91c10646",
   "metadata": {},
   "outputs": [],
   "source": [
    "house_df_train_0 = house_df_train.copy()\n",
    "house_df_val_0 = house_df_val.copy()\n",
    "house_df_test_0 = house_df_test.copy()"
   ]
  },
  {
   "cell_type": "code",
   "execution_count": 24,
   "id": "e0e99ec4",
   "metadata": {},
   "outputs": [],
   "source": [
    "house_df_train_0['total_bedrooms'] = house_df_train_0.total_bedrooms.fillna(0)\n",
    "house_df_val_0['total_bedrooms'] = house_df_val_0.total_bedrooms.fillna(0)\n",
    "house_df_test_0['total_bedrooms'] = house_df_test_0.total_bedrooms.fillna(0)"
   ]
  },
  {
   "cell_type": "markdown",
   "id": "b231c9a8",
   "metadata": {},
   "source": [
    "### Linear Regression"
   ]
  },
  {
   "cell_type": "code",
   "execution_count": 25,
   "id": "c4e589b3",
   "metadata": {},
   "outputs": [],
   "source": [
    "def train_linear_regression(X, y):\n",
    "    ones = np.ones(X.shape[0])\n",
    "    X = np.column_stack([ones, X])\n",
    "\n",
    "    XTX = X.T.dot(X)\n",
    "    XTX_inv = np.linalg.inv(XTX)\n",
    "    w = XTX_inv.dot(X.T).dot(y)\n",
    "    \n",
    "    return w[0], w[1:]"
   ]
  },
  {
   "cell_type": "markdown",
   "id": "371197ab",
   "metadata": {},
   "source": [
    "### Base Solution"
   ]
  },
  {
   "cell_type": "code",
   "execution_count": 26,
   "id": "3d2d5d98",
   "metadata": {},
   "outputs": [],
   "source": [
    "def prepare_X(df):\n",
    "    df_num = df[house_df_train_0.columns]\n",
    "    X = df_num.values\n",
    "    return X"
   ]
  },
  {
   "cell_type": "code",
   "execution_count": 27,
   "id": "56929a15",
   "metadata": {},
   "outputs": [],
   "source": [
    "X_train = prepare_X(house_df_train_0)"
   ]
  },
  {
   "cell_type": "code",
   "execution_count": 28,
   "id": "13a8cbb6",
   "metadata": {},
   "outputs": [],
   "source": [
    "w_0, w = train_linear_regression(X_train, y_train)"
   ]
  },
  {
   "cell_type": "code",
   "execution_count": 29,
   "id": "4ac5197e",
   "metadata": {},
   "outputs": [],
   "source": [
    "y_pred = w_0 + X_train.dot(w)"
   ]
  },
  {
   "cell_type": "code",
   "execution_count": 30,
   "id": "463203de",
   "metadata": {},
   "outputs": [
    {
     "data": {
      "image/png": "[encoded data removed]",
      "text/plain": [
       "<Figure size 432x288 with 1 Axes>"
      ]
     },
     "metadata": {
      "needs_background": "light"
     },
     "output_type": "display_data"
    }
   ],
   "source": [
    "plt.figure(figsize=(6, 4))\n",
    "\n",
    "sns.histplot(y_train, label='target', color='#222222', alpha=0.6, bins=40)\n",
    "sns.histplot(y_pred, label='prediction', color='#aaaaaa', alpha=0.8, bins=40)\n",
    "\n",
    "plt.legend()\n",
    "\n",
    "plt.ylabel('Frequency')\n",
    "plt.xlabel('Log(Price + 1)')\n",
    "plt.title('Predictions vs actual distribution')\n",
    "\n",
    "plt.show()"
   ]
  },
  {
   "cell_type": "code",
   "execution_count": 31,
   "id": "0d1daf42",
   "metadata": {},
   "outputs": [],
   "source": [
    "def rmse(y_actual, y_pred):\n",
    "    error = y_pred - y_actual\n",
    "    mse = (error ** 2).mean()\n",
    "    return np.sqrt(mse)"
   ]
  },
  {
   "cell_type": "code",
   "execution_count": 32,
   "id": "0c9e8e27",
   "metadata": {},
   "outputs": [
    {
     "data": {
      "text/plain": [
       "0.3369621357945928"
      ]
     },
     "execution_count": 32,
     "metadata": {},
     "output_type": "execute_result"
    }
   ],
   "source": [
    "rmse(y_train, y_pred)"
   ]
  },
  {
   "cell_type": "code",
   "execution_count": 33,
   "id": "4934f46b",
   "metadata": {},
   "outputs": [],
   "source": [
    "X_val = prepare_X(house_df_val_0)\n",
    "y_pred = w_0 + X_val.dot(w)"
   ]
  },
  {
   "cell_type": "code",
   "execution_count": 34,
   "id": "80a040de",
   "metadata": {},
   "outputs": [
    {
     "data": {
      "text/plain": [
       "0.36"
      ]
     },
     "execution_count": 34,
     "metadata": {},
     "output_type": "execute_result"
    }
   ],
   "source": [
    "round(rmse(y_val, y_pred), 2)"
   ]
  },
  {
   "cell_type": "markdown",
   "id": "d4e9de48",
   "metadata": {},
   "source": [
    "## Option 2 \n",
    "\n",
    "filling missing values with mean of the column "
   ]
  },
  {
   "cell_type": "code",
   "execution_count": 35,
   "id": "dc1a21b6",
   "metadata": {},
   "outputs": [],
   "source": [
    "house_df_train_mean = house_df_train.copy()\n",
    "house_df_val_mean = house_df_val.copy()\n",
    "house_df_test_mean = house_df_test.copy()"
   ]
  },
  {
   "cell_type": "code",
   "execution_count": 36,
   "id": "591c9779",
   "metadata": {},
   "outputs": [],
   "source": [
    "house_df_train_mean.total_bedrooms.fillna(int(house_df_train_mean['total_bedrooms'].mean()), inplace=True)\n",
    "house_df_val_mean.total_bedrooms.fillna(int(house_df_val_mean['total_bedrooms'].mean()), inplace=True)\n",
    "house_df_test_mean.total_bedrooms.fillna(int(house_df_test_mean['total_bedrooms'].mean()), inplace=True)\n"
   ]
  },
  {
   "cell_type": "markdown",
   "id": "0f74551d",
   "metadata": {},
   "source": [
    "### Linear Regression 2\n",
    "\n",
    "Baseline"
   ]
  },
  {
   "cell_type": "code",
   "execution_count": 37,
   "id": "dc5d31e6",
   "metadata": {},
   "outputs": [],
   "source": [
    "X_train = prepare_X(house_df_train_mean)"
   ]
  },
  {
   "cell_type": "code",
   "execution_count": 38,
   "id": "80ecff4d",
   "metadata": {},
   "outputs": [],
   "source": [
    "w_0, w = train_linear_regression(X_train, y_train)"
   ]
  },
  {
   "cell_type": "code",
   "execution_count": 39,
   "id": "2da8bd13",
   "metadata": {},
   "outputs": [],
   "source": [
    "y_pred = w_0 + X_train.dot(w)"
   ]
  },
  {
   "cell_type": "code",
   "execution_count": 40,
   "id": "d6369021",
   "metadata": {},
   "outputs": [
    {
     "data": {
      "image/png": "[encoded data removed]",
      "text/plain": [
       "<Figure size 432x288 with 1 Axes>"
      ]
     },
     "metadata": {
      "needs_background": "light"
     },
     "output_type": "display_data"
    }
   ],
   "source": [
    "plt.figure(figsize=(6, 4))\n",
    "\n",
    "sns.histplot(y_train, label='target', color='#222222', alpha=0.6, bins=40)\n",
    "sns.histplot(y_pred, label='prediction', color='#aaaaaa', alpha=0.8, bins=40)\n",
    "\n",
    "plt.legend()\n",
    "\n",
    "plt.ylabel('Frequency')\n",
    "plt.xlabel('Log(Price + 1)')\n",
    "plt.title('Predictions vs actual distribution')\n",
    "\n",
    "plt.show()"
   ]
  },
  {
   "cell_type": "code",
   "execution_count": 41,
   "id": "72725dfb",
   "metadata": {},
   "outputs": [
    {
     "data": {
      "text/plain": [
       "0.3369621357945928"
      ]
     },
     "execution_count": 41,
     "metadata": {},
     "output_type": "execute_result"
    }
   ],
   "source": [
    "rmse(y_train, y_pred)"
   ]
  },
  {
   "cell_type": "code",
   "execution_count": 42,
   "id": "b59e66cf",
   "metadata": {},
   "outputs": [],
   "source": [
    "X_val = prepare_X(house_df_val_0)\n",
    "y_pred = w_0 + X_val.dot(w)"
   ]
  },
  {
   "cell_type": "code",
   "execution_count": 43,
   "id": "8317abc5",
   "metadata": {},
   "outputs": [
    {
     "data": {
      "text/plain": [
       "0.36"
      ]
     },
     "execution_count": 43,
     "metadata": {},
     "output_type": "execute_result"
    }
   ],
   "source": [
    "round(rmse(y_val, y_pred), 2)"
   ]
  },
  {
   "cell_type": "markdown",
   "id": "3327d4a1",
   "metadata": {},
   "source": [
    "## Training a regularized linear regression model "
   ]
  },
  {
   "cell_type": "code",
   "execution_count": 44,
   "id": "cb876360",
   "metadata": {},
   "outputs": [],
   "source": [
    "def train_linear_regression_reg(X, y, r=0.0):\n",
    "    ones = np.ones(X.shape[0])\n",
    "    X = np.column_stack([ones, X])\n",
    "\n",
    "    XTX = X.T.dot(X)\n",
    "    reg = r * np.eye(XTX.shape[0])\n",
    "    XTX = XTX + reg\n",
    "\n",
    "    XTX_inv = np.linalg.inv(XTX)\n",
    "    w = XTX_inv.dot(X.T).dot(y)\n",
    "    \n",
    "    return w[0], w[1:]"
   ]
  },
  {
   "cell_type": "code",
   "execution_count": 45,
   "id": "9fa916ce",
   "metadata": {},
   "outputs": [],
   "source": [
    "X_train = prepare_X(house_df_train_0)"
   ]
  },
  {
   "cell_type": "code",
   "execution_count": 46,
   "id": "302d5759",
   "metadata": {},
   "outputs": [],
   "source": [
    "for r in [0, 0.000001, 0.0001, 0.001, 0.01, 0.1, 1, 5, 10]:\n",
    "    w_0, w = train_linear_regression_reg(X_train, y_train, r=r)\n"
   ]
  },
  {
   "cell_type": "code",
   "execution_count": 47,
   "id": "52db9e98",
   "metadata": {},
   "outputs": [
    {
     "name": "stdout",
     "output_type": "stream",
     "text": [
      "     0 0.35554061782145585\n",
      " 1e-06 0.3555406124578044\n",
      "0.0001 0.3555400818775534\n",
      " 0.001 0.35553528430112563\n",
      "  0.01 0.3554898149796936\n",
      "   0.1 0.3552367398658503\n",
      "     1 0.35723942628843786\n",
      "     5 0.3612667917574572\n",
      "    10 0.36233972737310954\n"
     ]
    }
   ],
   "source": [
    "X_train = prepare_X(house_df_train_0)\n",
    "X_val = prepare_X(house_df_val_0)\n",
    "\n",
    "for r in [0, 0.000001, 0.0001, 0.001, 0.01, 0.1, 1, 5, 10]:\n",
    "    w_0, w = train_linear_regression_reg(X_train, y_train, r=r)\n",
    "    y_pred = w_0 + X_val.dot(w)\n",
    "    print('%6s' %r, rmse(y_val, y_pred))"
   ]
  },
  {
   "cell_type": "markdown",
   "id": "11e5da2d",
   "metadata": {},
   "source": [
    "# Splitting the dataset using different seedings \n",
    "\n",
    "Seeds = [0, 1, 2, 3, 4, 5, 6, 7, 8, 9]"
   ]
  },
  {
   "cell_type": "markdown",
   "id": "ee927211",
   "metadata": {},
   "source": [
    "**Seed 0**"
   ]
  },
  {
   "cell_type": "code",
   "execution_count": 48,
   "id": "0ea5b66c",
   "metadata": {},
   "outputs": [],
   "source": [
    "np.random.seed(0)\n",
    "np.random.shuffle(idx)"
   ]
  },
  {
   "cell_type": "code",
   "execution_count": 49,
   "id": "93701cb4",
   "metadata": {},
   "outputs": [],
   "source": [
    "house_df_val = house_df.iloc[idx[:n_val]]\n",
    "house_df_test = house_df.iloc[idx[n_val:n_val+n_test]]\n",
    "house_df_train = house_df.iloc[idx[n_val+n_test:]]\n",
    "\n",
    "# resetting the indexes of the splitted data \n",
    "\n",
    "house_df_train = house_df_train.reset_index(drop=True)\n",
    "house_df_val = house_df_val.reset_index(drop=True)\n",
    "house_df_test = house_df_test.reset_index(drop=True)"
   ]
  },
  {
   "cell_type": "code",
   "execution_count": 50,
   "id": "7c0f6f72",
   "metadata": {},
   "outputs": [],
   "source": [
    "# extracting the target variable from the splitted dataset\n",
    "# after log transformation \n",
    "\n",
    "y_train = np.log1p(house_df_train.median_house_value.values)\n",
    "y_val = np.log1p(house_df_val.median_house_value.values)\n",
    "y_test = np.log1p(house_df_test.median_house_value.values)"
   ]
  },
  {
   "cell_type": "code",
   "execution_count": 51,
   "id": "5b434068",
   "metadata": {},
   "outputs": [],
   "source": [
    "# deleting the msrp column from the splitted dataset\n",
    "\n",
    "del house_df_train['median_house_value']\n",
    "del house_df_val['median_house_value']\n",
    "del house_df_test['median_house_value']"
   ]
  },
  {
   "cell_type": "code",
   "execution_count": 52,
   "id": "c600bdd4",
   "metadata": {},
   "outputs": [],
   "source": [
    "house_df_train_0 = house_df_train.copy()\n",
    "house_df_val_0 = house_df_val.copy()\n",
    "house_df_test_0 = house_df_test.copy()"
   ]
  },
  {
   "cell_type": "code",
   "execution_count": 53,
   "id": "a0b2b339",
   "metadata": {},
   "outputs": [],
   "source": [
    "house_df_train_0['total_bedrooms'] = house_df_train_0.total_bedrooms.fillna(0)\n",
    "house_df_val_0['total_bedrooms'] = house_df_val_0.total_bedrooms.fillna(0)\n",
    "house_df_test_0['total_bedrooms'] = house_df_test_0.total_bedrooms.fillna(0)"
   ]
  },
  {
   "cell_type": "code",
   "execution_count": 54,
   "id": "8ca8064b",
   "metadata": {},
   "outputs": [],
   "source": [
    "X_train = prepare_X(house_df_train_0)"
   ]
  },
  {
   "cell_type": "code",
   "execution_count": 55,
   "id": "de84b8f4",
   "metadata": {},
   "outputs": [],
   "source": [
    "w_0, w = train_linear_regression(X_train, y_train)"
   ]
  },
  {
   "cell_type": "code",
   "execution_count": 56,
   "id": "e40cbb7b",
   "metadata": {},
   "outputs": [],
   "source": [
    "y_pred = w_0 + X_train.dot(w)"
   ]
  },
  {
   "cell_type": "code",
   "execution_count": 57,
   "id": "55fd9342",
   "metadata": {},
   "outputs": [
    {
     "data": {
      "text/plain": [
       "0.33258860023819137"
      ]
     },
     "execution_count": 57,
     "metadata": {},
     "output_type": "execute_result"
    }
   ],
   "source": [
    "X_val = prepare_X(house_df_val_0)\n",
    "y_pred = w_0 + X_val.dot(w)\n",
    "rmse(y_val, y_pred)"
   ]
  },
  {
   "cell_type": "markdown",
   "id": "84ad9c8d",
   "metadata": {},
   "source": [
    "**Seed 1**"
   ]
  },
  {
   "cell_type": "code",
   "execution_count": 58,
   "id": "83f458c9",
   "metadata": {},
   "outputs": [],
   "source": [
    "np.random.seed(1)\n",
    "np.random.shuffle(idx)"
   ]
  },
  {
   "cell_type": "code",
   "execution_count": 59,
   "id": "3446d5d8",
   "metadata": {},
   "outputs": [],
   "source": [
    "house_df_val = house_df.iloc[idx[:n_val]]\n",
    "house_df_test = house_df.iloc[idx[n_val:n_val+n_test]]\n",
    "house_df_train = house_df.iloc[idx[n_val+n_test:]]\n",
    "\n",
    "# resetting the indexes of the splitted data \n",
    "\n",
    "house_df_train = house_df_train.reset_index(drop=True)\n",
    "house_df_val = house_df_val.reset_index(drop=True)\n",
    "house_df_test = house_df_test.reset_index(drop=True)"
   ]
  },
  {
   "cell_type": "code",
   "execution_count": 60,
   "id": "eabf9d8d",
   "metadata": {},
   "outputs": [],
   "source": [
    "# extracting the target variable from the splitted dataset\n",
    "# after log transformation \n",
    "\n",
    "y_train = np.log1p(house_df_train.median_house_value.values)\n",
    "y_val = np.log1p(house_df_val.median_house_value.values)\n",
    "y_test = np.log1p(house_df_test.median_house_value.values)"
   ]
  },
  {
   "cell_type": "code",
   "execution_count": 61,
   "id": "e7fb607a",
   "metadata": {},
   "outputs": [],
   "source": [
    "# deleting the msrp column from the splitted dataset\n",
    "\n",
    "del house_df_train['median_house_value']\n",
    "del house_df_val['median_house_value']\n",
    "del house_df_test['median_house_value']"
   ]
  },
  {
   "cell_type": "code",
   "execution_count": 62,
   "id": "dd268193",
   "metadata": {},
   "outputs": [],
   "source": [
    "house_df_train_0 = house_df_train.copy()\n",
    "house_df_val_0 = house_df_val.copy()\n",
    "house_df_test_0 = house_df_test.copy()"
   ]
  },
  {
   "cell_type": "code",
   "execution_count": 63,
   "id": "03bf40e1",
   "metadata": {},
   "outputs": [],
   "source": [
    "house_df_train_0['total_bedrooms'] = house_df_train_0.total_bedrooms.fillna(0)\n",
    "house_df_val_0['total_bedrooms'] = house_df_val_0.total_bedrooms.fillna(0)\n",
    "house_df_test_0['total_bedrooms'] = house_df_test_0.total_bedrooms.fillna(0)"
   ]
  },
  {
   "cell_type": "code",
   "execution_count": 64,
   "id": "831342d2",
   "metadata": {},
   "outputs": [],
   "source": [
    "X_train = prepare_X(house_df_train_0)"
   ]
  },
  {
   "cell_type": "code",
   "execution_count": 65,
   "id": "bbb93d2f",
   "metadata": {},
   "outputs": [],
   "source": [
    "w_0, w = train_linear_regression(X_train, y_train)"
   ]
  },
  {
   "cell_type": "code",
   "execution_count": 66,
   "id": "8fcb1e63",
   "metadata": {},
   "outputs": [],
   "source": [
    "y_pred = w_0 + X_train.dot(w)"
   ]
  },
  {
   "cell_type": "code",
   "execution_count": 67,
   "id": "e186e576",
   "metadata": {},
   "outputs": [
    {
     "data": {
      "text/plain": [
       "0.3455742620842655"
      ]
     },
     "execution_count": 67,
     "metadata": {},
     "output_type": "execute_result"
    }
   ],
   "source": [
    "X_val = prepare_X(house_df_val_0)\n",
    "y_pred = w_0 + X_val.dot(w)\n",
    "rmse(y_val, y_pred)"
   ]
  },
  {
   "cell_type": "markdown",
   "id": "cb6d4885",
   "metadata": {},
   "source": [
    "**Seed 2**"
   ]
  },
  {
   "cell_type": "code",
   "execution_count": 68,
   "id": "a1ed60fb",
   "metadata": {},
   "outputs": [],
   "source": [
    "np.random.seed(2)\n",
    "np.random.shuffle(idx)"
   ]
  },
  {
   "cell_type": "code",
   "execution_count": 69,
   "id": "a43062da",
   "metadata": {},
   "outputs": [],
   "source": [
    "house_df_val = house_df.iloc[idx[:n_val]]\n",
    "house_df_test = house_df.iloc[idx[n_val:n_val+n_test]]\n",
    "house_df_train = house_df.iloc[idx[n_val+n_test:]]\n",
    "\n",
    "# resetting the indexes of the splitted data \n",
    "\n",
    "house_df_train = house_df_train.reset_index(drop=True)\n",
    "house_df_val = house_df_val.reset_index(drop=True)\n",
    "house_df_test = house_df_test.reset_index(drop=True)"
   ]
  },
  {
   "cell_type": "code",
   "execution_count": 70,
   "id": "07aafcea",
   "metadata": {},
   "outputs": [],
   "source": [
    "# extracting the target variable from the splitted dataset\n",
    "# after log transformation \n",
    "\n",
    "y_train = np.log1p(house_df_train.median_house_value.values)\n",
    "y_val = np.log1p(house_df_val.median_house_value.values)\n",
    "y_test = np.log1p(house_df_test.median_house_value.values)"
   ]
  },
  {
   "cell_type": "code",
   "execution_count": 71,
   "id": "c9294df5",
   "metadata": {},
   "outputs": [],
   "source": [
    "# deleting the msrp column from the splitted dataset\n",
    "\n",
    "del house_df_train['median_house_value']\n",
    "del house_df_val['median_house_value']\n",
    "del house_df_test['median_house_value']"
   ]
  },
  {
   "cell_type": "code",
   "execution_count": 72,
   "id": "40c31e75",
   "metadata": {},
   "outputs": [],
   "source": [
    "house_df_train_0 = house_df_train.copy()\n",
    "house_df_val_0 = house_df_val.copy()\n",
    "house_df_test_0 = house_df_test.copy()"
   ]
  },
  {
   "cell_type": "code",
   "execution_count": 73,
   "id": "b75d5786",
   "metadata": {},
   "outputs": [],
   "source": [
    "house_df_train_0['total_bedrooms'] = house_df_train_0.total_bedrooms.fillna(0)\n",
    "house_df_val_0['total_bedrooms'] = house_df_val_0.total_bedrooms.fillna(0)\n",
    "house_df_test_0['total_bedrooms'] = house_df_test_0.total_bedrooms.fillna(0)"
   ]
  },
  {
   "cell_type": "code",
   "execution_count": 74,
   "id": "8f8cee75",
   "metadata": {},
   "outputs": [],
   "source": [
    "X_train = prepare_X(house_df_train_0)"
   ]
  },
  {
   "cell_type": "code",
   "execution_count": 75,
   "id": "2fce657b",
   "metadata": {},
   "outputs": [],
   "source": [
    "w_0, w = train_linear_regression(X_train, y_train)"
   ]
  },
  {
   "cell_type": "code",
   "execution_count": 76,
   "id": "34565168",
   "metadata": {},
   "outputs": [],
   "source": [
    "y_pred = w_0 + X_train.dot(w)"
   ]
  },
  {
   "cell_type": "code",
   "execution_count": 77,
   "id": "690f885a",
   "metadata": {},
   "outputs": [
    {
     "data": {
      "text/plain": [
       "0.34133813028633475"
      ]
     },
     "execution_count": 77,
     "metadata": {},
     "output_type": "execute_result"
    }
   ],
   "source": [
    "X_val = prepare_X(house_df_val_0)\n",
    "y_pred = w_0 + X_val.dot(w)\n",
    "rmse(y_val, y_pred)"
   ]
  },
  {
   "cell_type": "markdown",
   "id": "af17c8ba",
   "metadata": {},
   "source": [
    "**Seed 3**"
   ]
  },
  {
   "cell_type": "code",
   "execution_count": 78,
   "id": "ec42403f",
   "metadata": {},
   "outputs": [],
   "source": [
    "np.random.seed(3)\n",
    "np.random.shuffle(idx)"
   ]
  },
  {
   "cell_type": "code",
   "execution_count": 79,
   "id": "4d6e7c34",
   "metadata": {},
   "outputs": [],
   "source": [
    "house_df_val = house_df.iloc[idx[:n_val]]\n",
    "house_df_test = house_df.iloc[idx[n_val:n_val+n_test]]\n",
    "house_df_train = house_df.iloc[idx[n_val+n_test:]]\n",
    "\n",
    "# resetting the indexes of the splitted data \n",
    "\n",
    "house_df_train = house_df_train.reset_index(drop=True)\n",
    "house_df_val = house_df_val.reset_index(drop=True)\n",
    "house_df_test = house_df_test.reset_index(drop=True)"
   ]
  },
  {
   "cell_type": "code",
   "execution_count": 80,
   "id": "5014844c",
   "metadata": {},
   "outputs": [],
   "source": [
    "# extracting the target variable from the splitted dataset\n",
    "# after log transformation \n",
    "\n",
    "y_train = np.log1p(house_df_train.median_house_value.values)\n",
    "y_val = np.log1p(house_df_val.median_house_value.values)\n",
    "y_test = np.log1p(house_df_test.median_house_value.values)"
   ]
  },
  {
   "cell_type": "code",
   "execution_count": 81,
   "id": "af826952",
   "metadata": {},
   "outputs": [],
   "source": [
    "# deleting the msrp column from the splitted dataset\n",
    "\n",
    "del house_df_train['median_house_value']\n",
    "del house_df_val['median_house_value']\n",
    "del house_df_test['median_house_value']"
   ]
  },
  {
   "cell_type": "code",
   "execution_count": 82,
   "id": "295a973a",
   "metadata": {},
   "outputs": [],
   "source": [
    "house_df_train_0 = house_df_train.copy()\n",
    "house_df_val_0 = house_df_val.copy()\n",
    "house_df_test_0 = house_df_test.copy()"
   ]
  },
  {
   "cell_type": "code",
   "execution_count": 83,
   "id": "5ef0e6d0",
   "metadata": {},
   "outputs": [],
   "source": [
    "house_df_train_0['total_bedrooms'] = house_df_train_0.total_bedrooms.fillna(0)\n",
    "house_df_val_0['total_bedrooms'] = house_df_val_0.total_bedrooms.fillna(0)\n",
    "house_df_test_0['total_bedrooms'] = house_df_test_0.total_bedrooms.fillna(0)"
   ]
  },
  {
   "cell_type": "code",
   "execution_count": 84,
   "id": "0d57b670",
   "metadata": {},
   "outputs": [],
   "source": [
    "X_train = prepare_X(house_df_train_0)"
   ]
  },
  {
   "cell_type": "code",
   "execution_count": 85,
   "id": "9f597261",
   "metadata": {},
   "outputs": [],
   "source": [
    "w_0, w = train_linear_regression(X_train, y_train)"
   ]
  },
  {
   "cell_type": "code",
   "execution_count": 86,
   "id": "9656bd15",
   "metadata": {},
   "outputs": [],
   "source": [
    "y_pred = w_0 + X_train.dot(w)"
   ]
  },
  {
   "cell_type": "code",
   "execution_count": 87,
   "id": "318ef1ed",
   "metadata": {},
   "outputs": [
    {
     "data": {
      "text/plain": [
       "0.3383592632015214"
      ]
     },
     "execution_count": 87,
     "metadata": {},
     "output_type": "execute_result"
    }
   ],
   "source": [
    "X_val = prepare_X(house_df_val_0)\n",
    "y_pred = w_0 + X_val.dot(w)\n",
    "rmse(y_val, y_pred)"
   ]
  },
  {
   "cell_type": "markdown",
   "id": "3d92b0c1",
   "metadata": {},
   "source": [
    "**Seed 4**"
   ]
  },
  {
   "cell_type": "code",
   "execution_count": 88,
   "id": "dff1b1d7",
   "metadata": {},
   "outputs": [],
   "source": [
    "np.random.seed(4)\n",
    "np.random.shuffle(idx)"
   ]
  },
  {
   "cell_type": "code",
   "execution_count": 89,
   "id": "8c608ed6",
   "metadata": {},
   "outputs": [],
   "source": [
    "house_df_val = house_df.iloc[idx[:n_val]]\n",
    "house_df_test = house_df.iloc[idx[n_val:n_val+n_test]]\n",
    "house_df_train = house_df.iloc[idx[n_val+n_test:]]\n",
    "\n",
    "# resetting the indexes of the splitted data \n",
    "\n",
    "house_df_train = house_df_train.reset_index(drop=True)\n",
    "house_df_val = house_df_val.reset_index(drop=True)\n",
    "house_df_test = house_df_test.reset_index(drop=True)"
   ]
  },
  {
   "cell_type": "code",
   "execution_count": 90,
   "id": "50aa5d3c",
   "metadata": {},
   "outputs": [],
   "source": [
    "# extracting the target variable from the splitted dataset\n",
    "# after log transformation \n",
    "\n",
    "y_train = np.log1p(house_df_train.median_house_value.values)\n",
    "y_val = np.log1p(house_df_val.median_house_value.values)\n",
    "y_test = np.log1p(house_df_test.median_house_value.values)"
   ]
  },
  {
   "cell_type": "code",
   "execution_count": 91,
   "id": "c30e14a1",
   "metadata": {},
   "outputs": [],
   "source": [
    "# deleting the msrp column from the splitted dataset\n",
    "\n",
    "del house_df_train['median_house_value']\n",
    "del house_df_val['median_house_value']\n",
    "del house_df_test['median_house_value']"
   ]
  },
  {
   "cell_type": "code",
   "execution_count": 92,
   "id": "ecc1fa0c",
   "metadata": {},
   "outputs": [],
   "source": [
    "house_df_train_0 = house_df_train.copy()\n",
    "house_df_val_0 = house_df_val.copy()\n",
    "house_df_test_0 = house_df_test.copy()"
   ]
  },
  {
   "cell_type": "code",
   "execution_count": 93,
   "id": "c18abcd9",
   "metadata": {},
   "outputs": [],
   "source": [
    "house_df_train_0['total_bedrooms'] = house_df_train_0.total_bedrooms.fillna(0)\n",
    "house_df_val_0['total_bedrooms'] = house_df_val_0.total_bedrooms.fillna(0)\n",
    "house_df_test_0['total_bedrooms'] = house_df_test_0.total_bedrooms.fillna(0)"
   ]
  },
  {
   "cell_type": "code",
   "execution_count": 94,
   "id": "1920190e",
   "metadata": {},
   "outputs": [],
   "source": [
    "X_train = prepare_X(house_df_train_0)"
   ]
  },
  {
   "cell_type": "code",
   "execution_count": 95,
   "id": "0db13a5e",
   "metadata": {},
   "outputs": [],
   "source": [
    "w_0, w = train_linear_regression(X_train, y_train)"
   ]
  },
  {
   "cell_type": "code",
   "execution_count": 96,
   "id": "48bce413",
   "metadata": {},
   "outputs": [],
   "source": [
    "y_pred = w_0 + X_train.dot(w)"
   ]
  },
  {
   "cell_type": "code",
   "execution_count": 97,
   "id": "79706e8d",
   "metadata": {},
   "outputs": [
    {
     "data": {
      "text/plain": [
       "0.3391621960262387"
      ]
     },
     "execution_count": 97,
     "metadata": {},
     "output_type": "execute_result"
    }
   ],
   "source": [
    "X_val = prepare_X(house_df_val_0)\n",
    "y_pred = w_0 + X_val.dot(w)\n",
    "rmse(y_val, y_pred)"
   ]
  },
  {
   "cell_type": "markdown",
   "id": "a37eab32",
   "metadata": {},
   "source": [
    "**Seed 5**"
   ]
  },
  {
   "cell_type": "code",
   "execution_count": 98,
   "id": "68e27eac",
   "metadata": {},
   "outputs": [],
   "source": [
    "np.random.seed(5)\n",
    "np.random.shuffle(idx)"
   ]
  },
  {
   "cell_type": "code",
   "execution_count": 99,
   "id": "83738bf2",
   "metadata": {},
   "outputs": [],
   "source": [
    "house_df_val = house_df.iloc[idx[:n_val]]\n",
    "house_df_test = house_df.iloc[idx[n_val:n_val+n_test]]\n",
    "house_df_train = house_df.iloc[idx[n_val+n_test:]]\n",
    "\n",
    "# resetting the indexes of the splitted data \n",
    "\n",
    "house_df_train = house_df_train.reset_index(drop=True)\n",
    "house_df_val = house_df_val.reset_index(drop=True)\n",
    "house_df_test = house_df_test.reset_index(drop=True)"
   ]
  },
  {
   "cell_type": "code",
   "execution_count": 100,
   "id": "ab407496",
   "metadata": {},
   "outputs": [],
   "source": [
    "# extracting the target variable from the splitted dataset\n",
    "# after log transformation \n",
    "\n",
    "y_train = np.log1p(house_df_train.median_house_value.values)\n",
    "y_val = np.log1p(house_df_val.median_house_value.values)\n",
    "y_test = np.log1p(house_df_test.median_house_value.values)"
   ]
  },
  {
   "cell_type": "code",
   "execution_count": 101,
   "id": "fa4791bd",
   "metadata": {},
   "outputs": [],
   "source": [
    "# deleting the msrp column from the splitted dataset\n",
    "\n",
    "del house_df_train['median_house_value']\n",
    "del house_df_val['median_house_value']\n",
    "del house_df_test['median_house_value']"
   ]
  },
  {
   "cell_type": "code",
   "execution_count": 102,
   "id": "2cde105e",
   "metadata": {},
   "outputs": [],
   "source": [
    "house_df_train_0 = house_df_train.copy()\n",
    "house_df_val_0 = house_df_val.copy()\n",
    "house_df_test_0 = house_df_test.copy()"
   ]
  },
  {
   "cell_type": "code",
   "execution_count": 103,
   "id": "03a459d5",
   "metadata": {},
   "outputs": [],
   "source": [
    "house_df_train_0['total_bedrooms'] = house_df_train_0.total_bedrooms.fillna(0)\n",
    "house_df_val_0['total_bedrooms'] = house_df_val_0.total_bedrooms.fillna(0)\n",
    "house_df_test_0['total_bedrooms'] = house_df_test_0.total_bedrooms.fillna(0)"
   ]
  },
  {
   "cell_type": "code",
   "execution_count": 104,
   "id": "05f1df73",
   "metadata": {},
   "outputs": [],
   "source": [
    "X_train = prepare_X(house_df_train_0)"
   ]
  },
  {
   "cell_type": "code",
   "execution_count": 105,
   "id": "dc4b64cb",
   "metadata": {},
   "outputs": [],
   "source": [
    "w_0, w = train_linear_regression(X_train, y_train)"
   ]
  },
  {
   "cell_type": "code",
   "execution_count": 106,
   "id": "f241d073",
   "metadata": {},
   "outputs": [],
   "source": [
    "y_pred = w_0 + X_train.dot(w)"
   ]
  },
  {
   "cell_type": "code",
   "execution_count": 107,
   "id": "735d2250",
   "metadata": {},
   "outputs": [
    {
     "data": {
      "text/plain": [
       "0.34275495973311554"
      ]
     },
     "execution_count": 107,
     "metadata": {},
     "output_type": "execute_result"
    }
   ],
   "source": [
    "X_val = prepare_X(house_df_val_0)\n",
    "y_pred = w_0 + X_val.dot(w)\n",
    "rmse(y_val, y_pred)"
   ]
  },
  {
   "cell_type": "markdown",
   "id": "9dfba9e9",
   "metadata": {},
   "source": [
    "**Seed 6**"
   ]
  },
  {
   "cell_type": "code",
   "execution_count": 108,
   "id": "930c6d3d",
   "metadata": {},
   "outputs": [],
   "source": [
    "np.random.seed(6)\n",
    "np.random.shuffle(idx)"
   ]
  },
  {
   "cell_type": "code",
   "execution_count": 109,
   "id": "f714c35f",
   "metadata": {},
   "outputs": [],
   "source": [
    "house_df_val = house_df.iloc[idx[:n_val]]\n",
    "house_df_test = house_df.iloc[idx[n_val:n_val+n_test]]\n",
    "house_df_train = house_df.iloc[idx[n_val+n_test:]]\n",
    "\n",
    "# resetting the indexes of the splitted data \n",
    "\n",
    "house_df_train = house_df_train.reset_index(drop=True)\n",
    "house_df_val = house_df_val.reset_index(drop=True)\n",
    "house_df_test = house_df_test.reset_index(drop=True)"
   ]
  },
  {
   "cell_type": "code",
   "execution_count": 110,
   "id": "ca50cd2f",
   "metadata": {},
   "outputs": [],
   "source": [
    "# extracting the target variable from the splitted dataset\n",
    "# after log transformation \n",
    "\n",
    "y_train = np.log1p(house_df_train.median_house_value.values)\n",
    "y_val = np.log1p(house_df_val.median_house_value.values)\n",
    "y_test = np.log1p(house_df_test.median_house_value.values)"
   ]
  },
  {
   "cell_type": "code",
   "execution_count": 111,
   "id": "f30e5919",
   "metadata": {},
   "outputs": [],
   "source": [
    "# deleting the msrp column from the splitted dataset\n",
    "\n",
    "del house_df_train['median_house_value']\n",
    "del house_df_val['median_house_value']\n",
    "del house_df_test['median_house_value']"
   ]
  },
  {
   "cell_type": "code",
   "execution_count": 112,
   "id": "f2282835",
   "metadata": {},
   "outputs": [],
   "source": [
    "house_df_train_0 = house_df_train.copy()\n",
    "house_df_val_0 = house_df_val.copy()\n",
    "house_df_test_0 = house_df_test.copy()"
   ]
  },
  {
   "cell_type": "code",
   "execution_count": 113,
   "id": "9279443d",
   "metadata": {},
   "outputs": [],
   "source": [
    "house_df_train_0['total_bedrooms'] = house_df_train_0.total_bedrooms.fillna(0)\n",
    "house_df_val_0['total_bedrooms'] = house_df_val_0.total_bedrooms.fillna(0)\n",
    "house_df_test_0['total_bedrooms'] = house_df_test_0.total_bedrooms.fillna(0)"
   ]
  },
  {
   "cell_type": "code",
   "execution_count": 114,
   "id": "b03108ca",
   "metadata": {},
   "outputs": [],
   "source": [
    "X_train = prepare_X(house_df_train_0)"
   ]
  },
  {
   "cell_type": "code",
   "execution_count": 115,
   "id": "d1f4afb2",
   "metadata": {},
   "outputs": [],
   "source": [
    "w_0, w = train_linear_regression(X_train, y_train)"
   ]
  },
  {
   "cell_type": "code",
   "execution_count": 116,
   "id": "c948d896",
   "metadata": {},
   "outputs": [],
   "source": [
    "y_pred = w_0 + X_train.dot(w)"
   ]
  },
  {
   "cell_type": "code",
   "execution_count": 117,
   "id": "b044c753",
   "metadata": {},
   "outputs": [
    {
     "data": {
      "text/plain": [
       "0.3430132885180559"
      ]
     },
     "execution_count": 117,
     "metadata": {},
     "output_type": "execute_result"
    }
   ],
   "source": [
    "X_val = prepare_X(house_df_val_0)\n",
    "y_pred = w_0 + X_val.dot(w)\n",
    "rmse(y_val, y_pred)"
   ]
  },
  {
   "cell_type": "markdown",
   "id": "a265f253",
   "metadata": {},
   "source": [
    "**Seed 7**"
   ]
  },
  {
   "cell_type": "code",
   "execution_count": 118,
   "id": "3b9f8b06",
   "metadata": {},
   "outputs": [],
   "source": [
    "np.random.seed(7)\n",
    "np.random.shuffle(idx)"
   ]
  },
  {
   "cell_type": "code",
   "execution_count": 119,
   "id": "44adae12",
   "metadata": {},
   "outputs": [],
   "source": [
    "house_df_val = house_df.iloc[idx[:n_val]]\n",
    "house_df_test = house_df.iloc[idx[n_val:n_val+n_test]]\n",
    "house_df_train = house_df.iloc[idx[n_val+n_test:]]\n",
    "\n",
    "# resetting the indexes of the splitted data \n",
    "\n",
    "house_df_train = house_df_train.reset_index(drop=True)\n",
    "house_df_val = house_df_val.reset_index(drop=True)\n",
    "house_df_test = house_df_test.reset_index(drop=True)"
   ]
  },
  {
   "cell_type": "code",
   "execution_count": 120,
   "id": "590215b4",
   "metadata": {},
   "outputs": [],
   "source": [
    "# extracting the target variable from the splitted dataset\n",
    "# after log transformation \n",
    "\n",
    "y_train = np.log1p(house_df_train.median_house_value.values)\n",
    "y_val = np.log1p(house_df_val.median_house_value.values)\n",
    "y_test = np.log1p(house_df_test.median_house_value.values)"
   ]
  },
  {
   "cell_type": "code",
   "execution_count": 121,
   "id": "d9c48a72",
   "metadata": {},
   "outputs": [],
   "source": [
    "# deleting the msrp column from the splitted dataset\n",
    "\n",
    "del house_df_train['median_house_value']\n",
    "del house_df_val['median_house_value']\n",
    "del house_df_test['median_house_value']"
   ]
  },
  {
   "cell_type": "code",
   "execution_count": 122,
   "id": "bcb7db25",
   "metadata": {},
   "outputs": [],
   "source": [
    "house_df_train_0 = house_df_train.copy()\n",
    "house_df_val_0 = house_df_val.copy()\n",
    "house_df_test_0 = house_df_test.copy()"
   ]
  },
  {
   "cell_type": "code",
   "execution_count": 123,
   "id": "dc4eb796",
   "metadata": {},
   "outputs": [],
   "source": [
    "house_df_train_0['total_bedrooms'] = house_df_train_0.total_bedrooms.fillna(0)\n",
    "house_df_val_0['total_bedrooms'] = house_df_val_0.total_bedrooms.fillna(0)\n",
    "house_df_test_0['total_bedrooms'] = house_df_test_0.total_bedrooms.fillna(0)"
   ]
  },
  {
   "cell_type": "code",
   "execution_count": 124,
   "id": "5eba3c9d",
   "metadata": {},
   "outputs": [],
   "source": [
    "X_train = prepare_X(house_df_train_0)"
   ]
  },
  {
   "cell_type": "code",
   "execution_count": 125,
   "id": "65123239",
   "metadata": {},
   "outputs": [],
   "source": [
    "w_0, w = train_linear_regression(X_train, y_train)"
   ]
  },
  {
   "cell_type": "code",
   "execution_count": 126,
   "id": "d9ab68a8",
   "metadata": {},
   "outputs": [],
   "source": [
    "y_pred = w_0 + X_train.dot(w)"
   ]
  },
  {
   "cell_type": "code",
   "execution_count": 127,
   "id": "c54bf0d5",
   "metadata": {},
   "outputs": [
    {
     "data": {
      "text/plain": [
       "0.34391125114790627"
      ]
     },
     "execution_count": 127,
     "metadata": {},
     "output_type": "execute_result"
    }
   ],
   "source": [
    "X_val = prepare_X(house_df_val_0)\n",
    "y_pred = w_0 + X_val.dot(w)\n",
    "rmse(y_val, y_pred)"
   ]
  },
  {
   "cell_type": "markdown",
   "id": "05bdf2a1",
   "metadata": {},
   "source": [
    "**Seed 8** "
   ]
  },
  {
   "cell_type": "code",
   "execution_count": 128,
   "id": "7567d321",
   "metadata": {},
   "outputs": [],
   "source": [
    "np.random.seed(8)\n",
    "np.random.shuffle(idx)"
   ]
  },
  {
   "cell_type": "code",
   "execution_count": 129,
   "id": "3e9ccc77",
   "metadata": {},
   "outputs": [],
   "source": [
    "house_df_val = house_df.iloc[idx[:n_val]]\n",
    "house_df_test = house_df.iloc[idx[n_val:n_val+n_test]]\n",
    "house_df_train = house_df.iloc[idx[n_val+n_test:]]\n",
    "\n",
    "# resetting the indexes of the splitted data \n",
    "\n",
    "house_df_train = house_df_train.reset_index(drop=True)\n",
    "house_df_val = house_df_val.reset_index(drop=True)\n",
    "house_df_test = house_df_test.reset_index(drop=True)"
   ]
  },
  {
   "cell_type": "code",
   "execution_count": 130,
   "id": "a22c5842",
   "metadata": {},
   "outputs": [],
   "source": [
    "# extracting the target variable from the splitted dataset\n",
    "# after log transformation \n",
    "\n",
    "y_train = np.log1p(house_df_train.median_house_value.values)\n",
    "y_val = np.log1p(house_df_val.median_house_value.values)\n",
    "y_test = np.log1p(house_df_test.median_house_value.values)"
   ]
  },
  {
   "cell_type": "code",
   "execution_count": 131,
   "id": "075955be",
   "metadata": {},
   "outputs": [],
   "source": [
    "# deleting the msrp column from the splitted dataset\n",
    "\n",
    "del house_df_train['median_house_value']\n",
    "del house_df_val['median_house_value']\n",
    "del house_df_test['median_house_value']"
   ]
  },
  {
   "cell_type": "code",
   "execution_count": 132,
   "id": "016ffdf1",
   "metadata": {},
   "outputs": [],
   "source": [
    "house_df_train_0 = house_df_train.copy()\n",
    "house_df_val_0 = house_df_val.copy()\n",
    "house_df_test_0 = house_df_test.copy()"
   ]
  },
  {
   "cell_type": "code",
   "execution_count": 133,
   "id": "91170b6a",
   "metadata": {},
   "outputs": [],
   "source": [
    "house_df_train_0['total_bedrooms'] = house_df_train_0.total_bedrooms.fillna(0)\n",
    "house_df_val_0['total_bedrooms'] = house_df_val_0.total_bedrooms.fillna(0)\n",
    "house_df_test_0['total_bedrooms'] = house_df_test_0.total_bedrooms.fillna(0)"
   ]
  },
  {
   "cell_type": "code",
   "execution_count": 134,
   "id": "324f124f",
   "metadata": {},
   "outputs": [],
   "source": [
    "X_train = prepare_X(house_df_train_0)"
   ]
  },
  {
   "cell_type": "code",
   "execution_count": 135,
   "id": "2d6642db",
   "metadata": {},
   "outputs": [],
   "source": [
    "w_0, w = train_linear_regression(X_train, y_train)"
   ]
  },
  {
   "cell_type": "code",
   "execution_count": 136,
   "id": "ce8a5390",
   "metadata": {},
   "outputs": [],
   "source": [
    "y_pred = w_0 + X_train.dot(w)"
   ]
  },
  {
   "cell_type": "code",
   "execution_count": 137,
   "id": "86c48d78",
   "metadata": {},
   "outputs": [
    {
     "data": {
      "text/plain": [
       "0.3357403980502115"
      ]
     },
     "execution_count": 137,
     "metadata": {},
     "output_type": "execute_result"
    }
   ],
   "source": [
    "X_val = prepare_X(house_df_val_0)\n",
    "y_pred = w_0 + X_val.dot(w)\n",
    "rmse(y_val, y_pred)"
   ]
  },
  {
   "cell_type": "markdown",
   "id": "80836593",
   "metadata": {},
   "source": [
    "**Seed 9**"
   ]
  },
  {
   "cell_type": "code",
   "execution_count": 138,
   "id": "e858441a",
   "metadata": {},
   "outputs": [],
   "source": [
    "np.random.seed(9)\n",
    "np.random.shuffle(idx)"
   ]
  },
  {
   "cell_type": "code",
   "execution_count": 139,
   "id": "fb6b2bd2",
   "metadata": {},
   "outputs": [],
   "source": [
    "house_df_val = house_df.iloc[idx[:n_val]]\n",
    "house_df_test = house_df.iloc[idx[n_val:n_val+n_test]]\n",
    "house_df_train = house_df.iloc[idx[n_val+n_test:]]\n",
    "\n",
    "# resetting the indexes of the splitted data \n",
    "\n",
    "house_df_train = house_df_train.reset_index(drop=True)\n",
    "house_df_val = house_df_val.reset_index(drop=True)\n",
    "house_df_test = house_df_test.reset_index(drop=True)"
   ]
  },
  {
   "cell_type": "code",
   "execution_count": 140,
   "id": "e34e956f",
   "metadata": {},
   "outputs": [],
   "source": [
    "# extracting the target variable from the splitted dataset\n",
    "# after log transformation \n",
    "\n",
    "y_train = np.log1p(house_df_train.median_house_value.values)\n",
    "y_val = np.log1p(house_df_val.median_house_value.values)\n",
    "y_test = np.log1p(house_df_test.median_house_value.values)"
   ]
  },
  {
   "cell_type": "code",
   "execution_count": 141,
   "id": "7b1b10a2",
   "metadata": {},
   "outputs": [],
   "source": [
    "# deleting the msrp column from the splitted dataset\n",
    "\n",
    "del house_df_train['median_house_value']\n",
    "del house_df_val['median_house_value']\n",
    "del house_df_test['median_house_value']"
   ]
  },
  {
   "cell_type": "code",
   "execution_count": 142,
   "id": "ff147272",
   "metadata": {},
   "outputs": [],
   "source": [
    "house_df_train_0 = house_df_train.copy()\n",
    "house_df_val_0 = house_df_val.copy()\n",
    "house_df_test_0 = house_df_test.copy()"
   ]
  },
  {
   "cell_type": "code",
   "execution_count": 143,
   "id": "7627933d",
   "metadata": {},
   "outputs": [],
   "source": [
    "house_df_train_0['total_bedrooms'] = house_df_train_0.total_bedrooms.fillna(0)\n",
    "house_df_val_0['total_bedrooms'] = house_df_val_0.total_bedrooms.fillna(0)\n",
    "house_df_test_0['total_bedrooms'] = house_df_test_0.total_bedrooms.fillna(0)"
   ]
  },
  {
   "cell_type": "code",
   "execution_count": 144,
   "id": "5fde0aac",
   "metadata": {},
   "outputs": [],
   "source": [
    "X_train = prepare_X(house_df_train_0)"
   ]
  },
  {
   "cell_type": "code",
   "execution_count": 145,
   "id": "3b190a5f",
   "metadata": {},
   "outputs": [],
   "source": [
    "w_0, w = train_linear_regression(X_train, y_train)"
   ]
  },
  {
   "cell_type": "code",
   "execution_count": 146,
   "id": "89220505",
   "metadata": {},
   "outputs": [],
   "source": [
    "y_pred = w_0 + X_train.dot(w)"
   ]
  },
  {
   "cell_type": "code",
   "execution_count": 147,
   "id": "74bd1c53",
   "metadata": {},
   "outputs": [
    {
     "data": {
      "text/plain": [
       "0.34694806615650997"
      ]
     },
     "execution_count": 147,
     "metadata": {},
     "output_type": "execute_result"
    }
   ],
   "source": [
    "X_val = prepare_X(house_df_val_0)\n",
    "y_pred = w_0 + X_val.dot(w)\n",
    "rmse(y_val, y_pred)"
   ]
  },
  {
   "cell_type": "markdown",
   "id": "e46f2b4c",
   "metadata": {},
   "source": [
    "`computing the standard deviation of all the rmse score of each seed`"
   ]
  },
  {
   "cell_type": "code",
   "execution_count": 148,
   "id": "182e3844",
   "metadata": {},
   "outputs": [],
   "source": [
    "std = np.std([\n",
    "    0.33258860023819137, 0.3455742620842655, 0.34133813028633475, 0.3383592632015214, \n",
    "    0.3391621960262387, 0.34275495973311554, 0.3430132885180559, 0.34391125114790627,\n",
    "    0.3357403980502115, 0.34694806615650997    \n",
    "])"
   ]
  },
  {
   "cell_type": "code",
   "execution_count": 149,
   "id": "cde7fa5f",
   "metadata": {},
   "outputs": [
    {
     "data": {
      "text/plain": [
       "0.004"
      ]
     },
     "execution_count": 149,
     "metadata": {},
     "output_type": "execute_result"
    }
   ],
   "source": [
    "round(std, 3)"
   ]
  },
  {
   "cell_type": "markdown",
   "id": "e53d9234",
   "metadata": {},
   "source": [
    "# Testing with seed 9 "
   ]
  },
  {
   "cell_type": "code",
   "execution_count": 150,
   "id": "f040a21e",
   "metadata": {},
   "outputs": [],
   "source": [
    "np.random.seed(9)\n",
    "np.random.shuffle(idx)"
   ]
  },
  {
   "cell_type": "code",
   "execution_count": 151,
   "id": "8157aefc",
   "metadata": {},
   "outputs": [],
   "source": [
    "house_df_test = house_df.iloc[idx[:n_test]]\n",
    "house_df_train = house_df.iloc[idx[n_test:]]\n",
    "\n",
    "# resetting the indexes of the splitted data \n",
    "\n",
    "house_df_train = house_df_train.reset_index(drop=True)\n",
    "house_df_test = house_df_test.reset_index(drop=True)"
   ]
  },
  {
   "cell_type": "code",
   "execution_count": 152,
   "id": "1fd22726",
   "metadata": {},
   "outputs": [],
   "source": [
    "# extracting the target variable from the splitted dataset\n",
    "# after log transformation \n",
    "\n",
    "y_train = np.log1p(house_df_train.median_house_value.values)\n",
    "y_test = np.log1p(house_df_test.median_house_value.values)"
   ]
  },
  {
   "cell_type": "code",
   "execution_count": 153,
   "id": "ef7f580e",
   "metadata": {},
   "outputs": [],
   "source": [
    "# deleting the msrp column from the splitted dataset\n",
    "\n",
    "del house_df_train['median_house_value']\n",
    "del house_df_test['median_house_value']"
   ]
  },
  {
   "cell_type": "code",
   "execution_count": 154,
   "id": "bf973a9b",
   "metadata": {},
   "outputs": [],
   "source": [
    "house_df_train_0 = house_df_train.copy()\n",
    "house_df_test_0 = house_df_test.copy()"
   ]
  },
  {
   "cell_type": "code",
   "execution_count": 155,
   "id": "10100aef",
   "metadata": {},
   "outputs": [],
   "source": [
    "house_df_train_0['total_bedrooms'] = house_df_train_0.total_bedrooms.fillna(0)\n",
    "house_df_test_0['total_bedrooms'] = house_df_test_0.total_bedrooms.fillna(0)"
   ]
  },
  {
   "cell_type": "code",
   "execution_count": 156,
   "id": "d249d8f7",
   "metadata": {},
   "outputs": [],
   "source": [
    "X_train = prepare_X(house_df_train_0)"
   ]
  },
  {
   "cell_type": "code",
   "execution_count": 157,
   "id": "669e87d3",
   "metadata": {},
   "outputs": [],
   "source": [
    "w_0, w = train_linear_regression_reg(X_train, y_train, r=0.001)"
   ]
  },
  {
   "cell_type": "code",
   "execution_count": 158,
   "id": "ad76d838",
   "metadata": {},
   "outputs": [],
   "source": [
    "X_test = prepare_X(house_df_test_0)"
   ]
  },
  {
   "cell_type": "code",
   "execution_count": 159,
   "id": "53ebbe23",
   "metadata": {},
   "outputs": [],
   "source": [
    "y_pred = w_0 + X_test.dot(w)"
   ]
  },
  {
   "cell_type": "code",
   "execution_count": 160,
   "id": "06dd0e72",
   "metadata": {},
   "outputs": [
    {
     "data": {
      "text/plain": [
       "0.3327965460035701"
      ]
     },
     "execution_count": 160,
     "metadata": {},
     "output_type": "execute_result"
    }
   ],
   "source": [
    "rmse(y_test, y_pred)"
   ]
  },
  {
   "cell_type": "code",
   "execution_count": null,
   "id": "ae0ff0cc",
   "metadata": {},
   "outputs": [],
   "source": []
  }
 ],
 "metadata": {
  "kernelspec": {
   "display_name": "Python 3",
   "language": "python",
   "name": "python3"
  },
  "language_info": {
   "codemirror_mode": {
    "name": "ipython",
    "version": 3
   },
   "file_extension": ".py",
   "mimetype": "text/x-python",
   "name": "python",
   "nbconvert_exporter": "python",
   "pygments_lexer": "ipython3",
   "version": "3.8.8"
  },
  "latex_envs": {
   "LaTeX_envs_menu_present": true,
   "autoclose": false,
   "autocomplete": true,
   "bibliofile": "biblio.bib",
   "cite_by": "apalike",
   "current_citInitial": 1,
   "eqLabelWithNumbers": true,
   "eqNumInitial": 1,
   "hotkeys": {
    "equation": "Ctrl-E",
    "itemize": "Ctrl-I"
   },
   "labels_anchors": false,
   "latex_user_defs": false,
   "report_style_numbering": false,
   "user_envs_cfg": false
  },
  "toc": {
   "base_numbering": 1,
   "nav_menu": {},
   "number_sections": true,
   "sideBar": true,
   "skip_h1_title": false,
   "title_cell": "Table of Contents",
   "title_sidebar": "Contents",
   "toc_cell": false,
   "toc_position": {},
   "toc_section_display": true,
   "toc_window_display": false
  }
 },
 "nbformat": 4,
 "nbformat_minor": 5
}
