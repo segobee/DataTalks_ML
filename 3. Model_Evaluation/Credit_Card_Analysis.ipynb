{
 "cells": [
  {
   "cell_type": "code",
   "execution_count": 1,
   "id": "4b56ff07",
   "metadata": {},
   "outputs": [],
   "source": [
    "import numpy as np\n",
    "import pandas as pd \n",
    "import matplotlib.pyplot as plt\n",
    "import seaborn as sns\n",
    "\n",
    "%matplotlib inline"
   ]
  },
  {
   "cell_type": "code",
   "execution_count": 2,
   "id": "a4479597",
   "metadata": {},
   "outputs": [],
   "source": [
    "# saving the data url\n",
    "\n",
    "#data = 'https://raw.githubusercontent.com/alexeygrigorev/datasets/master/AER_credit_card_data.csv'"
   ]
  },
  {
   "cell_type": "code",
   "execution_count": 3,
   "id": "21c5802a",
   "metadata": {},
   "outputs": [],
   "source": [
    "# downloading the data with wget\n",
    "\n",
    "#!wget $data"
   ]
  },
  {
   "cell_type": "code",
   "execution_count": 4,
   "id": "3135e4f8",
   "metadata": {},
   "outputs": [
    {
     "data": {
      "text/html": [
       "<div>\n",
       "<style scoped>\n",
       "    .dataframe tbody tr th:only-of-type {\n",
       "        vertical-align: middle;\n",
       "    }\n",
       "\n",
       "    .dataframe tbody tr th {\n",
       "        vertical-align: top;\n",
       "    }\n",
       "\n",
       "    .dataframe thead th {\n",
       "        text-align: right;\n",
       "    }\n",
       "</style>\n",
       "<table border=\"1\" class=\"dataframe\">\n",
       "  <thead>\n",
       "    <tr style=\"text-align: right;\">\n",
       "      <th></th>\n",
       "      <th>card</th>\n",
       "      <th>reports</th>\n",
       "      <th>age</th>\n",
       "      <th>income</th>\n",
       "      <th>share</th>\n",
       "      <th>expenditure</th>\n",
       "      <th>owner</th>\n",
       "      <th>selfemp</th>\n",
       "      <th>dependents</th>\n",
       "      <th>months</th>\n",
       "      <th>majorcards</th>\n",
       "      <th>active</th>\n",
       "    </tr>\n",
       "  </thead>\n",
       "  <tbody>\n",
       "    <tr>\n",
       "      <th>0</th>\n",
       "      <td>yes</td>\n",
       "      <td>0</td>\n",
       "      <td>37.66667</td>\n",
       "      <td>4.5200</td>\n",
       "      <td>0.033270</td>\n",
       "      <td>124.983300</td>\n",
       "      <td>yes</td>\n",
       "      <td>no</td>\n",
       "      <td>3</td>\n",
       "      <td>54</td>\n",
       "      <td>1</td>\n",
       "      <td>12</td>\n",
       "    </tr>\n",
       "    <tr>\n",
       "      <th>1</th>\n",
       "      <td>yes</td>\n",
       "      <td>0</td>\n",
       "      <td>33.25000</td>\n",
       "      <td>2.4200</td>\n",
       "      <td>0.005217</td>\n",
       "      <td>9.854167</td>\n",
       "      <td>no</td>\n",
       "      <td>no</td>\n",
       "      <td>3</td>\n",
       "      <td>34</td>\n",
       "      <td>1</td>\n",
       "      <td>13</td>\n",
       "    </tr>\n",
       "    <tr>\n",
       "      <th>2</th>\n",
       "      <td>yes</td>\n",
       "      <td>0</td>\n",
       "      <td>33.66667</td>\n",
       "      <td>4.5000</td>\n",
       "      <td>0.004156</td>\n",
       "      <td>15.000000</td>\n",
       "      <td>yes</td>\n",
       "      <td>no</td>\n",
       "      <td>4</td>\n",
       "      <td>58</td>\n",
       "      <td>1</td>\n",
       "      <td>5</td>\n",
       "    </tr>\n",
       "    <tr>\n",
       "      <th>3</th>\n",
       "      <td>yes</td>\n",
       "      <td>0</td>\n",
       "      <td>30.50000</td>\n",
       "      <td>2.5400</td>\n",
       "      <td>0.065214</td>\n",
       "      <td>137.869200</td>\n",
       "      <td>no</td>\n",
       "      <td>no</td>\n",
       "      <td>0</td>\n",
       "      <td>25</td>\n",
       "      <td>1</td>\n",
       "      <td>7</td>\n",
       "    </tr>\n",
       "    <tr>\n",
       "      <th>4</th>\n",
       "      <td>yes</td>\n",
       "      <td>0</td>\n",
       "      <td>32.16667</td>\n",
       "      <td>9.7867</td>\n",
       "      <td>0.067051</td>\n",
       "      <td>546.503300</td>\n",
       "      <td>yes</td>\n",
       "      <td>no</td>\n",
       "      <td>2</td>\n",
       "      <td>64</td>\n",
       "      <td>1</td>\n",
       "      <td>5</td>\n",
       "    </tr>\n",
       "  </tbody>\n",
       "</table>\n",
       "</div>"
      ],
      "text/plain": [
       "  card  reports       age  income     share  expenditure owner selfemp  \\\n",
       "0  yes        0  37.66667  4.5200  0.033270   124.983300   yes      no   \n",
       "1  yes        0  33.25000  2.4200  0.005217     9.854167    no      no   \n",
       "2  yes        0  33.66667  4.5000  0.004156    15.000000   yes      no   \n",
       "3  yes        0  30.50000  2.5400  0.065214   137.869200    no      no   \n",
       "4  yes        0  32.16667  9.7867  0.067051   546.503300   yes      no   \n",
       "\n",
       "   dependents  months  majorcards  active  \n",
       "0           3      54           1      12  \n",
       "1           3      34           1      13  \n",
       "2           4      58           1       5  \n",
       "3           0      25           1       7  \n",
       "4           2      64           1       5  "
      ]
     },
     "execution_count": 4,
     "metadata": {},
     "output_type": "execute_result"
    }
   ],
   "source": [
    "credit_card_df = pd.read_csv('AER_credit_card_data.csv')\n",
    "credit_card_df.head()"
   ]
  },
  {
   "cell_type": "code",
   "execution_count": 5,
   "id": "f51f1851",
   "metadata": {},
   "outputs": [
    {
     "data": {
      "text/plain": [
       "card           0\n",
       "reports        0\n",
       "age            0\n",
       "income         0\n",
       "share          0\n",
       "expenditure    0\n",
       "owner          0\n",
       "selfemp        0\n",
       "dependents     0\n",
       "months         0\n",
       "majorcards     0\n",
       "active         0\n",
       "dtype: int64"
      ]
     },
     "execution_count": 5,
     "metadata": {},
     "output_type": "execute_result"
    }
   ],
   "source": [
    "credit_card_df.isna().sum()"
   ]
  },
  {
   "cell_type": "code",
   "execution_count": 6,
   "id": "6a24628f",
   "metadata": {},
   "outputs": [
    {
     "data": {
      "text/plain": [
       "0"
      ]
     },
     "execution_count": 6,
     "metadata": {},
     "output_type": "execute_result"
    }
   ],
   "source": [
    "credit_card_df.duplicated().sum()"
   ]
  },
  {
   "cell_type": "code",
   "execution_count": 7,
   "id": "700f3abb",
   "metadata": {},
   "outputs": [
    {
     "data": {
      "text/plain": [
       "(1319, 12)"
      ]
     },
     "execution_count": 7,
     "metadata": {},
     "output_type": "execute_result"
    }
   ],
   "source": [
    "credit_card_df.shape"
   ]
  },
  {
   "cell_type": "code",
   "execution_count": 8,
   "id": "6fcdb9b2",
   "metadata": {
    "scrolled": true
   },
   "outputs": [
    {
     "data": {
      "text/plain": [
       "1    1078\n",
       "0     241\n",
       "Name: majorcards, dtype: int64"
      ]
     },
     "execution_count": 8,
     "metadata": {},
     "output_type": "execute_result"
    }
   ],
   "source": [
    "credit_card_df.majorcards.value_counts()"
   ]
  },
  {
   "cell_type": "markdown",
   "id": "109a2822",
   "metadata": {},
   "source": [
    "The target variable ==> card column"
   ]
  },
  {
   "cell_type": "code",
   "execution_count": 9,
   "id": "1fa92d90",
   "metadata": {},
   "outputs": [
    {
     "data": {
      "text/plain": [
       "yes    1023\n",
       "no      296\n",
       "Name: card, dtype: int64"
      ]
     },
     "execution_count": 9,
     "metadata": {},
     "output_type": "execute_result"
    }
   ],
   "source": [
    "credit_card_df.card.value_counts()"
   ]
  },
  {
   "cell_type": "code",
   "execution_count": 10,
   "id": "9c27a5b0",
   "metadata": {},
   "outputs": [
    {
     "data": {
      "text/plain": [
       "card            object\n",
       "reports          int64\n",
       "age            float64\n",
       "income         float64\n",
       "share          float64\n",
       "expenditure    float64\n",
       "owner           object\n",
       "selfemp         object\n",
       "dependents       int64\n",
       "months           int64\n",
       "majorcards       int64\n",
       "active           int64\n",
       "dtype: object"
      ]
     },
     "execution_count": 10,
     "metadata": {},
     "output_type": "execute_result"
    }
   ],
   "source": [
    "credit_card_df.dtypes"
   ]
  },
  {
   "cell_type": "markdown",
   "id": "15b500c6",
   "metadata": {},
   "source": [
    "Transforming the value of the target variable (card) from `yes` to `1` and `no` to `0`"
   ]
  },
  {
   "cell_type": "code",
   "execution_count": 11,
   "id": "92e8ae51",
   "metadata": {},
   "outputs": [],
   "source": [
    "credit_card_df.card = (credit_card_df.card == 'yes').astype(int)"
   ]
  },
  {
   "cell_type": "code",
   "execution_count": 12,
   "id": "69179399",
   "metadata": {},
   "outputs": [
    {
     "data": {
      "text/plain": [
       "1    1023\n",
       "0     296\n",
       "Name: card, dtype: int64"
      ]
     },
     "execution_count": 12,
     "metadata": {},
     "output_type": "execute_result"
    }
   ],
   "source": [
    "credit_card_df.card.value_counts()"
   ]
  },
  {
   "cell_type": "markdown",
   "id": "a3f062b0",
   "metadata": {},
   "source": [
    "# Data Splitting with Scikit Learn"
   ]
  },
  {
   "cell_type": "code",
   "execution_count": 13,
   "id": "abbf331b",
   "metadata": {},
   "outputs": [],
   "source": [
    "from sklearn.model_selection import train_test_split"
   ]
  },
  {
   "cell_type": "code",
   "execution_count": 14,
   "id": "abdb84e9",
   "metadata": {},
   "outputs": [],
   "source": [
    "# first split \n",
    "\n",
    "df_full_train, df_test = train_test_split(credit_card_df, test_size=0.2, random_state=1)\n",
    "\n",
    "# second split\n",
    "\n",
    "df_train, df_val = train_test_split(df_full_train, test_size=0.25, random_state=1)"
   ]
  },
  {
   "cell_type": "code",
   "execution_count": 15,
   "id": "83bfafb2",
   "metadata": {},
   "outputs": [
    {
     "data": {
      "text/plain": [
       "(791, 264, 264)"
      ]
     },
     "execution_count": 15,
     "metadata": {},
     "output_type": "execute_result"
    }
   ],
   "source": [
    "len(df_train), len(df_test), len(df_val)"
   ]
  },
  {
   "cell_type": "code",
   "execution_count": 16,
   "id": "df126847",
   "metadata": {},
   "outputs": [
    {
     "data": {
      "text/plain": [
       "Index(['card', 'reports', 'age', 'income', 'share', 'expenditure', 'owner',\n",
       "       'selfemp', 'dependents', 'months', 'majorcards', 'active'],\n",
       "      dtype='object')"
      ]
     },
     "execution_count": 16,
     "metadata": {},
     "output_type": "execute_result"
    }
   ],
   "source": [
    "df_train.columns"
   ]
  },
  {
   "cell_type": "code",
   "execution_count": 17,
   "id": "83811ec1",
   "metadata": {},
   "outputs": [],
   "source": [
    "# resetting the indexes of the dataframes \n",
    "\n",
    "df_train = df_train.reset_index(drop=True)\n",
    "df_val = df_val.reset_index(drop=True)\n",
    "df_test = df_test.reset_index(drop=True)"
   ]
  },
  {
   "cell_type": "code",
   "execution_count": 18,
   "id": "1e5517f0",
   "metadata": {},
   "outputs": [],
   "source": [
    "X_train = df_train\n",
    "X_val = df_val\n",
    "X_test = df_test"
   ]
  },
  {
   "cell_type": "code",
   "execution_count": 19,
   "id": "123e77f6",
   "metadata": {},
   "outputs": [],
   "source": [
    "# getting the target variable\n",
    "\n",
    "y_train = df_train.card.values\n",
    "y_val = df_val.card.values\n",
    "y_test = df_test.card.values\n"
   ]
  },
  {
   "cell_type": "code",
   "execution_count": 20,
   "id": "078fa88c",
   "metadata": {},
   "outputs": [],
   "source": [
    "# deleting the card variable from the dataframes \n",
    "\n",
    "del df_train['card']\n",
    "del df_val['card']\n",
    "del df_test['card']"
   ]
  },
  {
   "cell_type": "code",
   "execution_count": 21,
   "id": "6001d4e7",
   "metadata": {
    "scrolled": false
   },
   "outputs": [
    {
     "data": {
      "text/html": [
       "<div>\n",
       "<style scoped>\n",
       "    .dataframe tbody tr th:only-of-type {\n",
       "        vertical-align: middle;\n",
       "    }\n",
       "\n",
       "    .dataframe tbody tr th {\n",
       "        vertical-align: top;\n",
       "    }\n",
       "\n",
       "    .dataframe thead th {\n",
       "        text-align: right;\n",
       "    }\n",
       "</style>\n",
       "<table border=\"1\" class=\"dataframe\">\n",
       "  <thead>\n",
       "    <tr style=\"text-align: right;\">\n",
       "      <th></th>\n",
       "      <th>reports</th>\n",
       "      <th>age</th>\n",
       "      <th>income</th>\n",
       "      <th>share</th>\n",
       "      <th>expenditure</th>\n",
       "      <th>owner</th>\n",
       "      <th>selfemp</th>\n",
       "      <th>dependents</th>\n",
       "      <th>months</th>\n",
       "      <th>majorcards</th>\n",
       "      <th>active</th>\n",
       "    </tr>\n",
       "  </thead>\n",
       "  <tbody>\n",
       "    <tr>\n",
       "      <th>0</th>\n",
       "      <td>3</td>\n",
       "      <td>40.50000</td>\n",
       "      <td>4.0128</td>\n",
       "      <td>0.000299</td>\n",
       "      <td>0.00000</td>\n",
       "      <td>no</td>\n",
       "      <td>no</td>\n",
       "      <td>1</td>\n",
       "      <td>12</td>\n",
       "      <td>1</td>\n",
       "      <td>17</td>\n",
       "    </tr>\n",
       "    <tr>\n",
       "      <th>1</th>\n",
       "      <td>1</td>\n",
       "      <td>32.33333</td>\n",
       "      <td>6.0000</td>\n",
       "      <td>0.000200</td>\n",
       "      <td>0.00000</td>\n",
       "      <td>yes</td>\n",
       "      <td>no</td>\n",
       "      <td>4</td>\n",
       "      <td>18</td>\n",
       "      <td>1</td>\n",
       "      <td>4</td>\n",
       "    </tr>\n",
       "    <tr>\n",
       "      <th>2</th>\n",
       "      <td>1</td>\n",
       "      <td>29.16667</td>\n",
       "      <td>2.2000</td>\n",
       "      <td>0.038205</td>\n",
       "      <td>69.79333</td>\n",
       "      <td>no</td>\n",
       "      <td>no</td>\n",
       "      <td>0</td>\n",
       "      <td>49</td>\n",
       "      <td>1</td>\n",
       "      <td>7</td>\n",
       "    </tr>\n",
       "    <tr>\n",
       "      <th>3</th>\n",
       "      <td>1</td>\n",
       "      <td>54.66667</td>\n",
       "      <td>7.2900</td>\n",
       "      <td>0.106536</td>\n",
       "      <td>647.20670</td>\n",
       "      <td>yes</td>\n",
       "      <td>no</td>\n",
       "      <td>2</td>\n",
       "      <td>78</td>\n",
       "      <td>1</td>\n",
       "      <td>9</td>\n",
       "    </tr>\n",
       "    <tr>\n",
       "      <th>4</th>\n",
       "      <td>0</td>\n",
       "      <td>25.00000</td>\n",
       "      <td>3.3984</td>\n",
       "      <td>0.000353</td>\n",
       "      <td>0.00000</td>\n",
       "      <td>yes</td>\n",
       "      <td>no</td>\n",
       "      <td>2</td>\n",
       "      <td>29</td>\n",
       "      <td>0</td>\n",
       "      <td>4</td>\n",
       "    </tr>\n",
       "  </tbody>\n",
       "</table>\n",
       "</div>"
      ],
      "text/plain": [
       "   reports       age  income     share  expenditure owner selfemp  dependents  \\\n",
       "0        3  40.50000  4.0128  0.000299      0.00000    no      no           1   \n",
       "1        1  32.33333  6.0000  0.000200      0.00000   yes      no           4   \n",
       "2        1  29.16667  2.2000  0.038205     69.79333    no      no           0   \n",
       "3        1  54.66667  7.2900  0.106536    647.20670   yes      no           2   \n",
       "4        0  25.00000  3.3984  0.000353      0.00000   yes      no           2   \n",
       "\n",
       "   months  majorcards  active  \n",
       "0      12           1      17  \n",
       "1      18           1       4  \n",
       "2      49           1       7  \n",
       "3      78           1       9  \n",
       "4      29           0       4  "
      ]
     },
     "execution_count": 21,
     "metadata": {},
     "output_type": "execute_result"
    }
   ],
   "source": [
    "X_train.head()"
   ]
  },
  {
   "cell_type": "code",
   "execution_count": 22,
   "id": "135b94c5",
   "metadata": {
    "scrolled": true
   },
   "outputs": [
    {
     "data": {
      "text/plain": [
       "0    389\n",
       "1    152\n",
       "2    135\n",
       "3     71\n",
       "4     33\n",
       "5      6\n",
       "6      5\n",
       "Name: dependents, dtype: int64"
      ]
     },
     "execution_count": 22,
     "metadata": {},
     "output_type": "execute_result"
    }
   ],
   "source": [
    "X_train.dependents.value_counts()"
   ]
  },
  {
   "cell_type": "code",
   "execution_count": 23,
   "id": "4f4d0957",
   "metadata": {
    "scrolled": true
   },
   "outputs": [
    {
     "name": "stdout",
     "output_type": "stream",
     "text": [
      "<class 'pandas.core.frame.DataFrame'>\n",
      "RangeIndex: 791 entries, 0 to 790\n",
      "Data columns (total 11 columns):\n",
      " #   Column       Non-Null Count  Dtype  \n",
      "---  ------       --------------  -----  \n",
      " 0   reports      791 non-null    int64  \n",
      " 1   age          791 non-null    float64\n",
      " 2   income       791 non-null    float64\n",
      " 3   share        791 non-null    float64\n",
      " 4   expenditure  791 non-null    float64\n",
      " 5   owner        791 non-null    object \n",
      " 6   selfemp      791 non-null    object \n",
      " 7   dependents   791 non-null    int64  \n",
      " 8   months       791 non-null    int64  \n",
      " 9   majorcards   791 non-null    int64  \n",
      " 10  active       791 non-null    int64  \n",
      "dtypes: float64(4), int64(5), object(2)\n",
      "memory usage: 68.1+ KB\n"
     ]
    }
   ],
   "source": [
    "X_train.info()"
   ]
  },
  {
   "cell_type": "code",
   "execution_count": 24,
   "id": "e8cc07c5",
   "metadata": {},
   "outputs": [
    {
     "data": {
      "text/plain": [
       "Index(['reports', 'age', 'income', 'share', 'expenditure', 'owner', 'selfemp',\n",
       "       'dependents', 'months', 'majorcards', 'active'],\n",
       "      dtype='object')"
      ]
     },
     "execution_count": 24,
     "metadata": {},
     "output_type": "execute_result"
    }
   ],
   "source": [
    "X_train.columns"
   ]
  },
  {
   "cell_type": "code",
   "execution_count": 25,
   "id": "96bff24e",
   "metadata": {},
   "outputs": [],
   "source": [
    "categorical_var = ['owner', 'selfemp']\n",
    "\n",
    "numerical_var = ['reports', 'age', 'income', 'share', 'expenditure',\n",
    "                 'dependents', 'months', 'majorcards', 'active']"
   ]
  },
  {
   "cell_type": "markdown",
   "id": "e3482358",
   "metadata": {},
   "source": [
    "# Question 1\n",
    "\n",
    "## ROC AUC for feature importance evaluation "
   ]
  },
  {
   "cell_type": "code",
   "execution_count": 26,
   "id": "fdbfe9ad",
   "metadata": {},
   "outputs": [],
   "source": [
    "#X_train[numerical_var]"
   ]
  },
  {
   "cell_type": "code",
   "execution_count": 27,
   "id": "cdaef954",
   "metadata": {},
   "outputs": [],
   "source": [
    "#X_train[X_train.reports < 3].card.mean()"
   ]
  },
  {
   "cell_type": "code",
   "execution_count": 28,
   "id": "713ab4f6",
   "metadata": {},
   "outputs": [],
   "source": [
    "#X_train"
   ]
  },
  {
   "cell_type": "markdown",
   "id": "f78506b4",
   "metadata": {},
   "source": [
    "### Report vs target variables (roc auc)"
   ]
  },
  {
   "cell_type": "code",
   "execution_count": 29,
   "id": "9f64c1d0",
   "metadata": {},
   "outputs": [
    {
     "data": {
      "text/plain": [
       "array([ 3,  1,  1,  1,  0,  0,  0,  0,  0,  0,  0,  0,  0,  0,  0,  0,  0,\n",
       "        1,  0,  0,  3,  5,  0,  0,  0,  1,  1,  0,  0,  0,  0,  0,  1,  0,\n",
       "        0,  0,  0,  0,  1,  0,  0,  0,  0,  0,  0,  0,  0,  0,  0,  1,  0,\n",
       "        1,  1,  0,  1,  1,  0,  0,  0,  1,  0,  0,  0,  0,  0,  0,  0,  0,\n",
       "        0,  0,  0,  0,  1,  1,  0,  0,  0,  0,  0,  0,  0,  0,  2,  4,  2,\n",
       "        0,  1,  0,  0,  1,  1,  0,  0,  2,  0,  0,  0,  0,  0,  1,  0,  0,\n",
       "        0,  0,  0,  0,  0,  0,  0,  0,  0,  1,  1,  2,  1,  1,  0,  0,  0,\n",
       "        0,  3,  1,  0,  0,  7,  0,  0,  0,  0,  0,  0,  0,  4,  0,  0,  0,\n",
       "        0,  0,  0,  0,  0,  0,  0,  3,  0,  0,  2,  0,  1,  6,  1,  0,  0,\n",
       "        0,  0,  0,  0,  0,  0,  1, 14,  5,  0,  0,  0, 12,  0,  0,  0,  0,\n",
       "        0,  1,  0,  0,  0,  0,  0,  0,  2,  0,  1,  2,  3,  1,  0,  0,  0,\n",
       "        0,  0,  0,  0,  0,  0,  0,  0,  1,  0,  0,  0,  0,  0,  0,  0,  0,\n",
       "        0,  0,  0,  1,  0,  0,  0,  0,  0,  0,  0,  0,  0,  0,  0,  0,  0,\n",
       "        0,  7,  0,  0,  0,  1,  1,  2, 11,  1,  1,  0,  0,  0,  0,  0,  1,\n",
       "        0,  0,  0,  0,  1,  0,  0,  2,  1,  0,  0,  0,  0,  0,  1,  0,  0,\n",
       "        1,  0,  0,  0,  4,  0,  0,  1,  7,  0,  0,  1,  0,  0,  0,  1,  2,\n",
       "        0,  0,  0,  0,  0,  0,  0,  0,  1,  0,  0,  0,  0,  0,  0,  0,  0,\n",
       "        0,  0,  0,  0,  2,  0,  0,  0,  0,  0,  0,  0,  0,  0,  1,  0,  0,\n",
       "        0,  0,  0,  0,  0,  0,  0,  0,  0,  0,  0,  0,  0,  0,  0,  0,  4,\n",
       "        0,  0,  0,  0,  0,  1,  0,  0,  0,  0,  2,  0,  0,  0,  0,  3,  0,\n",
       "        0,  0,  0,  5,  0,  0,  0,  0,  0,  0,  0,  0,  5,  0,  1,  1,  0,\n",
       "        0,  3,  0,  0,  1,  0,  1,  0,  0,  0,  0,  0,  0,  0,  3,  0,  0,\n",
       "        0,  4,  0,  0,  0,  0,  0,  0,  0,  0,  0,  0,  0,  0,  1,  0,  0,\n",
       "        0,  0,  0,  0,  1,  0,  0,  0,  1,  1,  0,  1,  0,  0,  0,  0,  0,\n",
       "        0,  6,  0,  0,  0,  0,  0,  0,  1,  0,  2,  0,  0,  2,  0,  0,  0,\n",
       "        0,  0,  0,  0,  0,  0,  0,  0,  0,  0,  0,  0,  0,  0,  0,  0,  0,\n",
       "        0,  0,  1,  2,  4,  0,  0,  0,  0,  0,  0,  0,  0,  0,  0,  0,  1,\n",
       "        0,  1,  0,  0,  0,  0,  0,  0,  0,  1,  3,  0,  0,  0,  0,  0,  0,\n",
       "        0,  0,  1,  0,  2,  0,  0,  1,  2,  0,  0,  0,  9,  1,  0,  0,  0,\n",
       "        0,  0,  0,  1,  0,  0,  0,  0,  0,  1,  0,  0,  0,  0,  1,  0,  0,\n",
       "        0,  0,  0,  0,  0,  0,  0,  0,  0,  0,  0,  0,  0,  0,  0,  0,  0,\n",
       "        0,  0,  0,  0,  0,  0,  0,  5,  0,  0,  0,  0,  0,  0,  0,  0,  0,\n",
       "        0,  1,  0,  0,  0,  0,  0,  0,  0,  0,  0,  3,  0,  0,  0,  0,  0,\n",
       "        0,  2,  0,  0,  0,  0,  0,  0,  0,  1,  0,  0, 10,  0,  0,  0,  0,\n",
       "        5,  3,  0,  0,  0,  0,  1,  0,  3,  0,  0,  0,  0,  2,  0,  0,  0,\n",
       "        0,  2,  0,  0,  0,  0,  0,  0,  0,  1,  0,  0,  0,  0,  0,  0,  0,\n",
       "        0,  0,  0,  0,  4,  0,  0,  0,  0,  0,  0,  0,  0,  0,  0,  0,  0,\n",
       "        0,  0,  0,  0,  0,  0,  6,  0,  0,  0,  0,  0,  0,  2,  0,  0,  0,\n",
       "        0,  0,  0,  0,  0,  0,  1,  2,  0,  0,  4,  0,  0,  0,  1,  0,  1,\n",
       "        0,  0,  0,  0,  0,  0,  0,  1,  0,  0,  0,  0,  0,  0,  0,  0,  1,\n",
       "        0,  0,  0,  1,  1,  0,  1,  0,  0,  0,  1,  0,  0,  1,  1,  0,  0,\n",
       "        0,  0,  0,  1,  2,  1,  0,  0,  0,  1,  0,  0,  0,  5,  0,  0,  0,\n",
       "        0,  0,  1,  0,  0,  0,  0,  1,  0,  0,  0,  0,  0,  0,  0,  0,  0,\n",
       "        0,  0,  0,  0,  0,  0,  0,  0,  3,  0,  1,  0,  0,  0,  0,  0,  0,\n",
       "        0,  0,  0,  0,  1,  0,  0,  0,  0,  0,  0,  0,  0,  0,  2,  0,  1,\n",
       "        0,  0,  0,  0,  4,  0,  6,  0,  0,  0,  0,  1,  0,  0,  0,  0,  0,\n",
       "        0,  0,  0,  3,  0,  2,  0,  1,  2])"
      ]
     },
     "execution_count": 29,
     "metadata": {},
     "output_type": "execute_result"
    }
   ],
   "source": [
    "report_train = X_train.reports.values\n",
    "report_train"
   ]
  },
  {
   "cell_type": "code",
   "execution_count": 30,
   "id": "d1f5b644",
   "metadata": {},
   "outputs": [],
   "source": [
    "# Encoding \n",
    "\n",
    "#from sklearn.feature_extraction import DictVectorizer"
   ]
  },
  {
   "cell_type": "code",
   "execution_count": 31,
   "id": "1c6bfa8a",
   "metadata": {},
   "outputs": [],
   "source": [
    "#report_dicts = X_train[X_train.reports].to_dict(orient='records')\n"
   ]
  },
  {
   "cell_type": "code",
   "execution_count": 32,
   "id": "b20bb840",
   "metadata": {},
   "outputs": [],
   "source": [
    "#dv_report = DictVectorizer(sparse=False)"
   ]
  },
  {
   "cell_type": "code",
   "execution_count": 33,
   "id": "e1bf8e08",
   "metadata": {},
   "outputs": [],
   "source": [
    "#report_train = dv_report.fit_transform(report_train)"
   ]
  },
  {
   "cell_type": "code",
   "execution_count": 34,
   "id": "9cd558e5",
   "metadata": {},
   "outputs": [],
   "source": [
    "# importing the model\n",
    "\n",
    "#from sklearn.linear_model import LogisticRegression"
   ]
  },
  {
   "cell_type": "code",
   "execution_count": 35,
   "id": "1f8519d4",
   "metadata": {},
   "outputs": [],
   "source": [
    "#model_report = LogisticRegression()\n",
    "#model_report.fit(report_train, y_train)"
   ]
  },
  {
   "cell_type": "markdown",
   "id": "2aee69cb",
   "metadata": {},
   "source": [
    "# Part 11\n",
    "\n",
    "## Question 2\n",
    "- What's the AUC of this model on the validation dataset? (round to 3 digits)"
   ]
  },
  {
   "cell_type": "code",
   "execution_count": 36,
   "id": "f94e0c97",
   "metadata": {},
   "outputs": [],
   "source": [
    "# Encoding \n",
    "\n",
    "from sklearn.feature_extraction import DictVectorizer"
   ]
  },
  {
   "cell_type": "markdown",
   "id": "dd0cf47f",
   "metadata": {},
   "source": [
    "Using these columns to train the model \n",
    "\n",
    "    [\"reports\", \"age\", \"income\", \"share\", \"expenditure\", \"dependents\", \"months\", \"majorcards\", \"active\", \"owner\", \"selfemp\"]"
   ]
  },
  {
   "cell_type": "code",
   "execution_count": 37,
   "id": "99a0bc8d",
   "metadata": {},
   "outputs": [
    {
     "data": {
      "text/plain": [
       "Index(['reports', 'age', 'income', 'share', 'expenditure', 'owner', 'selfemp',\n",
       "       'dependents', 'months', 'majorcards', 'active'],\n",
       "      dtype='object')"
      ]
     },
     "execution_count": 37,
     "metadata": {},
     "output_type": "execute_result"
    }
   ],
   "source": [
    "X_train.columns"
   ]
  },
  {
   "cell_type": "code",
   "execution_count": 38,
   "id": "338c78e2",
   "metadata": {},
   "outputs": [
    {
     "data": {
      "text/plain": [
       "{'owner': 'no',\n",
       " 'selfemp': 'no',\n",
       " 'reports': 3,\n",
       " 'age': 40.5,\n",
       " 'income': 4.0128,\n",
       " 'share': 0.0002990431,\n",
       " 'expenditure': 0.0,\n",
       " 'dependents': 1,\n",
       " 'months': 12,\n",
       " 'majorcards': 1,\n",
       " 'active': 17}"
      ]
     },
     "execution_count": 38,
     "metadata": {},
     "output_type": "execute_result"
    }
   ],
   "source": [
    "# Transforming the data \n",
    "\n",
    "train_dicts = X_train[categorical_var + numerical_var].to_dict(orient='records')\n",
    "train_dicts[0]"
   ]
  },
  {
   "cell_type": "code",
   "execution_count": 39,
   "id": "3672e67a",
   "metadata": {},
   "outputs": [],
   "source": [
    "# initialize dictvectorizer\n",
    "# making the sparse False\n",
    "dv = DictVectorizer(sparse=False)"
   ]
  },
  {
   "cell_type": "code",
   "execution_count": 40,
   "id": "32d5041b",
   "metadata": {},
   "outputs": [
    {
     "data": {
      "text/plain": [
       "array([[1.700000e+01, 4.050000e+01, 1.000000e+00, ..., 1.000000e+00,\n",
       "        0.000000e+00, 2.990431e-04],\n",
       "       [4.000000e+00, 3.233333e+01, 4.000000e+00, ..., 1.000000e+00,\n",
       "        0.000000e+00, 2.000000e-04],\n",
       "       [7.000000e+00, 2.916667e+01, 0.000000e+00, ..., 1.000000e+00,\n",
       "        0.000000e+00, 3.820546e-02],\n",
       "       ...,\n",
       "       [1.000000e+00, 2.475000e+01, 1.000000e+00, ..., 1.000000e+00,\n",
       "        0.000000e+00, 8.070774e-02],\n",
       "       [7.000000e+00, 5.691667e+01, 0.000000e+00, ..., 1.000000e+00,\n",
       "        0.000000e+00, 6.289540e-02],\n",
       "       [8.000000e+00, 2.458333e+01, 0.000000e+00, ..., 1.000000e+00,\n",
       "        0.000000e+00, 5.454546e-04]])"
      ]
     },
     "execution_count": 40,
     "metadata": {},
     "output_type": "execute_result"
    }
   ],
   "source": [
    "# fitting and transform the dicts\n",
    "X_train = dv.fit_transform(train_dicts)\n",
    "X_train"
   ]
  },
  {
   "cell_type": "code",
   "execution_count": 41,
   "id": "0b6780e2",
   "metadata": {},
   "outputs": [],
   "source": [
    "# validation dataset\n",
    "\n",
    "val_dicts = X_val[categorical_var + numerical_var].to_dict(orient='records')"
   ]
  },
  {
   "cell_type": "code",
   "execution_count": 42,
   "id": "38bb29c7",
   "metadata": {},
   "outputs": [
    {
     "data": {
      "text/plain": [
       "array([[0.000000e+00, 2.400000e+01, 0.000000e+00, ..., 1.000000e+00,\n",
       "        0.000000e+00, 5.255475e-02],\n",
       "       [1.000000e+00, 3.425000e+01, 1.000000e+00, ..., 1.000000e+00,\n",
       "        0.000000e+00, 6.172840e-04],\n",
       "       [2.500000e+01, 3.975000e+01, 1.000000e+00, ..., 1.000000e+00,\n",
       "        0.000000e+00, 1.701942e-02],\n",
       "       ...,\n",
       "       [3.000000e+00, 5.233333e+01, 1.000000e+00, ..., 1.000000e+00,\n",
       "        0.000000e+00, 2.882272e-02],\n",
       "       [1.600000e+01, 3.133333e+01, 2.000000e+00, ..., 1.000000e+00,\n",
       "        0.000000e+00, 4.216182e-02],\n",
       "       [8.000000e+00, 3.075000e+01, 0.000000e+00, ..., 1.000000e+00,\n",
       "        0.000000e+00, 3.980107e-02]])"
      ]
     },
     "execution_count": 42,
     "metadata": {},
     "output_type": "execute_result"
    }
   ],
   "source": [
    "X_val = dv.fit_transform(val_dicts)\n",
    "X_val"
   ]
  },
  {
   "cell_type": "code",
   "execution_count": 43,
   "id": "f67145ff",
   "metadata": {},
   "outputs": [],
   "source": [
    "# importing the model\n",
    "\n",
    "from sklearn.linear_model import LogisticRegression"
   ]
  },
  {
   "cell_type": "markdown",
   "id": "b272860e",
   "metadata": {},
   "source": [
    "training the logistic regression with these parameters:\n",
    "\n",
    "    LogisticRegression(solver='liblinear', C=1.0, max_iter=1000)"
   ]
  },
  {
   "cell_type": "code",
   "execution_count": 44,
   "id": "247f2b50",
   "metadata": {},
   "outputs": [
    {
     "data": {
      "text/plain": [
       "LogisticRegression(max_iter=1000, solver='liblinear')"
      ]
     },
     "execution_count": 44,
     "metadata": {},
     "output_type": "execute_result"
    }
   ],
   "source": [
    "model = LogisticRegression(solver='liblinear', C=1.0, max_iter=1000)\n",
    "model.fit(X_train, y_train)"
   ]
  },
  {
   "cell_type": "code",
   "execution_count": 45,
   "id": "d5fe0b35",
   "metadata": {},
   "outputs": [
    {
     "data": {
      "text/plain": [
       "array([1.00000000e+00, 5.80231554e-02, 1.00000000e+00, 1.95534619e-02,\n",
       "       1.00000000e+00, 1.00000000e+00, 7.01198798e-02, 1.00000000e+00,\n",
       "       1.00000000e+00, 9.95731859e-01, 1.38364914e-01, 1.00000000e+00,\n",
       "       1.00000000e+00, 1.00000000e+00, 1.00000000e+00, 1.38123509e-02,\n",
       "       1.00000000e+00, 1.00000000e+00, 2.32127953e-01, 1.00000000e+00,\n",
       "       1.00000000e+00, 1.00000000e+00, 1.00000000e+00, 2.85316589e-04,\n",
       "       1.00000000e+00, 1.00000000e+00, 1.00000000e+00, 1.00000000e+00,\n",
       "       1.17336247e-08, 4.51764783e-04, 1.00000000e+00, 4.44723869e-03,\n",
       "       1.65674809e-05, 1.00000000e+00, 1.00000000e+00, 1.00000000e+00,\n",
       "       1.00000000e+00, 1.00000000e+00, 1.00000000e+00, 1.00000000e+00,\n",
       "       1.00000000e+00, 4.81355796e-04, 1.00000000e+00, 1.00000000e+00,\n",
       "       3.66674657e-03, 1.00000000e+00, 1.00000000e+00, 1.00000000e+00,\n",
       "       1.71474274e-01, 1.00000000e+00, 1.00000000e+00, 1.00000000e+00,\n",
       "       1.00000000e+00, 1.00000000e+00, 1.00000000e+00, 4.42068323e-04,\n",
       "       5.61144790e-02, 1.00000000e+00, 1.00000000e+00, 1.00000000e+00,\n",
       "       1.00000000e+00, 1.00000000e+00, 1.00000000e+00, 1.00000000e+00,\n",
       "       1.00000000e+00, 9.99999406e-01, 1.00000000e+00, 9.99983226e-01,\n",
       "       1.00000000e+00, 1.00000000e+00, 4.65458798e-03, 1.70806359e-01,\n",
       "       1.00000000e+00, 1.00000000e+00, 1.25640568e-01, 1.00000000e+00,\n",
       "       1.00000000e+00, 1.39071066e-01, 1.00000000e+00, 1.00000000e+00,\n",
       "       1.00000000e+00, 1.00000000e+00, 1.00000000e+00, 9.85234953e-01,\n",
       "       1.00000000e+00, 1.00000000e+00, 1.00000000e+00, 1.00000000e+00,\n",
       "       1.00000000e+00, 9.99907981e-01, 1.00000000e+00, 1.00000000e+00,\n",
       "       1.28329581e-01, 1.00000000e+00, 1.00000000e+00, 3.02143302e-01,\n",
       "       1.00000000e+00, 2.45931644e-02, 1.00000000e+00, 1.00000000e+00,\n",
       "       9.99965301e-01, 1.00000000e+00, 8.47847199e-01, 1.00000000e+00,\n",
       "       1.00000000e+00, 1.00000000e+00, 1.00000000e+00, 1.00000000e+00,\n",
       "       3.56047447e-02, 3.71673800e-02, 1.00000000e+00, 1.00000000e+00,\n",
       "       9.90828220e-01, 1.00000000e+00, 9.82882803e-02, 1.00000000e+00,\n",
       "       3.42046349e-01, 1.00000000e+00, 1.00000000e+00, 1.00000000e+00,\n",
       "       1.00000000e+00, 9.98901226e-01, 2.59362839e-02, 1.00000000e+00,\n",
       "       1.38895785e-06, 2.97627095e-01, 1.55661344e-01, 1.83649296e-01,\n",
       "       1.00000000e+00, 1.00000000e+00, 1.00000000e+00, 2.12449142e-02,\n",
       "       1.00000000e+00, 1.00000000e+00, 2.74587588e-02, 1.00000000e+00,\n",
       "       5.88035201e-02, 1.00000000e+00, 1.00000000e+00, 1.00000000e+00,\n",
       "       2.60381925e-03, 1.00000000e+00, 1.00000000e+00, 1.21768657e-01,\n",
       "       1.00000000e+00, 9.62093640e-01, 1.00000000e+00, 1.00000000e+00,\n",
       "       1.00000000e+00, 1.00000000e+00, 2.20150901e-02, 1.00000000e+00,\n",
       "       1.00000000e+00, 1.00000000e+00, 1.00000000e+00, 1.00000000e+00,\n",
       "       1.00000000e+00, 1.00000000e+00, 2.37187071e-02, 9.90045139e-01,\n",
       "       1.00000000e+00, 1.00000000e+00, 1.00000000e+00, 1.26009088e-01,\n",
       "       1.00000000e+00, 1.00000000e+00, 1.00000000e+00, 1.00000000e+00,\n",
       "       1.00000000e+00, 3.33577643e-01, 1.00000000e+00, 5.67714978e-04,\n",
       "       1.00000000e+00, 1.00000000e+00, 9.99986231e-01, 1.00000000e+00,\n",
       "       1.00000000e+00, 1.00000000e+00, 1.00000000e+00, 1.00000000e+00,\n",
       "       1.00000000e+00, 1.00000000e+00, 1.00000000e+00, 1.00000000e+00,\n",
       "       9.99734788e-01, 1.00000000e+00, 1.00000000e+00, 8.84074108e-03,\n",
       "       1.00000000e+00, 7.08023481e-02, 1.00000000e+00, 1.00000000e+00,\n",
       "       1.00000000e+00, 1.00000000e+00, 5.31207515e-04, 4.15690715e-01,\n",
       "       1.00000000e+00, 1.00000000e+00, 1.00000000e+00, 1.00000000e+00,\n",
       "       1.00000000e+00, 1.17820908e-07, 1.00000000e+00, 1.30691189e-01,\n",
       "       1.00000000e+00, 1.28277508e-01, 1.00000000e+00, 1.00000000e+00,\n",
       "       1.00000000e+00, 9.99999975e-01, 1.00000000e+00, 1.17656215e-02,\n",
       "       9.95065347e-01, 1.00000000e+00, 9.98628907e-01, 1.00000000e+00,\n",
       "       4.03019263e-03, 1.00000000e+00, 2.85071332e-04, 1.00000000e+00,\n",
       "       9.99997766e-01, 1.00000000e+00, 1.00000000e+00, 8.69564282e-03,\n",
       "       1.00000000e+00, 1.00000000e+00, 1.00000000e+00, 1.00000000e+00,\n",
       "       1.00000000e+00, 1.00000000e+00, 1.00000000e+00, 1.36328871e-01,\n",
       "       1.00000000e+00, 1.00000000e+00, 1.00000000e+00, 1.00000000e+00,\n",
       "       1.00000000e+00, 2.40139268e-03, 1.00000000e+00, 1.52147647e-01,\n",
       "       1.00000000e+00, 1.00000000e+00, 1.22838554e-01, 1.00000000e+00,\n",
       "       1.00000000e+00, 1.00000000e+00, 1.00000000e+00, 1.00000000e+00,\n",
       "       1.00000000e+00, 1.00000000e+00, 1.00000000e+00, 1.00000000e+00,\n",
       "       1.00000000e+00, 1.00000000e+00, 1.00000000e+00, 1.00000000e+00,\n",
       "       1.00000000e+00, 2.54460377e-02, 3.34786361e-01, 1.00000000e+00,\n",
       "       1.00000000e+00, 1.00000000e+00, 1.00000000e+00, 1.00000000e+00])"
      ]
     },
     "execution_count": 45,
     "metadata": {},
     "output_type": "execute_result"
    }
   ],
   "source": [
    "# getting the probability of the target variable on validation set\n",
    "\n",
    "y_pred = model.predict_proba(X_val)[:, 1]\n",
    "y_pred"
   ]
  },
  {
   "cell_type": "markdown",
   "id": "ef0231be",
   "metadata": {},
   "source": [
    "Setting the prediction probability threshold at 0.5 which is the default"
   ]
  },
  {
   "cell_type": "code",
   "execution_count": 46,
   "id": "2d867522",
   "metadata": {},
   "outputs": [],
   "source": [
    "model_decision = (y_pred >= 0.5)"
   ]
  },
  {
   "cell_type": "markdown",
   "id": "a87b05fc",
   "metadata": {},
   "source": [
    "Checking the accuracy of the model"
   ]
  },
  {
   "cell_type": "code",
   "execution_count": 47,
   "id": "2f6e0294",
   "metadata": {},
   "outputs": [],
   "source": [
    "model_decision = model_decision.astype(int)"
   ]
  },
  {
   "cell_type": "code",
   "execution_count": 48,
   "id": "4c54bf88",
   "metadata": {},
   "outputs": [
    {
     "data": {
      "text/plain": [
       "0.9696969696969697"
      ]
     },
     "execution_count": 48,
     "metadata": {},
     "output_type": "execute_result"
    }
   ],
   "source": [
    "(y_val == model_decision).mean()"
   ]
  },
  {
   "cell_type": "code",
   "execution_count": 49,
   "id": "2a466561",
   "metadata": {},
   "outputs": [],
   "source": [
    "# making a dataframe to the above backend processes\n",
    "\n",
    "df_pred = pd.DataFrame()\n",
    "df_pred['probability'] = y_pred\n",
    "df_pred['prediction'] = model_decision.astype(int)\n",
    "df_pred['actual'] = y_val"
   ]
  },
  {
   "cell_type": "code",
   "execution_count": 50,
   "id": "56ebbe1a",
   "metadata": {},
   "outputs": [
    {
     "data": {
      "text/html": [
       "<div>\n",
       "<style scoped>\n",
       "    .dataframe tbody tr th:only-of-type {\n",
       "        vertical-align: middle;\n",
       "    }\n",
       "\n",
       "    .dataframe tbody tr th {\n",
       "        vertical-align: top;\n",
       "    }\n",
       "\n",
       "    .dataframe thead th {\n",
       "        text-align: right;\n",
       "    }\n",
       "</style>\n",
       "<table border=\"1\" class=\"dataframe\">\n",
       "  <thead>\n",
       "    <tr style=\"text-align: right;\">\n",
       "      <th></th>\n",
       "      <th>probability</th>\n",
       "      <th>prediction</th>\n",
       "      <th>actual</th>\n",
       "    </tr>\n",
       "  </thead>\n",
       "  <tbody>\n",
       "    <tr>\n",
       "      <th>0</th>\n",
       "      <td>1.000000</td>\n",
       "      <td>1</td>\n",
       "      <td>1</td>\n",
       "    </tr>\n",
       "    <tr>\n",
       "      <th>1</th>\n",
       "      <td>0.058023</td>\n",
       "      <td>0</td>\n",
       "      <td>0</td>\n",
       "    </tr>\n",
       "    <tr>\n",
       "      <th>2</th>\n",
       "      <td>1.000000</td>\n",
       "      <td>1</td>\n",
       "      <td>1</td>\n",
       "    </tr>\n",
       "    <tr>\n",
       "      <th>3</th>\n",
       "      <td>0.019553</td>\n",
       "      <td>0</td>\n",
       "      <td>0</td>\n",
       "    </tr>\n",
       "    <tr>\n",
       "      <th>4</th>\n",
       "      <td>1.000000</td>\n",
       "      <td>1</td>\n",
       "      <td>1</td>\n",
       "    </tr>\n",
       "    <tr>\n",
       "      <th>...</th>\n",
       "      <td>...</td>\n",
       "      <td>...</td>\n",
       "      <td>...</td>\n",
       "    </tr>\n",
       "    <tr>\n",
       "      <th>259</th>\n",
       "      <td>1.000000</td>\n",
       "      <td>1</td>\n",
       "      <td>1</td>\n",
       "    </tr>\n",
       "    <tr>\n",
       "      <th>260</th>\n",
       "      <td>1.000000</td>\n",
       "      <td>1</td>\n",
       "      <td>1</td>\n",
       "    </tr>\n",
       "    <tr>\n",
       "      <th>261</th>\n",
       "      <td>1.000000</td>\n",
       "      <td>1</td>\n",
       "      <td>1</td>\n",
       "    </tr>\n",
       "    <tr>\n",
       "      <th>262</th>\n",
       "      <td>1.000000</td>\n",
       "      <td>1</td>\n",
       "      <td>1</td>\n",
       "    </tr>\n",
       "    <tr>\n",
       "      <th>263</th>\n",
       "      <td>1.000000</td>\n",
       "      <td>1</td>\n",
       "      <td>1</td>\n",
       "    </tr>\n",
       "  </tbody>\n",
       "</table>\n",
       "<p>264 rows × 3 columns</p>\n",
       "</div>"
      ],
      "text/plain": [
       "     probability  prediction  actual\n",
       "0       1.000000           1       1\n",
       "1       0.058023           0       0\n",
       "2       1.000000           1       1\n",
       "3       0.019553           0       0\n",
       "4       1.000000           1       1\n",
       "..           ...         ...     ...\n",
       "259     1.000000           1       1\n",
       "260     1.000000           1       1\n",
       "261     1.000000           1       1\n",
       "262     1.000000           1       1\n",
       "263     1.000000           1       1\n",
       "\n",
       "[264 rows x 3 columns]"
      ]
     },
     "execution_count": 50,
     "metadata": {},
     "output_type": "execute_result"
    }
   ],
   "source": [
    "df_pred"
   ]
  },
  {
   "cell_type": "code",
   "execution_count": 51,
   "id": "26dca67c",
   "metadata": {},
   "outputs": [],
   "source": [
    "# get the correct column \n",
    "\n",
    "df_pred['correct'] = df_pred.prediction == df_pred.actual"
   ]
  },
  {
   "cell_type": "code",
   "execution_count": 52,
   "id": "52f22cfd",
   "metadata": {},
   "outputs": [
    {
     "data": {
      "text/html": [
       "<div>\n",
       "<style scoped>\n",
       "    .dataframe tbody tr th:only-of-type {\n",
       "        vertical-align: middle;\n",
       "    }\n",
       "\n",
       "    .dataframe tbody tr th {\n",
       "        vertical-align: top;\n",
       "    }\n",
       "\n",
       "    .dataframe thead th {\n",
       "        text-align: right;\n",
       "    }\n",
       "</style>\n",
       "<table border=\"1\" class=\"dataframe\">\n",
       "  <thead>\n",
       "    <tr style=\"text-align: right;\">\n",
       "      <th></th>\n",
       "      <th>probability</th>\n",
       "      <th>prediction</th>\n",
       "      <th>actual</th>\n",
       "      <th>correct</th>\n",
       "    </tr>\n",
       "  </thead>\n",
       "  <tbody>\n",
       "    <tr>\n",
       "      <th>0</th>\n",
       "      <td>1.000000</td>\n",
       "      <td>1</td>\n",
       "      <td>1</td>\n",
       "      <td>True</td>\n",
       "    </tr>\n",
       "    <tr>\n",
       "      <th>1</th>\n",
       "      <td>0.058023</td>\n",
       "      <td>0</td>\n",
       "      <td>0</td>\n",
       "      <td>True</td>\n",
       "    </tr>\n",
       "    <tr>\n",
       "      <th>2</th>\n",
       "      <td>1.000000</td>\n",
       "      <td>1</td>\n",
       "      <td>1</td>\n",
       "      <td>True</td>\n",
       "    </tr>\n",
       "    <tr>\n",
       "      <th>3</th>\n",
       "      <td>0.019553</td>\n",
       "      <td>0</td>\n",
       "      <td>0</td>\n",
       "      <td>True</td>\n",
       "    </tr>\n",
       "    <tr>\n",
       "      <th>4</th>\n",
       "      <td>1.000000</td>\n",
       "      <td>1</td>\n",
       "      <td>1</td>\n",
       "      <td>True</td>\n",
       "    </tr>\n",
       "    <tr>\n",
       "      <th>...</th>\n",
       "      <td>...</td>\n",
       "      <td>...</td>\n",
       "      <td>...</td>\n",
       "      <td>...</td>\n",
       "    </tr>\n",
       "    <tr>\n",
       "      <th>259</th>\n",
       "      <td>1.000000</td>\n",
       "      <td>1</td>\n",
       "      <td>1</td>\n",
       "      <td>True</td>\n",
       "    </tr>\n",
       "    <tr>\n",
       "      <th>260</th>\n",
       "      <td>1.000000</td>\n",
       "      <td>1</td>\n",
       "      <td>1</td>\n",
       "      <td>True</td>\n",
       "    </tr>\n",
       "    <tr>\n",
       "      <th>261</th>\n",
       "      <td>1.000000</td>\n",
       "      <td>1</td>\n",
       "      <td>1</td>\n",
       "      <td>True</td>\n",
       "    </tr>\n",
       "    <tr>\n",
       "      <th>262</th>\n",
       "      <td>1.000000</td>\n",
       "      <td>1</td>\n",
       "      <td>1</td>\n",
       "      <td>True</td>\n",
       "    </tr>\n",
       "    <tr>\n",
       "      <th>263</th>\n",
       "      <td>1.000000</td>\n",
       "      <td>1</td>\n",
       "      <td>1</td>\n",
       "      <td>True</td>\n",
       "    </tr>\n",
       "  </tbody>\n",
       "</table>\n",
       "<p>264 rows × 4 columns</p>\n",
       "</div>"
      ],
      "text/plain": [
       "     probability  prediction  actual  correct\n",
       "0       1.000000           1       1     True\n",
       "1       0.058023           0       0     True\n",
       "2       1.000000           1       1     True\n",
       "3       0.019553           0       0     True\n",
       "4       1.000000           1       1     True\n",
       "..           ...         ...     ...      ...\n",
       "259     1.000000           1       1     True\n",
       "260     1.000000           1       1     True\n",
       "261     1.000000           1       1     True\n",
       "262     1.000000           1       1     True\n",
       "263     1.000000           1       1     True\n",
       "\n",
       "[264 rows x 4 columns]"
      ]
     },
     "execution_count": 52,
     "metadata": {},
     "output_type": "execute_result"
    }
   ],
   "source": [
    "df_pred"
   ]
  },
  {
   "cell_type": "code",
   "execution_count": 53,
   "id": "ed557b3a",
   "metadata": {},
   "outputs": [
    {
     "data": {
      "text/plain": [
       "0.9696969696969697"
      ]
     },
     "execution_count": 53,
     "metadata": {},
     "output_type": "execute_result"
    }
   ],
   "source": [
    "# getting the percentage of the correct prediction\n",
    "\n",
    "df_pred.correct.mean()"
   ]
  },
  {
   "cell_type": "code",
   "execution_count": 54,
   "id": "a1f900bd",
   "metadata": {},
   "outputs": [
    {
     "data": {
      "text/plain": [
       "256"
      ]
     },
     "execution_count": 54,
     "metadata": {},
     "output_type": "execute_result"
    }
   ],
   "source": [
    "# check the correct decision made by the model\n",
    "\n",
    "(y_val == model_decision).sum()"
   ]
  },
  {
   "cell_type": "code",
   "execution_count": 55,
   "id": "ca28a604",
   "metadata": {},
   "outputs": [
    {
     "data": {
      "text/plain": [
       "0.9696969696969697"
      ]
     },
     "execution_count": 55,
     "metadata": {},
     "output_type": "execute_result"
    }
   ],
   "source": [
    "# checking the accuracy manually\n",
    "\n",
    "256/264"
   ]
  },
  {
   "cell_type": "markdown",
   "id": "74e2eab4",
   "metadata": {},
   "source": [
    "Using sklearn to check the accuracy"
   ]
  },
  {
   "cell_type": "code",
   "execution_count": 56,
   "id": "b10242e6",
   "metadata": {},
   "outputs": [],
   "source": [
    "from sklearn.metrics import accuracy_score"
   ]
  },
  {
   "cell_type": "code",
   "execution_count": 57,
   "id": "17d68044",
   "metadata": {},
   "outputs": [
    {
     "data": {
      "text/plain": [
       "0.9696969696969697"
      ]
     },
     "execution_count": 57,
     "metadata": {},
     "output_type": "execute_result"
    }
   ],
   "source": [
    "accuracy_score(y_val, y_pred >= 0.5)"
   ]
  },
  {
   "cell_type": "markdown",
   "id": "fbeeec6a",
   "metadata": {},
   "source": [
    "`Plotting the ROC curve using sklearn` "
   ]
  },
  {
   "cell_type": "code",
   "execution_count": 58,
   "id": "bc083931",
   "metadata": {},
   "outputs": [],
   "source": [
    "from sklearn.metrics import roc_curve"
   ]
  },
  {
   "cell_type": "code",
   "execution_count": 59,
   "id": "a1dc016b",
   "metadata": {},
   "outputs": [],
   "source": [
    "fpr, tpr, thresholds = roc_curve(y_val, y_pred)"
   ]
  },
  {
   "cell_type": "code",
   "execution_count": 60,
   "id": "4a9ace7f",
   "metadata": {},
   "outputs": [
    {
     "data": {
      "text/plain": [
       "<matplotlib.legend.Legend at 0x7fe14d01ffd0>"
      ]
     },
     "execution_count": 60,
     "metadata": {},
     "output_type": "execute_result"
    },
    {
     "data": {
      "image/png": "[encoded data removed]",
      "text/plain": [
       "<Figure size 360x360 with 1 Axes>"
      ]
     },
     "metadata": {
      "needs_background": "light"
     },
     "output_type": "display_data"
    }
   ],
   "source": [
    "plt.figure(figsize=(5, 5))\n",
    "\n",
    "plt.plot(fpr, tpr, label='model')\n",
    "plt.plot([0, 1], [0, 1], label='random', linestyle='--')\n",
    "\n",
    "plt.xlabel('FPR')\n",
    "plt.ylabel('TPR')\n",
    "\n",
    "plt.legend()"
   ]
  },
  {
   "cell_type": "markdown",
   "id": "c7aebf3c",
   "metadata": {},
   "source": [
    "`finding the auc using sklearn`"
   ]
  },
  {
   "cell_type": "code",
   "execution_count": 61,
   "id": "de48be22",
   "metadata": {},
   "outputs": [],
   "source": [
    "# using sklearn for it's calculation \n",
    "\n",
    "from sklearn.metrics import auc"
   ]
  },
  {
   "cell_type": "code",
   "execution_count": 62,
   "id": "d78cc5cd",
   "metadata": {},
   "outputs": [
    {
     "data": {
      "text/plain": [
       "0.995"
      ]
     },
     "execution_count": 62,
     "metadata": {},
     "output_type": "execute_result"
    }
   ],
   "source": [
    "# the area under curve for our model is \n",
    "\n",
    "round(auc(fpr, tpr), 3)"
   ]
  },
  {
   "cell_type": "markdown",
   "id": "b00804f1",
   "metadata": {},
   "source": [
    "The AUC is ==> **0.995**"
   ]
  },
  {
   "cell_type": "markdown",
   "id": "6d651235",
   "metadata": {},
   "source": [
    "## Question 3\n",
    "- At which threshold precision and recall curves intersect?\n",
    "\n",
    "Procedures:\n",
    "\n",
    "- Compute precision and recall for our model\n",
    "- Evaluate the model on all thresholds from 0.0 to 1.0 with step 0.01\n",
    "- For each threshold, compute precision and recall\n",
    "- Plot them"
   ]
  },
  {
   "cell_type": "markdown",
   "id": "03398af4",
   "metadata": {},
   "source": [
    "**Confusion table**"
   ]
  },
  {
   "cell_type": "code",
   "execution_count": 63,
   "id": "480696f5",
   "metadata": {},
   "outputs": [],
   "source": [
    "actual_positive = (y_val == 1)\n",
    "actual_negative = (y_val == 0)\n",
    "\n",
    "t = 0.5\n",
    "predict_positive = (y_pred >= t)\n",
    "predict_negative = (y_pred < t) "
   ]
  },
  {
   "cell_type": "code",
   "execution_count": 64,
   "id": "43e4454c",
   "metadata": {},
   "outputs": [
    {
     "data": {
      "text/plain": [
       "(204, 52)"
      ]
     },
     "execution_count": 64,
     "metadata": {},
     "output_type": "execute_result"
    }
   ],
   "source": [
    "# finding the true positive of the testing evaluation\n",
    "# finding the true negative of the testing evaluation \n",
    "\n",
    "tp = (predict_positive & actual_positive).sum()\n",
    "tn = (predict_negative & actual_negative).sum()\n",
    "tp, tn"
   ]
  },
  {
   "cell_type": "code",
   "execution_count": 65,
   "id": "3d66700e",
   "metadata": {},
   "outputs": [
    {
     "data": {
      "text/plain": [
       "(1, 7)"
      ]
     },
     "execution_count": 65,
     "metadata": {},
     "output_type": "execute_result"
    }
   ],
   "source": [
    "# finding the false positive of the testing evaluation\n",
    "# finding the false negative of the testing evaluation \n",
    "\n",
    "fp = (predict_positive & actual_negative).sum()\n",
    "fn = (predict_negative & actual_positive).sum()\n",
    "fp, fn"
   ]
  },
  {
   "cell_type": "code",
   "execution_count": 66,
   "id": "ee8134e7",
   "metadata": {},
   "outputs": [
    {
     "data": {
      "text/plain": [
       "array([[ 52,   1],\n",
       "       [  7, 204]])"
      ]
     },
     "execution_count": 66,
     "metadata": {},
     "output_type": "execute_result"
    }
   ],
   "source": [
    "confusion_matrix = np.array([\n",
    "    [tn, fp],\n",
    "    [fn, tp]\n",
    "])\n",
    "confusion_matrix"
   ]
  },
  {
   "cell_type": "code",
   "execution_count": 67,
   "id": "b844dd61",
   "metadata": {},
   "outputs": [
    {
     "data": {
      "text/plain": [
       "array([[0.2 , 0.  ],\n",
       "       [0.03, 0.77]])"
      ]
     },
     "execution_count": 67,
     "metadata": {},
     "output_type": "execute_result"
    }
   ],
   "source": [
    "# percentage \n",
    "\n",
    "(confusion_matrix / confusion_matrix.sum()).round(2)"
   ]
  },
  {
   "cell_type": "markdown",
   "id": "7d32460a",
   "metadata": {},
   "source": [
    "**Computing Precision and Recall**"
   ]
  },
  {
   "cell_type": "code",
   "execution_count": 68,
   "id": "91dc245d",
   "metadata": {},
   "outputs": [
    {
     "data": {
      "text/plain": [
       "0.9951219512195122"
      ]
     },
     "execution_count": 68,
     "metadata": {},
     "output_type": "execute_result"
    }
   ],
   "source": [
    "precision = tp /(tp + fp)\n",
    "precision"
   ]
  },
  {
   "cell_type": "code",
   "execution_count": 69,
   "id": "e5bc4331",
   "metadata": {},
   "outputs": [
    {
     "data": {
      "text/plain": [
       "0.966824644549763"
      ]
     },
     "execution_count": 69,
     "metadata": {},
     "output_type": "execute_result"
    }
   ],
   "source": [
    "recall = tp/ (tp+fn)\n",
    "recall"
   ]
  },
  {
   "cell_type": "code",
   "execution_count": 70,
   "id": "68091247",
   "metadata": {},
   "outputs": [],
   "source": [
    "# Computing the different thresholds\n",
    "\n",
    "scores = []\n",
    "\n",
    "thresholds = np.linspace(0, 1, 100)\n",
    "\n",
    "for t in thresholds:\n",
    "    actual_positive = (y_val == 1)\n",
    "    actual_negative = (y_val == 0)\n",
    "    \n",
    "    predict_positive = (y_pred >= t)\n",
    "    predict_negative = (y_pred < t)\n",
    "    \n",
    "    tp = (predict_positive & actual_positive).sum()\n",
    "    tn = (predict_negative & actual_negative).sum()\n",
    "    \n",
    "    fp = (predict_positive & actual_negative).sum()\n",
    "    fn = (predict_negative & actual_positive).sum()\n",
    "    \n",
    "    scores.append((t, tp, fp, tn, fn))"
   ]
  },
  {
   "cell_type": "code",
   "execution_count": 71,
   "id": "49ee234b",
   "metadata": {},
   "outputs": [
    {
     "data": {
      "text/plain": [
       "[(0.0, 211, 53, 0, 0),\n",
       " (0.010101010101010102, 211, 34, 19, 0),\n",
       " (0.020202020202020204, 211, 31, 22, 0),\n",
       " (0.030303030303030304, 211, 24, 29, 0),\n",
       " (0.04040404040404041, 211, 22, 31, 0),\n",
       " (0.05050505050505051, 211, 22, 31, 0),\n",
       " (0.06060606060606061, 211, 19, 34, 0),\n",
       " (0.07070707070707072, 211, 18, 35, 0),\n",
       " (0.08080808080808081, 210, 18, 35, 1),\n",
       " (0.09090909090909091, 210, 18, 35, 1),\n",
       " (0.10101010101010102, 210, 17, 36, 1),\n",
       " (0.11111111111111112, 210, 17, 36, 1),\n",
       " (0.12121212121212122, 210, 17, 36, 1),\n",
       " (0.13131313131313133, 210, 10, 43, 1),\n",
       " (0.14141414141414144, 208, 9, 44, 3),\n",
       " (0.15151515151515152, 208, 9, 44, 3),\n",
       " (0.16161616161616163, 208, 7, 46, 3),\n",
       " (0.17171717171717174, 207, 6, 47, 4),\n",
       " (0.18181818181818182, 207, 6, 47, 4),\n",
       " (0.19191919191919193, 207, 5, 48, 4),\n",
       " (0.20202020202020204, 207, 5, 48, 4),\n",
       " (0.21212121212121213, 207, 5, 48, 4),\n",
       " (0.22222222222222224, 207, 5, 48, 4),\n",
       " (0.23232323232323235, 206, 5, 48, 5),\n",
       " (0.24242424242424243, 206, 5, 48, 5),\n",
       " (0.25252525252525254, 206, 5, 48, 5),\n",
       " (0.26262626262626265, 206, 5, 48, 5),\n",
       " (0.27272727272727276, 206, 5, 48, 5),\n",
       " (0.2828282828282829, 206, 5, 48, 5),\n",
       " (0.29292929292929293, 206, 5, 48, 5),\n",
       " (0.30303030303030304, 205, 4, 49, 6),\n",
       " (0.31313131313131315, 205, 4, 49, 6),\n",
       " (0.32323232323232326, 205, 4, 49, 6),\n",
       " (0.33333333333333337, 205, 4, 49, 6),\n",
       " (0.3434343434343435, 205, 1, 52, 6),\n",
       " (0.3535353535353536, 205, 1, 52, 6),\n",
       " (0.36363636363636365, 205, 1, 52, 6),\n",
       " (0.37373737373737376, 205, 1, 52, 6),\n",
       " (0.38383838383838387, 205, 1, 52, 6),\n",
       " (0.393939393939394, 205, 1, 52, 6),\n",
       " (0.4040404040404041, 205, 1, 52, 6),\n",
       " (0.4141414141414142, 205, 1, 52, 6),\n",
       " (0.42424242424242425, 204, 1, 52, 7),\n",
       " (0.43434343434343436, 204, 1, 52, 7),\n",
       " (0.4444444444444445, 204, 1, 52, 7),\n",
       " (0.4545454545454546, 204, 1, 52, 7),\n",
       " (0.4646464646464647, 204, 1, 52, 7),\n",
       " (0.4747474747474748, 204, 1, 52, 7),\n",
       " (0.48484848484848486, 204, 1, 52, 7),\n",
       " (0.494949494949495, 204, 1, 52, 7),\n",
       " (0.5050505050505051, 204, 1, 52, 7),\n",
       " (0.5151515151515152, 204, 1, 52, 7),\n",
       " (0.5252525252525253, 204, 1, 52, 7),\n",
       " (0.5353535353535354, 204, 1, 52, 7),\n",
       " (0.5454545454545455, 204, 1, 52, 7),\n",
       " (0.5555555555555556, 204, 1, 52, 7),\n",
       " (0.5656565656565657, 204, 1, 52, 7),\n",
       " (0.5757575757575758, 204, 1, 52, 7),\n",
       " (0.5858585858585859, 204, 1, 52, 7),\n",
       " (0.595959595959596, 204, 1, 52, 7),\n",
       " (0.6060606060606061, 204, 1, 52, 7),\n",
       " (0.6161616161616162, 204, 1, 52, 7),\n",
       " (0.6262626262626263, 204, 1, 52, 7),\n",
       " (0.6363636363636365, 204, 1, 52, 7),\n",
       " (0.6464646464646465, 204, 1, 52, 7),\n",
       " (0.6565656565656566, 204, 1, 52, 7),\n",
       " (0.6666666666666667, 204, 1, 52, 7),\n",
       " (0.6767676767676768, 204, 1, 52, 7),\n",
       " (0.686868686868687, 204, 1, 52, 7),\n",
       " (0.696969696969697, 204, 1, 52, 7),\n",
       " (0.7070707070707072, 204, 1, 52, 7),\n",
       " (0.7171717171717172, 204, 1, 52, 7),\n",
       " (0.7272727272727273, 204, 1, 52, 7),\n",
       " (0.7373737373737375, 204, 1, 52, 7),\n",
       " (0.7474747474747475, 204, 1, 52, 7),\n",
       " (0.7575757575757577, 204, 1, 52, 7),\n",
       " (0.7676767676767677, 204, 1, 52, 7),\n",
       " (0.7777777777777778, 204, 1, 52, 7),\n",
       " (0.787878787878788, 204, 1, 52, 7),\n",
       " (0.797979797979798, 204, 1, 52, 7),\n",
       " (0.8080808080808082, 204, 1, 52, 7),\n",
       " (0.8181818181818182, 204, 1, 52, 7),\n",
       " (0.8282828282828284, 204, 1, 52, 7),\n",
       " (0.8383838383838385, 204, 1, 52, 7),\n",
       " (0.8484848484848485, 204, 0, 53, 7),\n",
       " (0.8585858585858587, 204, 0, 53, 7),\n",
       " (0.8686868686868687, 204, 0, 53, 7),\n",
       " (0.8787878787878789, 204, 0, 53, 7),\n",
       " (0.888888888888889, 204, 0, 53, 7),\n",
       " (0.8989898989898991, 204, 0, 53, 7),\n",
       " (0.9090909090909092, 204, 0, 53, 7),\n",
       " (0.9191919191919192, 204, 0, 53, 7),\n",
       " (0.9292929292929294, 204, 0, 53, 7),\n",
       " (0.9393939393939394, 204, 0, 53, 7),\n",
       " (0.9494949494949496, 204, 0, 53, 7),\n",
       " (0.9595959595959597, 204, 0, 53, 7),\n",
       " (0.9696969696969697, 203, 0, 53, 8),\n",
       " (0.9797979797979799, 203, 0, 53, 8),\n",
       " (0.98989898989899, 202, 0, 53, 9),\n",
       " (1.0, 179, 0, 53, 32)]"
      ]
     },
     "execution_count": 71,
     "metadata": {},
     "output_type": "execute_result"
    }
   ],
   "source": [
    "scores"
   ]
  },
  {
   "cell_type": "code",
   "execution_count": 72,
   "id": "89f19b83",
   "metadata": {},
   "outputs": [
    {
     "data": {
      "text/html": [
       "<div>\n",
       "<style scoped>\n",
       "    .dataframe tbody tr th:only-of-type {\n",
       "        vertical-align: middle;\n",
       "    }\n",
       "\n",
       "    .dataframe tbody tr th {\n",
       "        vertical-align: top;\n",
       "    }\n",
       "\n",
       "    .dataframe thead th {\n",
       "        text-align: right;\n",
       "    }\n",
       "</style>\n",
       "<table border=\"1\" class=\"dataframe\">\n",
       "  <thead>\n",
       "    <tr style=\"text-align: right;\">\n",
       "      <th></th>\n",
       "      <th>threshold</th>\n",
       "      <th>true_positive</th>\n",
       "      <th>false_positive</th>\n",
       "      <th>true_negative</th>\n",
       "      <th>false_negative</th>\n",
       "    </tr>\n",
       "  </thead>\n",
       "  <tbody>\n",
       "    <tr>\n",
       "      <th>0</th>\n",
       "      <td>0.000000</td>\n",
       "      <td>211</td>\n",
       "      <td>53</td>\n",
       "      <td>0</td>\n",
       "      <td>0</td>\n",
       "    </tr>\n",
       "    <tr>\n",
       "      <th>1</th>\n",
       "      <td>0.010101</td>\n",
       "      <td>211</td>\n",
       "      <td>34</td>\n",
       "      <td>19</td>\n",
       "      <td>0</td>\n",
       "    </tr>\n",
       "    <tr>\n",
       "      <th>2</th>\n",
       "      <td>0.020202</td>\n",
       "      <td>211</td>\n",
       "      <td>31</td>\n",
       "      <td>22</td>\n",
       "      <td>0</td>\n",
       "    </tr>\n",
       "    <tr>\n",
       "      <th>3</th>\n",
       "      <td>0.030303</td>\n",
       "      <td>211</td>\n",
       "      <td>24</td>\n",
       "      <td>29</td>\n",
       "      <td>0</td>\n",
       "    </tr>\n",
       "    <tr>\n",
       "      <th>4</th>\n",
       "      <td>0.040404</td>\n",
       "      <td>211</td>\n",
       "      <td>22</td>\n",
       "      <td>31</td>\n",
       "      <td>0</td>\n",
       "    </tr>\n",
       "    <tr>\n",
       "      <th>...</th>\n",
       "      <td>...</td>\n",
       "      <td>...</td>\n",
       "      <td>...</td>\n",
       "      <td>...</td>\n",
       "      <td>...</td>\n",
       "    </tr>\n",
       "    <tr>\n",
       "      <th>95</th>\n",
       "      <td>0.959596</td>\n",
       "      <td>204</td>\n",
       "      <td>0</td>\n",
       "      <td>53</td>\n",
       "      <td>7</td>\n",
       "    </tr>\n",
       "    <tr>\n",
       "      <th>96</th>\n",
       "      <td>0.969697</td>\n",
       "      <td>203</td>\n",
       "      <td>0</td>\n",
       "      <td>53</td>\n",
       "      <td>8</td>\n",
       "    </tr>\n",
       "    <tr>\n",
       "      <th>97</th>\n",
       "      <td>0.979798</td>\n",
       "      <td>203</td>\n",
       "      <td>0</td>\n",
       "      <td>53</td>\n",
       "      <td>8</td>\n",
       "    </tr>\n",
       "    <tr>\n",
       "      <th>98</th>\n",
       "      <td>0.989899</td>\n",
       "      <td>202</td>\n",
       "      <td>0</td>\n",
       "      <td>53</td>\n",
       "      <td>9</td>\n",
       "    </tr>\n",
       "    <tr>\n",
       "      <th>99</th>\n",
       "      <td>1.000000</td>\n",
       "      <td>179</td>\n",
       "      <td>0</td>\n",
       "      <td>53</td>\n",
       "      <td>32</td>\n",
       "    </tr>\n",
       "  </tbody>\n",
       "</table>\n",
       "<p>100 rows × 5 columns</p>\n",
       "</div>"
      ],
      "text/plain": [
       "    threshold  true_positive  false_positive  true_negative  false_negative\n",
       "0    0.000000            211              53              0               0\n",
       "1    0.010101            211              34             19               0\n",
       "2    0.020202            211              31             22               0\n",
       "3    0.030303            211              24             29               0\n",
       "4    0.040404            211              22             31               0\n",
       "..        ...            ...             ...            ...             ...\n",
       "95   0.959596            204               0             53               7\n",
       "96   0.969697            203               0             53               8\n",
       "97   0.979798            203               0             53               8\n",
       "98   0.989899            202               0             53               9\n",
       "99   1.000000            179               0             53              32\n",
       "\n",
       "[100 rows x 5 columns]"
      ]
     },
     "execution_count": 72,
     "metadata": {},
     "output_type": "execute_result"
    }
   ],
   "source": [
    "columns = ['threshold', 'true_positive', \n",
    "           'false_positive', 'true_negative', \n",
    "           'false_negative']\n",
    "\n",
    "df_scores = pd.DataFrame(scores, columns=columns)\n",
    "df_scores"
   ]
  },
  {
   "cell_type": "code",
   "execution_count": 73,
   "id": "e1ec8f77",
   "metadata": {},
   "outputs": [
    {
     "data": {
      "text/html": [
       "<div>\n",
       "<style scoped>\n",
       "    .dataframe tbody tr th:only-of-type {\n",
       "        vertical-align: middle;\n",
       "    }\n",
       "\n",
       "    .dataframe tbody tr th {\n",
       "        vertical-align: top;\n",
       "    }\n",
       "\n",
       "    .dataframe thead th {\n",
       "        text-align: right;\n",
       "    }\n",
       "</style>\n",
       "<table border=\"1\" class=\"dataframe\">\n",
       "  <thead>\n",
       "    <tr style=\"text-align: right;\">\n",
       "      <th></th>\n",
       "      <th>threshold</th>\n",
       "      <th>true_positive</th>\n",
       "      <th>false_positive</th>\n",
       "      <th>true_negative</th>\n",
       "      <th>false_negative</th>\n",
       "      <th>precision</th>\n",
       "      <th>recall</th>\n",
       "    </tr>\n",
       "  </thead>\n",
       "  <tbody>\n",
       "    <tr>\n",
       "      <th>0</th>\n",
       "      <td>0.000000</td>\n",
       "      <td>211</td>\n",
       "      <td>53</td>\n",
       "      <td>0</td>\n",
       "      <td>0</td>\n",
       "      <td>0.799242</td>\n",
       "      <td>1.000000</td>\n",
       "    </tr>\n",
       "    <tr>\n",
       "      <th>1</th>\n",
       "      <td>0.010101</td>\n",
       "      <td>211</td>\n",
       "      <td>34</td>\n",
       "      <td>19</td>\n",
       "      <td>0</td>\n",
       "      <td>0.861224</td>\n",
       "      <td>1.000000</td>\n",
       "    </tr>\n",
       "    <tr>\n",
       "      <th>2</th>\n",
       "      <td>0.020202</td>\n",
       "      <td>211</td>\n",
       "      <td>31</td>\n",
       "      <td>22</td>\n",
       "      <td>0</td>\n",
       "      <td>0.871901</td>\n",
       "      <td>1.000000</td>\n",
       "    </tr>\n",
       "    <tr>\n",
       "      <th>3</th>\n",
       "      <td>0.030303</td>\n",
       "      <td>211</td>\n",
       "      <td>24</td>\n",
       "      <td>29</td>\n",
       "      <td>0</td>\n",
       "      <td>0.897872</td>\n",
       "      <td>1.000000</td>\n",
       "    </tr>\n",
       "    <tr>\n",
       "      <th>4</th>\n",
       "      <td>0.040404</td>\n",
       "      <td>211</td>\n",
       "      <td>22</td>\n",
       "      <td>31</td>\n",
       "      <td>0</td>\n",
       "      <td>0.905579</td>\n",
       "      <td>1.000000</td>\n",
       "    </tr>\n",
       "    <tr>\n",
       "      <th>...</th>\n",
       "      <td>...</td>\n",
       "      <td>...</td>\n",
       "      <td>...</td>\n",
       "      <td>...</td>\n",
       "      <td>...</td>\n",
       "      <td>...</td>\n",
       "      <td>...</td>\n",
       "    </tr>\n",
       "    <tr>\n",
       "      <th>95</th>\n",
       "      <td>0.959596</td>\n",
       "      <td>204</td>\n",
       "      <td>0</td>\n",
       "      <td>53</td>\n",
       "      <td>7</td>\n",
       "      <td>1.000000</td>\n",
       "      <td>0.966825</td>\n",
       "    </tr>\n",
       "    <tr>\n",
       "      <th>96</th>\n",
       "      <td>0.969697</td>\n",
       "      <td>203</td>\n",
       "      <td>0</td>\n",
       "      <td>53</td>\n",
       "      <td>8</td>\n",
       "      <td>1.000000</td>\n",
       "      <td>0.962085</td>\n",
       "    </tr>\n",
       "    <tr>\n",
       "      <th>97</th>\n",
       "      <td>0.979798</td>\n",
       "      <td>203</td>\n",
       "      <td>0</td>\n",
       "      <td>53</td>\n",
       "      <td>8</td>\n",
       "      <td>1.000000</td>\n",
       "      <td>0.962085</td>\n",
       "    </tr>\n",
       "    <tr>\n",
       "      <th>98</th>\n",
       "      <td>0.989899</td>\n",
       "      <td>202</td>\n",
       "      <td>0</td>\n",
       "      <td>53</td>\n",
       "      <td>9</td>\n",
       "      <td>1.000000</td>\n",
       "      <td>0.957346</td>\n",
       "    </tr>\n",
       "    <tr>\n",
       "      <th>99</th>\n",
       "      <td>1.000000</td>\n",
       "      <td>179</td>\n",
       "      <td>0</td>\n",
       "      <td>53</td>\n",
       "      <td>32</td>\n",
       "      <td>1.000000</td>\n",
       "      <td>0.848341</td>\n",
       "    </tr>\n",
       "  </tbody>\n",
       "</table>\n",
       "<p>100 rows × 7 columns</p>\n",
       "</div>"
      ],
      "text/plain": [
       "    threshold  true_positive  false_positive  true_negative  false_negative  \\\n",
       "0    0.000000            211              53              0               0   \n",
       "1    0.010101            211              34             19               0   \n",
       "2    0.020202            211              31             22               0   \n",
       "3    0.030303            211              24             29               0   \n",
       "4    0.040404            211              22             31               0   \n",
       "..        ...            ...             ...            ...             ...   \n",
       "95   0.959596            204               0             53               7   \n",
       "96   0.969697            203               0             53               8   \n",
       "97   0.979798            203               0             53               8   \n",
       "98   0.989899            202               0             53               9   \n",
       "99   1.000000            179               0             53              32   \n",
       "\n",
       "    precision    recall  \n",
       "0    0.799242  1.000000  \n",
       "1    0.861224  1.000000  \n",
       "2    0.871901  1.000000  \n",
       "3    0.897872  1.000000  \n",
       "4    0.905579  1.000000  \n",
       "..        ...       ...  \n",
       "95   1.000000  0.966825  \n",
       "96   1.000000  0.962085  \n",
       "97   1.000000  0.962085  \n",
       "98   1.000000  0.957346  \n",
       "99   1.000000  0.848341  \n",
       "\n",
       "[100 rows x 7 columns]"
      ]
     },
     "execution_count": 73,
     "metadata": {},
     "output_type": "execute_result"
    }
   ],
   "source": [
    "# compute precision and recall to the dataframe\n",
    "\n",
    "df_scores['precision'] = df_scores.true_positive / (df_scores.true_positive + df_scores.false_positive)\n",
    "\n",
    "df_scores['recall'] = df_scores.true_positive / (df_scores.true_positive + df_scores.false_negative)\n",
    "\n",
    "df_scores\n"
   ]
  },
  {
   "cell_type": "code",
   "execution_count": 74,
   "id": "3cfd855e",
   "metadata": {},
   "outputs": [
    {
     "data": {
      "text/plain": [
       "<matplotlib.legend.Legend at 0x7fe14d10c3d0>"
      ]
     },
     "execution_count": 74,
     "metadata": {},
     "output_type": "execute_result"
    },
    {
     "data": {
      "image/png": "[encoded data removed]",
      "text/plain": [
       "<Figure size 432x288 with 1 Axes>"
      ]
     },
     "metadata": {
      "needs_background": "light"
     },
     "output_type": "display_data"
    }
   ],
   "source": [
    "# plotting\n",
    "\n",
    "plt.plot(df_scores.threshold, df_scores['precision'], label='Precision')\n",
    "plt.plot(df_scores.threshold, df_scores['recall'], label='Recall')\n",
    "plt.legend()"
   ]
  },
  {
   "cell_type": "markdown",
   "id": "bfdc5dcc",
   "metadata": {},
   "source": [
    "There is intersection between recall and precision at ==> **0.3 threshold**"
   ]
  },
  {
   "cell_type": "markdown",
   "id": "1e04a1a0",
   "metadata": {},
   "source": [
    "## Question 4\n",
    "- At which threshold F1 is maximal?\n",
    "\n",
    "From the plot between recall and precision, there are conflicting when plotted - when one grows, the other goes down. That's why they are often combined into the F1 score - a metrics that takes into account both\n",
    "\n",
    "F1 = 2 * P * R / (P + R)\n",
    "\n",
    "Where P is precision and R is recall.\n",
    "\n",
    "Let's compute F1 for all thresholds from 0.0 to 1.0 with increment 0.01"
   ]
  },
  {
   "cell_type": "code",
   "execution_count": 75,
   "id": "9cc3a625",
   "metadata": {},
   "outputs": [],
   "source": [
    "df_scores['F1'] = (2 * df_scores.precision * df_scores.recall) / (df_scores.precision + df_scores.recall)"
   ]
  },
  {
   "cell_type": "code",
   "execution_count": 76,
   "id": "2b684302",
   "metadata": {},
   "outputs": [
    {
     "data": {
      "text/html": [
       "<div>\n",
       "<style scoped>\n",
       "    .dataframe tbody tr th:only-of-type {\n",
       "        vertical-align: middle;\n",
       "    }\n",
       "\n",
       "    .dataframe tbody tr th {\n",
       "        vertical-align: top;\n",
       "    }\n",
       "\n",
       "    .dataframe thead th {\n",
       "        text-align: right;\n",
       "    }\n",
       "</style>\n",
       "<table border=\"1\" class=\"dataframe\">\n",
       "  <thead>\n",
       "    <tr style=\"text-align: right;\">\n",
       "      <th></th>\n",
       "      <th>threshold</th>\n",
       "      <th>true_positive</th>\n",
       "      <th>false_positive</th>\n",
       "      <th>true_negative</th>\n",
       "      <th>false_negative</th>\n",
       "      <th>precision</th>\n",
       "      <th>recall</th>\n",
       "      <th>F1</th>\n",
       "    </tr>\n",
       "  </thead>\n",
       "  <tbody>\n",
       "    <tr>\n",
       "      <th>0</th>\n",
       "      <td>0.000000</td>\n",
       "      <td>211</td>\n",
       "      <td>53</td>\n",
       "      <td>0</td>\n",
       "      <td>0</td>\n",
       "      <td>0.799242</td>\n",
       "      <td>1.0</td>\n",
       "      <td>0.888421</td>\n",
       "    </tr>\n",
       "    <tr>\n",
       "      <th>1</th>\n",
       "      <td>0.010101</td>\n",
       "      <td>211</td>\n",
       "      <td>34</td>\n",
       "      <td>19</td>\n",
       "      <td>0</td>\n",
       "      <td>0.861224</td>\n",
       "      <td>1.0</td>\n",
       "      <td>0.925439</td>\n",
       "    </tr>\n",
       "    <tr>\n",
       "      <th>2</th>\n",
       "      <td>0.020202</td>\n",
       "      <td>211</td>\n",
       "      <td>31</td>\n",
       "      <td>22</td>\n",
       "      <td>0</td>\n",
       "      <td>0.871901</td>\n",
       "      <td>1.0</td>\n",
       "      <td>0.931567</td>\n",
       "    </tr>\n",
       "    <tr>\n",
       "      <th>3</th>\n",
       "      <td>0.030303</td>\n",
       "      <td>211</td>\n",
       "      <td>24</td>\n",
       "      <td>29</td>\n",
       "      <td>0</td>\n",
       "      <td>0.897872</td>\n",
       "      <td>1.0</td>\n",
       "      <td>0.946188</td>\n",
       "    </tr>\n",
       "    <tr>\n",
       "      <th>4</th>\n",
       "      <td>0.040404</td>\n",
       "      <td>211</td>\n",
       "      <td>22</td>\n",
       "      <td>31</td>\n",
       "      <td>0</td>\n",
       "      <td>0.905579</td>\n",
       "      <td>1.0</td>\n",
       "      <td>0.950450</td>\n",
       "    </tr>\n",
       "  </tbody>\n",
       "</table>\n",
       "</div>"
      ],
      "text/plain": [
       "   threshold  true_positive  false_positive  true_negative  false_negative  \\\n",
       "0   0.000000            211              53              0               0   \n",
       "1   0.010101            211              34             19               0   \n",
       "2   0.020202            211              31             22               0   \n",
       "3   0.030303            211              24             29               0   \n",
       "4   0.040404            211              22             31               0   \n",
       "\n",
       "   precision  recall        F1  \n",
       "0   0.799242     1.0  0.888421  \n",
       "1   0.861224     1.0  0.925439  \n",
       "2   0.871901     1.0  0.931567  \n",
       "3   0.897872     1.0  0.946188  \n",
       "4   0.905579     1.0  0.950450  "
      ]
     },
     "execution_count": 76,
     "metadata": {},
     "output_type": "execute_result"
    }
   ],
   "source": [
    "df_scores.head()"
   ]
  },
  {
   "cell_type": "code",
   "execution_count": 77,
   "id": "18fd981c",
   "metadata": {},
   "outputs": [
    {
     "data": {
      "text/plain": [
       "<matplotlib.legend.Legend at 0x7fe14d153610>"
      ]
     },
     "execution_count": 77,
     "metadata": {},
     "output_type": "execute_result"
    },
    {
     "data": {
      "image/png": "[encoded data removed]",
      "text/plain": [
       "<Figure size 432x288 with 1 Axes>"
      ]
     },
     "metadata": {
      "needs_background": "light"
     },
     "output_type": "display_data"
    }
   ],
   "source": [
    "# plotting\n",
    "\n",
    "plt.plot(df_scores.threshold, df_scores['precision'], label='Precision')\n",
    "plt.plot(df_scores.threshold, df_scores['recall'], label='Recall')\n",
    "plt.plot(df_scores.threshold, df_scores['F1'], label='F1')\n",
    "plt.legend()"
   ]
  },
  {
   "cell_type": "markdown",
   "id": "c1987a3a",
   "metadata": {},
   "source": [
    "The F1 is at maximal at ==> **0.4 threshold**"
   ]
  },
  {
   "cell_type": "markdown",
   "id": "c5b26d8f",
   "metadata": {},
   "source": [
    "## Question 5\n",
    "\n",
    "- How large is standard devidation of the AUC scores across different folds?\n",
    "\n",
    "Procedures:\n",
    "\n",
    "Use the KFold class from Scikit-Learn to evaluate our model on 5 different folds:\n",
    "\n",
    "    KFold(n_splits=5, shuffle=True, random_state=1)\n",
    "\n",
    "- Iterate over different folds of df_full_train\n",
    "- Split the data into train and validation\n",
    "- Train the model on train with these parameters: LogisticRegression(solver='liblinear', C=1.0, max_iter=1000)\n",
    "- Use AUC to evaluate the model on validation"
   ]
  },
  {
   "cell_type": "code",
   "execution_count": 78,
   "id": "00b8ff39",
   "metadata": {},
   "outputs": [],
   "source": [
    "# importing kfold sklearn\n",
    "\n",
    "from sklearn.model_selection import KFold"
   ]
  },
  {
   "cell_type": "code",
   "execution_count": 79,
   "id": "d8c2940c",
   "metadata": {},
   "outputs": [],
   "source": [
    "kfold = KFold(n_splits=5, shuffle=True, random_state=1)"
   ]
  },
  {
   "cell_type": "code",
   "execution_count": 80,
   "id": "bf44c0bb",
   "metadata": {},
   "outputs": [],
   "source": [
    "train_idx, val_idx = next(kfold.split(df_full_train))"
   ]
  },
  {
   "cell_type": "code",
   "execution_count": 81,
   "id": "53dc469b",
   "metadata": {},
   "outputs": [
    {
     "data": {
      "text/plain": [
       "(844, 211)"
      ]
     },
     "execution_count": 81,
     "metadata": {},
     "output_type": "execute_result"
    }
   ],
   "source": [
    "# since we are splitting by 5, lets check the length\n",
    "\n",
    "len(train_idx), len(val_idx)"
   ]
  },
  {
   "cell_type": "code",
   "execution_count": 82,
   "id": "682a258f",
   "metadata": {},
   "outputs": [],
   "source": [
    "df_train = df_full_train.iloc[train_idx]\n",
    "df_val = df_full_train.iloc[val_idx]"
   ]
  },
  {
   "cell_type": "code",
   "execution_count": 83,
   "id": "eaf3cec9",
   "metadata": {},
   "outputs": [],
   "source": [
    "def train(df_train, y_train):\n",
    "    dicts = df_train[categorical_var + numerical_var].to_dict(orient='records')\n",
    "    \n",
    "    dv = DictVectorizer(sparse=False)\n",
    "    X_train = dv.fit_transform(dicts)\n",
    "    \n",
    "    model = LogisticRegression()\n",
    "    model.fit(X_train, y_train)\n",
    "    \n",
    "    return dv, model "
   ]
  },
  {
   "cell_type": "code",
   "execution_count": 84,
   "id": "302ea161",
   "metadata": {},
   "outputs": [],
   "source": [
    "def predict(df, dv, model):\n",
    "    dicts = df[categorical_var + numerical_var].to_dict(orient='records')\n",
    "    \n",
    "    X = dv.fit_transform(dicts)\n",
    "    \n",
    "    y_pred = model.predict_proba(X)[:, 1]\n",
    "    \n",
    "    return y_pred\n",
    "    "
   ]
  },
  {
   "cell_type": "code",
   "execution_count": 85,
   "id": "92c5aa3b",
   "metadata": {},
   "outputs": [],
   "source": [
    "# importing tqdm\n",
    "\n",
    "from tqdm.auto import tqdm\n",
    "from sklearn.metrics import roc_auc_score"
   ]
  },
  {
   "cell_type": "code",
   "execution_count": 86,
   "id": "4c561876",
   "metadata": {},
   "outputs": [
    {
     "data": {
      "application/vnd.jupyter.widget-view+json": {
       "model_id": "dae372fef9004fe192d9a8c49e0fd44d",
       "version_major": 2,
       "version_minor": 0
      },
      "text/plain": [
       "0it [00:00, ?it/s]"
      ]
     },
     "metadata": {},
     "output_type": "display_data"
    },
    {
     "name": "stderr",
     "output_type": "stream",
     "text": [
      "/Users/mac/opt/anaconda3/lib/python3.8/site-packages/sklearn/linear_model/_logistic.py:763: ConvergenceWarning: lbfgs failed to converge (status=1):\n",
      "STOP: TOTAL NO. of ITERATIONS REACHED LIMIT.\n",
      "\n",
      "Increase the number of iterations (max_iter) or scale the data as shown in:\n",
      "    https://scikit-learn.org/stable/modules/preprocessing.html\n",
      "Please also refer to the documentation for alternative solver options:\n",
      "    https://scikit-learn.org/stable/modules/linear_model.html#logistic-regression\n",
      "  n_iter_i = _check_optimize_result(\n",
      "/Users/mac/opt/anaconda3/lib/python3.8/site-packages/sklearn/linear_model/_logistic.py:763: ConvergenceWarning: lbfgs failed to converge (status=1):\n",
      "STOP: TOTAL NO. of ITERATIONS REACHED LIMIT.\n",
      "\n",
      "Increase the number of iterations (max_iter) or scale the data as shown in:\n",
      "    https://scikit-learn.org/stable/modules/preprocessing.html\n",
      "Please also refer to the documentation for alternative solver options:\n",
      "    https://scikit-learn.org/stable/modules/linear_model.html#logistic-regression\n",
      "  n_iter_i = _check_optimize_result(\n",
      "/Users/mac/opt/anaconda3/lib/python3.8/site-packages/sklearn/linear_model/_logistic.py:763: ConvergenceWarning: lbfgs failed to converge (status=1):\n",
      "STOP: TOTAL NO. of ITERATIONS REACHED LIMIT.\n",
      "\n",
      "Increase the number of iterations (max_iter) or scale the data as shown in:\n",
      "    https://scikit-learn.org/stable/modules/preprocessing.html\n",
      "Please also refer to the documentation for alternative solver options:\n",
      "    https://scikit-learn.org/stable/modules/linear_model.html#logistic-regression\n",
      "  n_iter_i = _check_optimize_result(\n",
      "/Users/mac/opt/anaconda3/lib/python3.8/site-packages/sklearn/linear_model/_logistic.py:763: ConvergenceWarning: lbfgs failed to converge (status=1):\n",
      "STOP: TOTAL NO. of ITERATIONS REACHED LIMIT.\n",
      "\n",
      "Increase the number of iterations (max_iter) or scale the data as shown in:\n",
      "    https://scikit-learn.org/stable/modules/preprocessing.html\n",
      "Please also refer to the documentation for alternative solver options:\n",
      "    https://scikit-learn.org/stable/modules/linear_model.html#logistic-regression\n",
      "  n_iter_i = _check_optimize_result(\n",
      "/Users/mac/opt/anaconda3/lib/python3.8/site-packages/sklearn/linear_model/_logistic.py:763: ConvergenceWarning: lbfgs failed to converge (status=1):\n",
      "STOP: TOTAL NO. of ITERATIONS REACHED LIMIT.\n",
      "\n",
      "Increase the number of iterations (max_iter) or scale the data as shown in:\n",
      "    https://scikit-learn.org/stable/modules/preprocessing.html\n",
      "Please also refer to the documentation for alternative solver options:\n",
      "    https://scikit-learn.org/stable/modules/linear_model.html#logistic-regression\n",
      "  n_iter_i = _check_optimize_result(\n"
     ]
    }
   ],
   "source": [
    "# put the above in a for loop\n",
    "\n",
    "scores = []\n",
    "\n",
    "for train_idx, val_idx in tqdm(kfold.split(df_full_train)):\n",
    "    df_train = df_full_train.iloc[train_idx]\n",
    "    df_val = df_full_train.iloc[val_idx]\n",
    "    \n",
    "    y_train = df_train.card.values\n",
    "    y_val = df_val.card.values\n",
    "    \n",
    "    dv, model = train(df_train, y_train)\n",
    "    y_pred = predict(df_val, dv, model)\n",
    "    \n",
    "    auc = roc_auc_score(y_val, y_pred)\n",
    "    scores.append(auc)"
   ]
  },
  {
   "cell_type": "code",
   "execution_count": 87,
   "id": "6b406ad6",
   "metadata": {},
   "outputs": [
    {
     "data": {
      "text/plain": [
       "[0.9940476190476191,\n",
       " 0.9943627450980392,\n",
       " 0.9940711462450593,\n",
       " 0.9996107939802803,\n",
       " 1.0]"
      ]
     },
     "execution_count": 87,
     "metadata": {},
     "output_type": "execute_result"
    }
   ],
   "source": [
    "scores"
   ]
  },
  {
   "cell_type": "code",
   "execution_count": 88,
   "id": "5a8cc205",
   "metadata": {},
   "outputs": [
    {
     "data": {
      "text/plain": [
       "(0.9964184608741995, 0.002770384719024136)"
      ]
     },
     "execution_count": 88,
     "metadata": {},
     "output_type": "execute_result"
    }
   ],
   "source": [
    "# computing the mean and standard dev\n",
    "\n",
    "np.mean(scores), np.std(scores)"
   ]
  },
  {
   "cell_type": "code",
   "execution_count": 89,
   "id": "5229796f",
   "metadata": {},
   "outputs": [
    {
     "name": "stdout",
     "output_type": "stream",
     "text": [
      "0.996 +- 0.003\n"
     ]
    }
   ],
   "source": [
    "print('%.3f +- %.3f' % (np.mean(scores), np.std(scores)))"
   ]
  },
  {
   "cell_type": "markdown",
   "id": "94e27bbb",
   "metadata": {},
   "source": [
    "The standard deviation of the auc across the Kfold is ==> **0.003(3dp)**"
   ]
  },
  {
   "cell_type": "markdown",
   "id": "2ce8c550",
   "metadata": {},
   "source": [
    "## Question 6\n",
    "- Which C leads to the best mean score?\n",
    "\n",
    "Using 5-Fold cross-validation to find the best parameter C:\n",
    "    Procedures:-\n",
    "- Iterate over the following C values: [0.01, 0.1, 1, 10]\n",
    "- Initialize KFold with the same parameters as previously\n",
    "- Use these parameters for the model: LogisticRegression(solver='liblinear', C=C, max_iter=1000)\n",
    "- Compute the mean score as well as the std (round the mean and std to 3 decimal digits"
   ]
  },
  {
   "cell_type": "code",
   "execution_count": 90,
   "id": "629ced88",
   "metadata": {},
   "outputs": [],
   "source": [
    "def train(df_train, y_train, C=1):\n",
    "    dicts = df_train[categorical_var + numerical_var].to_dict(orient='records')\n",
    "    \n",
    "    dv = DictVectorizer(sparse=False)\n",
    "    X_train = dv.fit_transform(dicts)\n",
    "    \n",
    "    model = LogisticRegression(solver='liblinear', C=C, max_iter=1000)\n",
    "    model.fit(X_train, y_train)\n",
    "    \n",
    "    return dv, model "
   ]
  },
  {
   "cell_type": "code",
   "execution_count": 91,
   "id": "c8460107",
   "metadata": {},
   "outputs": [],
   "source": [
    "def predict(df, dv, model):\n",
    "    dicts = df[categorical_var + numerical_var].to_dict(orient='records')\n",
    "    \n",
    "    X = dv.fit_transform(dicts)\n",
    "    \n",
    "    y_pred = model.predict_proba(X)[:, 1]\n",
    "    \n",
    "    return y_pred"
   ]
  },
  {
   "cell_type": "code",
   "execution_count": 92,
   "id": "5bfaafdb",
   "metadata": {},
   "outputs": [
    {
     "data": {
      "application/vnd.jupyter.widget-view+json": {
       "model_id": "2492bd03eceb4eefbe3137323d91443f",
       "version_major": 2,
       "version_minor": 0
      },
      "text/plain": [
       "  0%|          | 0/4 [00:00<?, ?it/s]"
      ]
     },
     "metadata": {},
     "output_type": "display_data"
    },
    {
     "name": "stdout",
     "output_type": "stream",
     "text": [
      "C=0.01 0.992 +- 0.006\n",
      "C=0.1 0.995 +- 0.004\n",
      "C=1 0.996 +- 0.003\n",
      "C=10 0.996 +- 0.003\n"
     ]
    }
   ],
   "source": [
    "n_splits = 5\n",
    "\n",
    "for C in tqdm([0.01, 0.1, 1, 10]):\n",
    "    \n",
    "    kfold = KFold(n_splits=n_splits, shuffle=True, random_state=1)\n",
    "\n",
    "    scores = []\n",
    "\n",
    "    for train_idx, val_idx in kfold.split(df_full_train):\n",
    "        df_train = df_full_train.iloc[train_idx]\n",
    "        df_val = df_full_train.iloc[val_idx]\n",
    "\n",
    "        y_train = df_train.card.values\n",
    "        y_val = df_val.card.values\n",
    "\n",
    "        dv, model = train(df_train, y_train, C=C)\n",
    "        y_pred = predict(df_val, dv, model)\n",
    "\n",
    "        auc = roc_auc_score(y_val, y_pred)\n",
    "        scores.append(auc)\n",
    "        \n",
    "    print('C=%s %.3f +- %.3f' % (C, np.mean(scores), np.std(scores)))"
   ]
  },
  {
   "cell_type": "markdown",
   "id": "afb8a7f2",
   "metadata": {},
   "source": [
    "The C parameter that leads to the best mean score is at ==> **1**"
   ]
  },
  {
   "cell_type": "code",
   "execution_count": null,
   "id": "fe9182c4",
   "metadata": {},
   "outputs": [],
   "source": []
  }
 ],
 "metadata": {
  "kernelspec": {
   "display_name": "Python 3",
   "language": "python",
   "name": "python3"
  },
  "language_info": {
   "codemirror_mode": {
    "name": "ipython",
    "version": 3
   },
   "file_extension": ".py",
   "mimetype": "text/x-python",
   "name": "python",
   "nbconvert_exporter": "python",
   "pygments_lexer": "ipython3",
   "version": "3.8.8"
  },
  "latex_envs": {
   "LaTeX_envs_menu_present": true,
   "autoclose": false,
   "autocomplete": true,
   "bibliofile": "biblio.bib",
   "cite_by": "apalike",
   "current_citInitial": 1,
   "eqLabelWithNumbers": true,
   "eqNumInitial": 1,
   "hotkeys": {
    "equation": "Ctrl-E",
    "itemize": "Ctrl-I"
   },
   "labels_anchors": false,
   "latex_user_defs": false,
   "report_style_numbering": false,
   "user_envs_cfg": false
  },
  "toc": {
   "base_numbering": 1,
   "nav_menu": {},
   "number_sections": true,
   "sideBar": true,
   "skip_h1_title": false,
   "title_cell": "Table of Contents",
   "title_sidebar": "Contents",
   "toc_cell": false,
   "toc_position": {},
   "toc_section_display": true,
   "toc_window_display": false
  }
 },
 "nbformat": 4,
 "nbformat_minor": 5
}
